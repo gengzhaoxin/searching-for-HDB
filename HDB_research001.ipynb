{
 "cells": [
  {
   "cell_type": "markdown",
   "metadata": {},
   "source": [
    "<h1>Finding the perfect HDB Block in Singapore</h1>"
   ]
  },
  {
   "cell_type": "markdown",
   "metadata": {},
   "source": [
    "<h2>1. Introduction</h2>"
   ]
  },
  {
   "cell_type": "markdown",
   "metadata": {},
   "source": [
    "<p>Singapore is a small but well-developed country in Southeast Asia. It has only one city, named Singapore, which has gained a reputation for holding first Trump-Kim Summit. Long before that, Singapore is always a very international city where locates most regional headquarters for top 500 fortune companies. According to the report of Department of Statistics Singapore, the proportion of Singapore citizens in the total population is only 61.56% in 2018, and for Permanent Residents and foreigners, it is 9.26% and 29.16% respectively. For people moving to Singapore, settling down and finding the perfect place to live would be the first thing to be considered.</p>"
   ]
  },
  {
   "cell_type": "markdown",
   "metadata": {},
   "source": [
    "<p>However, the current property recommendation system in Singapore is not as perfect as it should be.  Generally speaking, if someone decides to live in a new place, before contacting a specific property agent, he or she should clearly know that which location is a preference, as different districts usually have different agents. This question is tough to answer for residents in Singapore, especially those newcomer foreigners.  Singapore has no rural areas, and mature communities always have convenient transportation and life facilities. If your work location is in the CBD like Raffles Place, even if you live in the westmost or east most areas of Singapore, it may only take an hour from your home to where you work. If you can bear the distance for 30 minutes’ public transportation, you still have too many choices about where to live.  As a result, region factor cannot be in the first place to classify costumers in the local property market.</p>"
   ]
  },
  {
   "cell_type": "markdown",
   "metadata": {},
   "source": [
    "<p>In this report, I try to build a new property recommendation system for local agents. I believe customers’ different needs on lifestyles is beyond location preference in most cases in Singapore. For example, parents with young kids would take the distance to elite primary schools on as their priority, while international students and young employees maybe enjoy a rapid and modern lifestyle, and they might choose somewhere close to MRT, coffee shops and gyms.  So, I suggest we should firstly cluster properties types in the whole city (which is equal to the whole country) by differences of customers’ needs, then add that customers’ specific preferences to decide which regions and what blocks are the best choice for them. Over eighty percent of Singapore residents choose to live in HDB (Housing and Development Board) blocks, and the data about those HDB blocks are easy to get from government-supported websites. As a result, I narrowed down my research scope, and focus on HDB only.</p>"
   ]
  },
  {
   "cell_type": "markdown",
   "metadata": {},
   "source": [
    "<h2>2. Data</h2>"
   ]
  },
  {
   "cell_type": "markdown",
   "metadata": {},
   "source": [
    "<p>The data includes three aspects.</p>"
   ]
  },
  {
   "cell_type": "markdown",
   "metadata": {},
   "source": [
    "<h3>2.1 HDB related data</h3>"
   ]
  },
  {
   "cell_type": "markdown",
   "metadata": {},
   "source": [
    "**Basic building features**"
   ]
  },
  {
   "cell_type": "markdown",
   "metadata": {},
   "source": [
    "<p>I got a data set about all the HDB blocks(12132 blocks in total) in Singapore, from website \"https://data.gov.sg/\", which includes the block numbers, street names, flat areas, the built year and so on. I assumed that those blocks standing in the same street and built in the same year have similar features, and emerged them into a group. Eventually, I got 1570 block groups. As is shown(the first column shows the representative block of each group, the last column shows other similar blocks numbers that have the same street names): </p>"
   ]
  },
  {
   "cell_type": "code",
   "execution_count": 1,
   "metadata": {},
   "outputs": [
    {
     "data": {
      "text/html": [
       "<div>\n",
       "<style scoped>\n",
       "    .dataframe tbody tr th:only-of-type {\n",
       "        vertical-align: middle;\n",
       "    }\n",
       "\n",
       "    .dataframe tbody tr th {\n",
       "        vertical-align: top;\n",
       "    }\n",
       "\n",
       "    .dataframe thead th {\n",
       "        text-align: right;\n",
       "    }\n",
       "</style>\n",
       "<table border=\"1\" class=\"dataframe\">\n",
       "  <thead>\n",
       "    <tr style=\"text-align: right;\">\n",
       "      <th></th>\n",
       "      <th>blk_no</th>\n",
       "      <th>street</th>\n",
       "      <th>max_floor_lvl</th>\n",
       "      <th>year_completed</th>\n",
       "      <th>residential</th>\n",
       "      <th>commercial</th>\n",
       "      <th>market_hawker</th>\n",
       "      <th>miscellaneous</th>\n",
       "      <th>multistorey_carpark</th>\n",
       "      <th>precinct_pavilion</th>\n",
       "      <th>...</th>\n",
       "      <th>3room_sold</th>\n",
       "      <th>4room_sold</th>\n",
       "      <th>5room_sold</th>\n",
       "      <th>exec_sold</th>\n",
       "      <th>multigen_sold</th>\n",
       "      <th>studio_apartment_sold</th>\n",
       "      <th>1room_rental</th>\n",
       "      <th>2room_rental</th>\n",
       "      <th>3room_rental</th>\n",
       "      <th>other_room_rental</th>\n",
       "    </tr>\n",
       "  </thead>\n",
       "  <tbody>\n",
       "    <tr>\n",
       "      <th>0</th>\n",
       "      <td>1</td>\n",
       "      <td>BEACH RD</td>\n",
       "      <td>16</td>\n",
       "      <td>1970</td>\n",
       "      <td>Y</td>\n",
       "      <td>Y</td>\n",
       "      <td>N</td>\n",
       "      <td>N</td>\n",
       "      <td>N</td>\n",
       "      <td>N</td>\n",
       "      <td>...</td>\n",
       "      <td>138</td>\n",
       "      <td>1</td>\n",
       "      <td>2</td>\n",
       "      <td>0</td>\n",
       "      <td>0</td>\n",
       "      <td>0</td>\n",
       "      <td>0</td>\n",
       "      <td>0</td>\n",
       "      <td>0</td>\n",
       "      <td>0</td>\n",
       "    </tr>\n",
       "    <tr>\n",
       "      <th>1</th>\n",
       "      <td>1</td>\n",
       "      <td>BEDOK STH AVE 1</td>\n",
       "      <td>14</td>\n",
       "      <td>1975</td>\n",
       "      <td>Y</td>\n",
       "      <td>N</td>\n",
       "      <td>N</td>\n",
       "      <td>Y</td>\n",
       "      <td>N</td>\n",
       "      <td>N</td>\n",
       "      <td>...</td>\n",
       "      <td>204</td>\n",
       "      <td>0</td>\n",
       "      <td>2</td>\n",
       "      <td>0</td>\n",
       "      <td>0</td>\n",
       "      <td>0</td>\n",
       "      <td>0</td>\n",
       "      <td>0</td>\n",
       "      <td>0</td>\n",
       "      <td>0</td>\n",
       "    </tr>\n",
       "    <tr>\n",
       "      <th>2</th>\n",
       "      <td>1</td>\n",
       "      <td>CANTONMENT RD</td>\n",
       "      <td>2</td>\n",
       "      <td>2010</td>\n",
       "      <td>N</td>\n",
       "      <td>Y</td>\n",
       "      <td>N</td>\n",
       "      <td>N</td>\n",
       "      <td>N</td>\n",
       "      <td>N</td>\n",
       "      <td>...</td>\n",
       "      <td>0</td>\n",
       "      <td>0</td>\n",
       "      <td>0</td>\n",
       "      <td>0</td>\n",
       "      <td>0</td>\n",
       "      <td>0</td>\n",
       "      <td>0</td>\n",
       "      <td>0</td>\n",
       "      <td>0</td>\n",
       "      <td>0</td>\n",
       "    </tr>\n",
       "    <tr>\n",
       "      <th>3</th>\n",
       "      <td>1</td>\n",
       "      <td>CHAI CHEE RD</td>\n",
       "      <td>15</td>\n",
       "      <td>1982</td>\n",
       "      <td>Y</td>\n",
       "      <td>N</td>\n",
       "      <td>N</td>\n",
       "      <td>N</td>\n",
       "      <td>N</td>\n",
       "      <td>N</td>\n",
       "      <td>...</td>\n",
       "      <td>0</td>\n",
       "      <td>10</td>\n",
       "      <td>92</td>\n",
       "      <td>0</td>\n",
       "      <td>0</td>\n",
       "      <td>0</td>\n",
       "      <td>0</td>\n",
       "      <td>0</td>\n",
       "      <td>0</td>\n",
       "      <td>0</td>\n",
       "    </tr>\n",
       "    <tr>\n",
       "      <th>4</th>\n",
       "      <td>1</td>\n",
       "      <td>CHANGI VILLAGE RD</td>\n",
       "      <td>4</td>\n",
       "      <td>1975</td>\n",
       "      <td>Y</td>\n",
       "      <td>Y</td>\n",
       "      <td>N</td>\n",
       "      <td>N</td>\n",
       "      <td>N</td>\n",
       "      <td>N</td>\n",
       "      <td>...</td>\n",
       "      <td>54</td>\n",
       "      <td>0</td>\n",
       "      <td>1</td>\n",
       "      <td>0</td>\n",
       "      <td>0</td>\n",
       "      <td>0</td>\n",
       "      <td>0</td>\n",
       "      <td>0</td>\n",
       "      <td>0</td>\n",
       "      <td>0</td>\n",
       "    </tr>\n",
       "  </tbody>\n",
       "</table>\n",
       "<p>5 rows × 24 columns</p>\n",
       "</div>"
      ],
      "text/plain": [
       "  blk_no             street  max_floor_lvl  year_completed residential  \\\n",
       "0      1           BEACH RD             16            1970           Y   \n",
       "1      1    BEDOK STH AVE 1             14            1975           Y   \n",
       "2      1      CANTONMENT RD              2            2010           N   \n",
       "3      1       CHAI CHEE RD             15            1982           Y   \n",
       "4      1  CHANGI VILLAGE RD              4            1975           Y   \n",
       "\n",
       "  commercial market_hawker miscellaneous multistorey_carpark  \\\n",
       "0          Y             N             N                   N   \n",
       "1          N             N             Y                   N   \n",
       "2          Y             N             N                   N   \n",
       "3          N             N             N                   N   \n",
       "4          Y             N             N                   N   \n",
       "\n",
       "  precinct_pavilion  ... 3room_sold  4room_sold  5room_sold  exec_sold  \\\n",
       "0                 N  ...        138           1           2          0   \n",
       "1                 N  ...        204           0           2          0   \n",
       "2                 N  ...          0           0           0          0   \n",
       "3                 N  ...          0          10          92          0   \n",
       "4                 N  ...         54           0           1          0   \n",
       "\n",
       "   multigen_sold  studio_apartment_sold  1room_rental  2room_rental  \\\n",
       "0              0                      0             0             0   \n",
       "1              0                      0             0             0   \n",
       "2              0                      0             0             0   \n",
       "3              0                      0             0             0   \n",
       "4              0                      0             0             0   \n",
       "\n",
       "   3room_rental  other_room_rental  \n",
       "0             0                  0  \n",
       "1             0                  0  \n",
       "2             0                  0  \n",
       "3             0                  0  \n",
       "4             0                  0  \n",
       "\n",
       "[5 rows x 24 columns]"
      ]
     },
     "execution_count": 1,
     "metadata": {},
     "output_type": "execute_result"
    }
   ],
   "source": [
    "# import csv file that contains all blocks' information\n",
    "import pandas as pd\n",
    "filename = \"hdb-property-information.csv\"\n",
    "df=pd.read_csv(filename)\n",
    "df.head()"
   ]
  },
  {
   "cell_type": "code",
   "execution_count": 2,
   "metadata": {},
   "outputs": [
    {
     "data": {
      "text/plain": [
       "(12132, 24)"
      ]
     },
     "execution_count": 2,
     "metadata": {},
     "output_type": "execute_result"
    }
   ],
   "source": [
    "df.shape"
   ]
  },
  {
   "cell_type": "code",
   "execution_count": 4,
   "metadata": {},
   "outputs": [
    {
     "data": {
      "text/plain": [
       "(9274, 24)"
      ]
     },
     "execution_count": 4,
     "metadata": {},
     "output_type": "execute_result"
    }
   ],
   "source": [
    "# firstly delete those with no residents  and those built later than 2014 as they cannot be traded on market\n",
    "df2=df[df['residential']=='Y']\n",
    "df2=df2[df2['year_completed']<=2014]\n",
    "df2.shape"
   ]
  },
  {
   "cell_type": "code",
   "execution_count": 5,
   "metadata": {},
   "outputs": [],
   "source": [
    "# sort and reset the index \n",
    "df2=df2.sort_values(by=['street','year_completed','blk_no'])\n",
    "df2=df2.reset_index(drop=True)"
   ]
  },
  {
   "cell_type": "code",
   "execution_count": 7,
   "metadata": {},
   "outputs": [],
   "source": [
    "#save another file that shows the hdb blocks classification\n",
    "k=len(df2['blk_no'])"
   ]
  },
  {
   "cell_type": "code",
   "execution_count": 8,
   "metadata": {},
   "outputs": [],
   "source": [
    "#save the new csv file\n",
    "df3.to_csv(\"hdbinfor.csv\",index=False)\n",
    "df3 = df2\n",
    "df3['similar blocks'] = df2['blk_no'] "
   ]
  },
  {
   "cell_type": "code",
   "execution_count": 9,
   "metadata": {},
   "outputs": [],
   "source": [
    "#classify the blocks with street and year of completed\n",
    "for i in range(0,k-1):\n",
    "    if df3.loc[i,'street'] == df3.loc[i+1,'street']:\n",
    "        if df3.loc[i,'year_completed'] == df3.loc[i+1,'year_completed']:\n",
    "            df3.loc[i+1,'similar blocks'] = df3.loc[i,'similar blocks'] + ',' + df2.loc[i+1,'blk_no']"
   ]
  },
  {
   "cell_type": "code",
   "execution_count": 10,
   "metadata": {},
   "outputs": [],
   "source": [
    "# classify those HDB blocks by identifying the location and year of completed\n",
    "df4 = df3.drop_duplicates(['street','year_completed'], keep='last')"
   ]
  },
  {
   "cell_type": "code",
   "execution_count": 11,
   "metadata": {},
   "outputs": [
    {
     "data": {
      "text/html": [
       "<div>\n",
       "<style scoped>\n",
       "    .dataframe tbody tr th:only-of-type {\n",
       "        vertical-align: middle;\n",
       "    }\n",
       "\n",
       "    .dataframe tbody tr th {\n",
       "        vertical-align: top;\n",
       "    }\n",
       "\n",
       "    .dataframe thead th {\n",
       "        text-align: right;\n",
       "    }\n",
       "</style>\n",
       "<table border=\"1\" class=\"dataframe\">\n",
       "  <thead>\n",
       "    <tr style=\"text-align: right;\">\n",
       "      <th></th>\n",
       "      <th>blk_no</th>\n",
       "      <th>street</th>\n",
       "      <th>max_floor_lvl</th>\n",
       "      <th>year_completed</th>\n",
       "      <th>residential</th>\n",
       "      <th>commercial</th>\n",
       "      <th>market_hawker</th>\n",
       "      <th>miscellaneous</th>\n",
       "      <th>multistorey_carpark</th>\n",
       "      <th>precinct_pavilion</th>\n",
       "      <th>...</th>\n",
       "      <th>4room_sold</th>\n",
       "      <th>5room_sold</th>\n",
       "      <th>exec_sold</th>\n",
       "      <th>multigen_sold</th>\n",
       "      <th>studio_apartment_sold</th>\n",
       "      <th>1room_rental</th>\n",
       "      <th>2room_rental</th>\n",
       "      <th>3room_rental</th>\n",
       "      <th>other_room_rental</th>\n",
       "      <th>similar blocks</th>\n",
       "    </tr>\n",
       "  </thead>\n",
       "  <tbody>\n",
       "    <tr>\n",
       "      <th>21</th>\n",
       "      <td>469B</td>\n",
       "      <td>ADMIRALTY DR</td>\n",
       "      <td>16</td>\n",
       "      <td>1999</td>\n",
       "      <td>Y</td>\n",
       "      <td>N</td>\n",
       "      <td>N</td>\n",
       "      <td>N</td>\n",
       "      <td>N</td>\n",
       "      <td>N</td>\n",
       "      <td>...</td>\n",
       "      <td>72</td>\n",
       "      <td>48</td>\n",
       "      <td>54</td>\n",
       "      <td>0</td>\n",
       "      <td>0</td>\n",
       "      <td>0</td>\n",
       "      <td>0</td>\n",
       "      <td>0</td>\n",
       "      <td>0</td>\n",
       "      <td>356A,356B,356C,357,357A,357B,357C,359,359A,359...</td>\n",
       "    </tr>\n",
       "    <tr>\n",
       "      <th>30</th>\n",
       "      <td>467A</td>\n",
       "      <td>ADMIRALTY DR</td>\n",
       "      <td>16</td>\n",
       "      <td>2000</td>\n",
       "      <td>Y</td>\n",
       "      <td>Y</td>\n",
       "      <td>N</td>\n",
       "      <td>N</td>\n",
       "      <td>N</td>\n",
       "      <td>N</td>\n",
       "      <td>...</td>\n",
       "      <td>72</td>\n",
       "      <td>48</td>\n",
       "      <td>54</td>\n",
       "      <td>0</td>\n",
       "      <td>0</td>\n",
       "      <td>0</td>\n",
       "      <td>0</td>\n",
       "      <td>0</td>\n",
       "      <td>0</td>\n",
       "      <td>353A,353B,353C,354A,354B,354C,354D,467,467A</td>\n",
       "    </tr>\n",
       "    <tr>\n",
       "      <th>35</th>\n",
       "      <td>405</td>\n",
       "      <td>ADMIRALTY LINK</td>\n",
       "      <td>15</td>\n",
       "      <td>1999</td>\n",
       "      <td>Y</td>\n",
       "      <td>N</td>\n",
       "      <td>N</td>\n",
       "      <td>Y</td>\n",
       "      <td>N</td>\n",
       "      <td>N</td>\n",
       "      <td>...</td>\n",
       "      <td>112</td>\n",
       "      <td>0</td>\n",
       "      <td>0</td>\n",
       "      <td>0</td>\n",
       "      <td>0</td>\n",
       "      <td>0</td>\n",
       "      <td>0</td>\n",
       "      <td>0</td>\n",
       "      <td>0</td>\n",
       "      <td>401,402,403,404,405</td>\n",
       "    </tr>\n",
       "    <tr>\n",
       "      <th>37</th>\n",
       "      <td>485</td>\n",
       "      <td>ADMIRALTY LINK</td>\n",
       "      <td>16</td>\n",
       "      <td>2001</td>\n",
       "      <td>Y</td>\n",
       "      <td>N</td>\n",
       "      <td>N</td>\n",
       "      <td>N</td>\n",
       "      <td>N</td>\n",
       "      <td>N</td>\n",
       "      <td>...</td>\n",
       "      <td>154</td>\n",
       "      <td>0</td>\n",
       "      <td>0</td>\n",
       "      <td>0</td>\n",
       "      <td>0</td>\n",
       "      <td>0</td>\n",
       "      <td>0</td>\n",
       "      <td>0</td>\n",
       "      <td>0</td>\n",
       "      <td>484,485</td>\n",
       "    </tr>\n",
       "    <tr>\n",
       "      <th>41</th>\n",
       "      <td>493</td>\n",
       "      <td>ADMIRALTY LINK</td>\n",
       "      <td>21</td>\n",
       "      <td>2002</td>\n",
       "      <td>Y</td>\n",
       "      <td>N</td>\n",
       "      <td>N</td>\n",
       "      <td>N</td>\n",
       "      <td>N</td>\n",
       "      <td>N</td>\n",
       "      <td>...</td>\n",
       "      <td>82</td>\n",
       "      <td>59</td>\n",
       "      <td>0</td>\n",
       "      <td>0</td>\n",
       "      <td>0</td>\n",
       "      <td>0</td>\n",
       "      <td>0</td>\n",
       "      <td>0</td>\n",
       "      <td>0</td>\n",
       "      <td>486,491,492,493</td>\n",
       "    </tr>\n",
       "  </tbody>\n",
       "</table>\n",
       "<p>5 rows × 25 columns</p>\n",
       "</div>"
      ],
      "text/plain": [
       "   blk_no          street  max_floor_lvl  year_completed residential  \\\n",
       "21   469B    ADMIRALTY DR             16            1999           Y   \n",
       "30   467A    ADMIRALTY DR             16            2000           Y   \n",
       "35    405  ADMIRALTY LINK             15            1999           Y   \n",
       "37    485  ADMIRALTY LINK             16            2001           Y   \n",
       "41    493  ADMIRALTY LINK             21            2002           Y   \n",
       "\n",
       "   commercial market_hawker miscellaneous multistorey_carpark  \\\n",
       "21          N             N             N                   N   \n",
       "30          Y             N             N                   N   \n",
       "35          N             N             Y                   N   \n",
       "37          N             N             N                   N   \n",
       "41          N             N             N                   N   \n",
       "\n",
       "   precinct_pavilion  ... 4room_sold  5room_sold  exec_sold  multigen_sold  \\\n",
       "21                 N  ...         72          48         54              0   \n",
       "30                 N  ...         72          48         54              0   \n",
       "35                 N  ...        112           0          0              0   \n",
       "37                 N  ...        154           0          0              0   \n",
       "41                 N  ...         82          59          0              0   \n",
       "\n",
       "    studio_apartment_sold  1room_rental  2room_rental  3room_rental  \\\n",
       "21                      0             0             0             0   \n",
       "30                      0             0             0             0   \n",
       "35                      0             0             0             0   \n",
       "37                      0             0             0             0   \n",
       "41                      0             0             0             0   \n",
       "\n",
       "    other_room_rental                                     similar blocks  \n",
       "21                  0  356A,356B,356C,357,357A,357B,357C,359,359A,359...  \n",
       "30                  0        353A,353B,353C,354A,354B,354C,354D,467,467A  \n",
       "35                  0                                401,402,403,404,405  \n",
       "37                  0                                            484,485  \n",
       "41                  0                                    486,491,492,493  \n",
       "\n",
       "[5 rows x 25 columns]"
      ]
     },
     "execution_count": 11,
     "metadata": {},
     "output_type": "execute_result"
    }
   ],
   "source": [
    "df4.head()"
   ]
  },
  {
   "cell_type": "code",
   "execution_count": 13,
   "metadata": {},
   "outputs": [],
   "source": [
    "#save the new csv file\n",
    "df4.to_csv(\"simi_blocks.csv\",index=False)"
   ]
  },
  {
   "cell_type": "code",
   "execution_count": 20,
   "metadata": {},
   "outputs": [
    {
     "data": {
      "text/html": [
       "<div>\n",
       "<style scoped>\n",
       "    .dataframe tbody tr th:only-of-type {\n",
       "        vertical-align: middle;\n",
       "    }\n",
       "\n",
       "    .dataframe tbody tr th {\n",
       "        vertical-align: top;\n",
       "    }\n",
       "\n",
       "    .dataframe thead th {\n",
       "        text-align: right;\n",
       "    }\n",
       "</style>\n",
       "<table border=\"1\" class=\"dataframe\">\n",
       "  <thead>\n",
       "    <tr style=\"text-align: right;\">\n",
       "      <th></th>\n",
       "      <th>blk_no</th>\n",
       "      <th>street</th>\n",
       "      <th>max_floor_lvl</th>\n",
       "      <th>year_completed</th>\n",
       "      <th>residential</th>\n",
       "      <th>commercial</th>\n",
       "      <th>market_hawker</th>\n",
       "      <th>miscellaneous</th>\n",
       "      <th>multistorey_carpark</th>\n",
       "      <th>precinct_pavilion</th>\n",
       "      <th>...</th>\n",
       "      <th>4room_sold</th>\n",
       "      <th>5room_sold</th>\n",
       "      <th>exec_sold</th>\n",
       "      <th>multigen_sold</th>\n",
       "      <th>studio_apartment_sold</th>\n",
       "      <th>1room_rental</th>\n",
       "      <th>2room_rental</th>\n",
       "      <th>3room_rental</th>\n",
       "      <th>other_room_rental</th>\n",
       "      <th>similar blocks</th>\n",
       "    </tr>\n",
       "  </thead>\n",
       "  <tbody>\n",
       "    <tr>\n",
       "      <th>0</th>\n",
       "      <td>469B</td>\n",
       "      <td>ADMIRALTY DR</td>\n",
       "      <td>16</td>\n",
       "      <td>1999</td>\n",
       "      <td>Y</td>\n",
       "      <td>N</td>\n",
       "      <td>N</td>\n",
       "      <td>N</td>\n",
       "      <td>N</td>\n",
       "      <td>N</td>\n",
       "      <td>...</td>\n",
       "      <td>72</td>\n",
       "      <td>48</td>\n",
       "      <td>54</td>\n",
       "      <td>0</td>\n",
       "      <td>0</td>\n",
       "      <td>0</td>\n",
       "      <td>0</td>\n",
       "      <td>0</td>\n",
       "      <td>0</td>\n",
       "      <td>356A,356B,356C,357,357A,357B,357C,359,359A,359...</td>\n",
       "    </tr>\n",
       "    <tr>\n",
       "      <th>1</th>\n",
       "      <td>467A</td>\n",
       "      <td>ADMIRALTY DR</td>\n",
       "      <td>16</td>\n",
       "      <td>2000</td>\n",
       "      <td>Y</td>\n",
       "      <td>Y</td>\n",
       "      <td>N</td>\n",
       "      <td>N</td>\n",
       "      <td>N</td>\n",
       "      <td>N</td>\n",
       "      <td>...</td>\n",
       "      <td>72</td>\n",
       "      <td>48</td>\n",
       "      <td>54</td>\n",
       "      <td>0</td>\n",
       "      <td>0</td>\n",
       "      <td>0</td>\n",
       "      <td>0</td>\n",
       "      <td>0</td>\n",
       "      <td>0</td>\n",
       "      <td>353A,353B,353C,354A,354B,354C,354D,467,467A</td>\n",
       "    </tr>\n",
       "    <tr>\n",
       "      <th>2</th>\n",
       "      <td>405</td>\n",
       "      <td>ADMIRALTY LINK</td>\n",
       "      <td>15</td>\n",
       "      <td>1999</td>\n",
       "      <td>Y</td>\n",
       "      <td>N</td>\n",
       "      <td>N</td>\n",
       "      <td>Y</td>\n",
       "      <td>N</td>\n",
       "      <td>N</td>\n",
       "      <td>...</td>\n",
       "      <td>112</td>\n",
       "      <td>0</td>\n",
       "      <td>0</td>\n",
       "      <td>0</td>\n",
       "      <td>0</td>\n",
       "      <td>0</td>\n",
       "      <td>0</td>\n",
       "      <td>0</td>\n",
       "      <td>0</td>\n",
       "      <td>401,402,403,404,405</td>\n",
       "    </tr>\n",
       "    <tr>\n",
       "      <th>3</th>\n",
       "      <td>485</td>\n",
       "      <td>ADMIRALTY LINK</td>\n",
       "      <td>16</td>\n",
       "      <td>2001</td>\n",
       "      <td>Y</td>\n",
       "      <td>N</td>\n",
       "      <td>N</td>\n",
       "      <td>N</td>\n",
       "      <td>N</td>\n",
       "      <td>N</td>\n",
       "      <td>...</td>\n",
       "      <td>154</td>\n",
       "      <td>0</td>\n",
       "      <td>0</td>\n",
       "      <td>0</td>\n",
       "      <td>0</td>\n",
       "      <td>0</td>\n",
       "      <td>0</td>\n",
       "      <td>0</td>\n",
       "      <td>0</td>\n",
       "      <td>484,485</td>\n",
       "    </tr>\n",
       "    <tr>\n",
       "      <th>4</th>\n",
       "      <td>493</td>\n",
       "      <td>ADMIRALTY LINK</td>\n",
       "      <td>21</td>\n",
       "      <td>2002</td>\n",
       "      <td>Y</td>\n",
       "      <td>N</td>\n",
       "      <td>N</td>\n",
       "      <td>N</td>\n",
       "      <td>N</td>\n",
       "      <td>N</td>\n",
       "      <td>...</td>\n",
       "      <td>82</td>\n",
       "      <td>59</td>\n",
       "      <td>0</td>\n",
       "      <td>0</td>\n",
       "      <td>0</td>\n",
       "      <td>0</td>\n",
       "      <td>0</td>\n",
       "      <td>0</td>\n",
       "      <td>0</td>\n",
       "      <td>486,491,492,493</td>\n",
       "    </tr>\n",
       "  </tbody>\n",
       "</table>\n",
       "<p>5 rows × 25 columns</p>\n",
       "</div>"
      ],
      "text/plain": [
       "  blk_no          street  max_floor_lvl  year_completed residential  \\\n",
       "0   469B    ADMIRALTY DR             16            1999           Y   \n",
       "1   467A    ADMIRALTY DR             16            2000           Y   \n",
       "2    405  ADMIRALTY LINK             15            1999           Y   \n",
       "3    485  ADMIRALTY LINK             16            2001           Y   \n",
       "4    493  ADMIRALTY LINK             21            2002           Y   \n",
       "\n",
       "  commercial market_hawker miscellaneous multistorey_carpark  \\\n",
       "0          N             N             N                   N   \n",
       "1          Y             N             N                   N   \n",
       "2          N             N             Y                   N   \n",
       "3          N             N             N                   N   \n",
       "4          N             N             N                   N   \n",
       "\n",
       "  precinct_pavilion  ... 4room_sold  5room_sold  exec_sold  multigen_sold  \\\n",
       "0                 N  ...         72          48         54              0   \n",
       "1                 N  ...         72          48         54              0   \n",
       "2                 N  ...        112           0          0              0   \n",
       "3                 N  ...        154           0          0              0   \n",
       "4                 N  ...         82          59          0              0   \n",
       "\n",
       "   studio_apartment_sold  1room_rental  2room_rental  3room_rental  \\\n",
       "0                      0             0             0             0   \n",
       "1                      0             0             0             0   \n",
       "2                      0             0             0             0   \n",
       "3                      0             0             0             0   \n",
       "4                      0             0             0             0   \n",
       "\n",
       "   other_room_rental                                     similar blocks  \n",
       "0                  0  356A,356B,356C,357,357A,357B,357C,359,359A,359...  \n",
       "1                  0        353A,353B,353C,354A,354B,354C,354D,467,467A  \n",
       "2                  0                                401,402,403,404,405  \n",
       "3                  0                                            484,485  \n",
       "4                  0                                    486,491,492,493  \n",
       "\n",
       "[5 rows x 25 columns]"
      ]
     },
     "execution_count": 20,
     "metadata": {},
     "output_type": "execute_result"
    }
   ],
   "source": [
    "# import the csv file about similar blocks that I created before\n",
    "import pandas as pd\n",
    "filename = \"simi_blocks.csv\"\n",
    "df00 = pd.read_csv(filename)\n",
    "df00.head()"
   ]
  },
  {
   "cell_type": "markdown",
   "metadata": {},
   "source": [
    "**location data**"
   ]
  },
  {
   "cell_type": "markdown",
   "metadata": {},
   "source": [
    "<p>Getting location data is necessary for our report for two reasons. Firstly, by using location data of each block, we can get venue features from Foursquare, the lifestyles reflected by venue features are essential for our analysis. Secondly, we can compute the distance between each block and other life facilities such as primary school.</p>\n",
    "<p>By using the package Geocoder in Python, I got the latitudes and longitudes of the 1570 representative blocks. Then I create a map by adding the price index/p>"
   ]
  },
  {
   "cell_type": "code",
   "execution_count": 21,
   "metadata": {},
   "outputs": [
    {
     "name": "stdout",
     "output_type": "stream",
     "text": [
      "The geograpical coordinate of Manhattan are 1.4562348, 103.8183584.\n"
     ]
    }
   ],
   "source": [
    " # convert an address into latitude and longitude values\n",
    "from geopy.geocoders import Nominatim\n",
    "geolocator = Nominatim(user_agent=\"ny_explorer\")\n",
    "location = geolocator.geocode(\"{},{},Singapore\".format('493','ADMIRALTY LINK'))\n",
    "latitude = location.latitude\n",
    "longitude = location.longitude\n",
    "print('The geograpical coordinate of Manhattan are {}, {}.'.format(latitude, longitude))"
   ]
  },
  {
   "cell_type": "code",
   "execution_count": null,
   "metadata": {},
   "outputs": [],
   "source": [
    "# using loop to get all the locations info\n",
    "k=len(df00['blk_no'])\n",
    "latitude = []\n",
    "longitude = []\n",
    "\n",
    "# split the dataset if it is too big\n",
    "for i in range(0,k):\n",
    "    blk_no = df00.loc[i,'blk_no']\n",
    "    street = df00.loc[i,'street']\n",
    "    location = geolocator.geocode(\"{},{},Singapore\".format(blk_no, street))\n",
    "    if location:\n",
    "        latitude.append(location.latitude)\n",
    "        longitude.append(location.longitude)\n",
    "    else:\n",
    "        latitude.append('not get')\n",
    "        longitude.append('not get')\n",
    "# print(i, blk_no, street, latitude[i],longitude[i])"
   ]
  },
  {
   "cell_type": "code",
   "execution_count": null,
   "metadata": {},
   "outputs": [],
   "source": [
    "# add location info to dataset\n",
    "df00['latitude']=latitue\n",
    "df00['longitude']=longitude"
   ]
  },
  {
   "cell_type": "code",
   "execution_count": null,
   "metadata": {},
   "outputs": [],
   "source": [
    "df00.to_csv(\"blocks_all_clear.csv\",index=False)"
   ]
  },
  {
   "cell_type": "markdown",
   "metadata": {},
   "source": [
    "**price feature**"
   ]
  },
  {
   "cell_type": "markdown",
   "metadata": {},
   "source": [
    "<p>Price is a significant factor in making decisions about renting or buying houses. However, the data set I got from the above website didn't include the price feature. So, I decided to collect that kind of data from the local property website. And I chose the site \"https://www.srx.com.sg/\", which is from SRX company. By inputting the street name and block number of a particular block, we can get a web page that shows a list of selling price details. I use the mean price from that list of blocks as our index. The related codes are shown bellow:</p> "
   ]
  },
  {
   "cell_type": "code",
   "execution_count": 15,
   "metadata": {},
   "outputs": [],
   "source": [
    "from bs4 import BeautifulSoup as soup\n",
    "from urllib.request import urlopen as uReq"
   ]
  },
  {
   "cell_type": "code",
   "execution_count": 17,
   "metadata": {},
   "outputs": [],
   "source": [
    "import pandas as pd\n",
    "df00=pd.read_csv('blocks_all_clear.csv')"
   ]
  },
  {
   "cell_type": "code",
   "execution_count": 18,
   "metadata": {},
   "outputs": [
    {
     "data": {
      "text/html": [
       "<div>\n",
       "<style scoped>\n",
       "    .dataframe tbody tr th:only-of-type {\n",
       "        vertical-align: middle;\n",
       "    }\n",
       "\n",
       "    .dataframe tbody tr th {\n",
       "        vertical-align: top;\n",
       "    }\n",
       "\n",
       "    .dataframe thead th {\n",
       "        text-align: right;\n",
       "    }\n",
       "</style>\n",
       "<table border=\"1\" class=\"dataframe\">\n",
       "  <thead>\n",
       "    <tr style=\"text-align: right;\">\n",
       "      <th></th>\n",
       "      <th>blk_no</th>\n",
       "      <th>street</th>\n",
       "      <th>max_floor_lvl</th>\n",
       "      <th>year_completed</th>\n",
       "      <th>residential</th>\n",
       "      <th>commercial</th>\n",
       "      <th>market_hawker</th>\n",
       "      <th>miscellaneous</th>\n",
       "      <th>multistorey_carpark</th>\n",
       "      <th>precinct_pavilion</th>\n",
       "      <th>...</th>\n",
       "      <th>5room_sold</th>\n",
       "      <th>exec_sold</th>\n",
       "      <th>multigen_sold</th>\n",
       "      <th>studio_apartment_sold</th>\n",
       "      <th>1room_rental</th>\n",
       "      <th>2room_rental</th>\n",
       "      <th>3room_rental</th>\n",
       "      <th>other_room_rental</th>\n",
       "      <th>longitude</th>\n",
       "      <th>latitude</th>\n",
       "    </tr>\n",
       "  </thead>\n",
       "  <tbody>\n",
       "    <tr>\n",
       "      <th>0</th>\n",
       "      <td>905</td>\n",
       "      <td>JURONG WEST ST 91</td>\n",
       "      <td>4</td>\n",
       "      <td>1987</td>\n",
       "      <td>Y</td>\n",
       "      <td>N</td>\n",
       "      <td>N</td>\n",
       "      <td>N</td>\n",
       "      <td>N</td>\n",
       "      <td>N</td>\n",
       "      <td>...</td>\n",
       "      <td>12</td>\n",
       "      <td>0</td>\n",
       "      <td>0</td>\n",
       "      <td>0</td>\n",
       "      <td>0</td>\n",
       "      <td>0</td>\n",
       "      <td>0</td>\n",
       "      <td>0</td>\n",
       "      <td>103.685195</td>\n",
       "      <td>1.340552</td>\n",
       "    </tr>\n",
       "    <tr>\n",
       "      <th>1</th>\n",
       "      <td>904</td>\n",
       "      <td>JURONG WEST ST 91</td>\n",
       "      <td>12</td>\n",
       "      <td>1986</td>\n",
       "      <td>Y</td>\n",
       "      <td>N</td>\n",
       "      <td>N</td>\n",
       "      <td>N</td>\n",
       "      <td>N</td>\n",
       "      <td>N</td>\n",
       "      <td>...</td>\n",
       "      <td>0</td>\n",
       "      <td>0</td>\n",
       "      <td>0</td>\n",
       "      <td>0</td>\n",
       "      <td>0</td>\n",
       "      <td>0</td>\n",
       "      <td>0</td>\n",
       "      <td>0</td>\n",
       "      <td>103.685985</td>\n",
       "      <td>1.340243</td>\n",
       "    </tr>\n",
       "    <tr>\n",
       "      <th>2</th>\n",
       "      <td>902</td>\n",
       "      <td>JURONG WEST ST 91</td>\n",
       "      <td>13</td>\n",
       "      <td>1988</td>\n",
       "      <td>Y</td>\n",
       "      <td>N</td>\n",
       "      <td>N</td>\n",
       "      <td>N</td>\n",
       "      <td>N</td>\n",
       "      <td>N</td>\n",
       "      <td>...</td>\n",
       "      <td>42</td>\n",
       "      <td>0</td>\n",
       "      <td>0</td>\n",
       "      <td>0</td>\n",
       "      <td>0</td>\n",
       "      <td>0</td>\n",
       "      <td>0</td>\n",
       "      <td>0</td>\n",
       "      <td>103.686378</td>\n",
       "      <td>1.339179</td>\n",
       "    </tr>\n",
       "    <tr>\n",
       "      <th>3</th>\n",
       "      <td>920</td>\n",
       "      <td>JURONG WEST ST 92</td>\n",
       "      <td>13</td>\n",
       "      <td>1987</td>\n",
       "      <td>Y</td>\n",
       "      <td>Y</td>\n",
       "      <td>N</td>\n",
       "      <td>N</td>\n",
       "      <td>N</td>\n",
       "      <td>N</td>\n",
       "      <td>...</td>\n",
       "      <td>51</td>\n",
       "      <td>0</td>\n",
       "      <td>0</td>\n",
       "      <td>0</td>\n",
       "      <td>0</td>\n",
       "      <td>0</td>\n",
       "      <td>0</td>\n",
       "      <td>0</td>\n",
       "      <td>103.688119</td>\n",
       "      <td>1.339853</td>\n",
       "    </tr>\n",
       "    <tr>\n",
       "      <th>4</th>\n",
       "      <td>925</td>\n",
       "      <td>JURONG WEST ST 92</td>\n",
       "      <td>12</td>\n",
       "      <td>1986</td>\n",
       "      <td>Y</td>\n",
       "      <td>N</td>\n",
       "      <td>N</td>\n",
       "      <td>N</td>\n",
       "      <td>N</td>\n",
       "      <td>N</td>\n",
       "      <td>...</td>\n",
       "      <td>0</td>\n",
       "      <td>0</td>\n",
       "      <td>0</td>\n",
       "      <td>0</td>\n",
       "      <td>0</td>\n",
       "      <td>0</td>\n",
       "      <td>0</td>\n",
       "      <td>0</td>\n",
       "      <td>103.689156</td>\n",
       "      <td>1.340186</td>\n",
       "    </tr>\n",
       "  </tbody>\n",
       "</table>\n",
       "<p>5 rows × 26 columns</p>\n",
       "</div>"
      ],
      "text/plain": [
       "  blk_no             street  max_floor_lvl  year_completed residential  \\\n",
       "0    905  JURONG WEST ST 91              4            1987           Y   \n",
       "1    904  JURONG WEST ST 91             12            1986           Y   \n",
       "2    902  JURONG WEST ST 91             13            1988           Y   \n",
       "3    920  JURONG WEST ST 92             13            1987           Y   \n",
       "4    925  JURONG WEST ST 92             12            1986           Y   \n",
       "\n",
       "  commercial market_hawker miscellaneous multistorey_carpark  \\\n",
       "0          N             N             N                   N   \n",
       "1          N             N             N                   N   \n",
       "2          N             N             N                   N   \n",
       "3          Y             N             N                   N   \n",
       "4          N             N             N                   N   \n",
       "\n",
       "  precinct_pavilion  ... 5room_sold  exec_sold  multigen_sold  \\\n",
       "0                 N  ...         12          0              0   \n",
       "1                 N  ...          0          0              0   \n",
       "2                 N  ...         42          0              0   \n",
       "3                 N  ...         51          0              0   \n",
       "4                 N  ...          0          0              0   \n",
       "\n",
       "   studio_apartment_sold  1room_rental  2room_rental  3room_rental  \\\n",
       "0                      0             0             0             0   \n",
       "1                      0             0             0             0   \n",
       "2                      0             0             0             0   \n",
       "3                      0             0             0             0   \n",
       "4                      0             0             0             0   \n",
       "\n",
       "   other_room_rental   longitude  latitude  \n",
       "0                  0  103.685195  1.340552  \n",
       "1                  0  103.685985  1.340243  \n",
       "2                  0  103.686378  1.339179  \n",
       "3                  0  103.688119  1.339853  \n",
       "4                  0  103.689156  1.340186  \n",
       "\n",
       "[5 rows x 26 columns]"
      ]
     },
     "execution_count": 18,
     "metadata": {},
     "output_type": "execute_result"
    }
   ],
   "source": [
    "df00.head()"
   ]
  },
  {
   "cell_type": "code",
   "execution_count": 19,
   "metadata": {},
   "outputs": [],
   "source": [
    "# prepare street variable for keyword search\n",
    "bstreet=[]\n",
    "for i in range(0,1570):\n",
    "    bstreet.append(df00[\"street\"][i].replace(\" \",\"+\"))"
   ]
  },
  {
   "cell_type": "code",
   "execution_count": null,
   "metadata": {},
   "outputs": [],
   "source": [
    "# get mean value of price from website\n",
    "import re\n",
    "import time\n",
    "\n",
    "b_psf_mean = []\n",
    "\n",
    "# change the value of range maxium if it is diffult to get all the data\n",
    "for j in range(0,1570):\n",
    "    path = 'https://www.srx.com.sg/search/sale/hdb/{}+{}'.format(df00['blk_no'][j],bstreet[j])\n",
    "    res = uReq(path)\n",
    "    time.sleep(3)\n",
    "    page_html = res.read()\n",
    "    res.close()\n",
    "    \n",
    "    page_soup = soup(page_html, \"html.parser\")\n",
    "    page_body = page_soup.find(id=\"listingsResult\")\n",
    "    page_list = page_body.find_all('div', class_=\"listing\")\n",
    "    k=len(page_list)\n",
    "    sum = 0\n",
    "    n = 0\n",
    "    for i in range(0,k):\n",
    "        blist = page_list[i].find(class_=\"listingDetailType\")\n",
    "        if blist:\n",
    "            b_time = blist.strong\n",
    "            if b_time:\n",
    "                btime = b_time.text\n",
    "                m = int(btime) - df00['year_completed'][j]\n",
    "                if -3<m<3:\n",
    "                    bpsf = page_list[i].find(class_=\"listingDetailPsf\")\n",
    "                    if bpsf:\n",
    "                        b_psf = bpsf.text\n",
    "                        b_psf = int(re.sub(\"\\D\", \"\", b_psf))\n",
    "                        sum = sum + b_psf\n",
    "                        n = n + 1\n",
    "    if n!=0:\n",
    "        b_psf_mean.append(sum/n)\n",
    "    else:\n",
    "        b_psf_mean.append(\"not get\")\n",
    "    # print(j,b_psf_mean[j])"
   ]
  },
  {
   "cell_type": "code",
   "execution_count": null,
   "metadata": {},
   "outputs": [],
   "source": [
    "#save the results\n",
    "df00['psf_sale'] = b_psf_mean\n",
    "df00.to_csv(\"0_blocks_include_price.csv\",index=False)"
   ]
  },
  {
   "cell_type": "markdown",
   "metadata": {},
   "source": [
    "<h4> Location data and price data in the same map<h4>"
   ]
  },
  {
   "cell_type": "code",
   "execution_count": 2,
   "metadata": {},
   "outputs": [
    {
     "data": {
      "text/html": [
       "<div>\n",
       "<style scoped>\n",
       "    .dataframe tbody tr th:only-of-type {\n",
       "        vertical-align: middle;\n",
       "    }\n",
       "\n",
       "    .dataframe tbody tr th {\n",
       "        vertical-align: top;\n",
       "    }\n",
       "\n",
       "    .dataframe thead th {\n",
       "        text-align: right;\n",
       "    }\n",
       "</style>\n",
       "<table border=\"1\" class=\"dataframe\">\n",
       "  <thead>\n",
       "    <tr style=\"text-align: right;\">\n",
       "      <th></th>\n",
       "      <th>psf_sale</th>\n",
       "      <th>blk_no</th>\n",
       "      <th>street</th>\n",
       "      <th>max_floor_lvl</th>\n",
       "      <th>year_completed</th>\n",
       "      <th>residential</th>\n",
       "      <th>commercial</th>\n",
       "      <th>market_hawker</th>\n",
       "      <th>miscellaneous</th>\n",
       "      <th>multistorey_carpark</th>\n",
       "      <th>...</th>\n",
       "      <th>other_room_rental</th>\n",
       "      <th>longitude</th>\n",
       "      <th>latitude</th>\n",
       "      <th>dis_MRT</th>\n",
       "      <th>prim_no</th>\n",
       "      <th>dis_mind</th>\n",
       "      <th>mind_name</th>\n",
       "      <th>dis_fairprice</th>\n",
       "      <th>dis_pool</th>\n",
       "      <th>pool_name</th>\n",
       "    </tr>\n",
       "  </thead>\n",
       "  <tbody>\n",
       "    <tr>\n",
       "      <th>1529</th>\n",
       "      <td>not get</td>\n",
       "      <td>26</td>\n",
       "      <td>SECTOR A SIN MING IND EST</td>\n",
       "      <td>12</td>\n",
       "      <td>1974</td>\n",
       "      <td>Y</td>\n",
       "      <td>N</td>\n",
       "      <td>N</td>\n",
       "      <td>Y</td>\n",
       "      <td>N</td>\n",
       "      <td>...</td>\n",
       "      <td>0</td>\n",
       "      <td>103.84059</td>\n",
       "      <td>1.355788</td>\n",
       "      <td>775.364018</td>\n",
       "      <td>0.0</td>\n",
       "      <td>778.019592</td>\n",
       "      <td>Bishan</td>\n",
       "      <td>394.125536</td>\n",
       "      <td>1070.582376</td>\n",
       "      <td>City Square Mall</td>\n",
       "    </tr>\n",
       "  </tbody>\n",
       "</table>\n",
       "<p>1 rows × 34 columns</p>\n",
       "</div>"
      ],
      "text/plain": [
       "     psf_sale blk_no                     street  max_floor_lvl  \\\n",
       "1529  not get     26  SECTOR A SIN MING IND EST             12   \n",
       "\n",
       "      year_completed residential commercial market_hawker miscellaneous  \\\n",
       "1529            1974           Y          N             N             Y   \n",
       "\n",
       "     multistorey_carpark  ... other_room_rental  longitude  latitude  \\\n",
       "1529                   N  ...                 0  103.84059  1.355788   \n",
       "\n",
       "         dis_MRT  prim_no    dis_mind  mind_name  dis_fairprice     dis_pool  \\\n",
       "1529  775.364018      0.0  778.019592     Bishan     394.125536  1070.582376   \n",
       "\n",
       "             pool_name  \n",
       "1529  City Square Mall  \n",
       "\n",
       "[1 rows x 34 columns]"
      ]
     },
     "execution_count": 2,
     "metadata": {},
     "output_type": "execute_result"
    }
   ],
   "source": [
    "# import the blocks data with price information\n",
    "import pandas as pd\n",
    "filename = \"0_blocks_include_price.csv\"\n",
    "df00 = pd.read_csv(filename)\n",
    "\n",
    "# find rows that donot have values\n",
    "df00[df00['psf_sale'] == 'not get']"
   ]
  },
  {
   "cell_type": "code",
   "execution_count": 3,
   "metadata": {},
   "outputs": [
    {
     "data": {
      "text/html": [
       "<div>\n",
       "<style scoped>\n",
       "    .dataframe tbody tr th:only-of-type {\n",
       "        vertical-align: middle;\n",
       "    }\n",
       "\n",
       "    .dataframe tbody tr th {\n",
       "        vertical-align: top;\n",
       "    }\n",
       "\n",
       "    .dataframe thead th {\n",
       "        text-align: right;\n",
       "    }\n",
       "</style>\n",
       "<table border=\"1\" class=\"dataframe\">\n",
       "  <thead>\n",
       "    <tr style=\"text-align: right;\">\n",
       "      <th></th>\n",
       "      <th>psf_sale</th>\n",
       "      <th>blk_no</th>\n",
       "      <th>street</th>\n",
       "      <th>max_floor_lvl</th>\n",
       "      <th>year_completed</th>\n",
       "      <th>residential</th>\n",
       "      <th>commercial</th>\n",
       "      <th>market_hawker</th>\n",
       "      <th>miscellaneous</th>\n",
       "      <th>multistorey_carpark</th>\n",
       "      <th>...</th>\n",
       "      <th>other_room_rental</th>\n",
       "      <th>longitude</th>\n",
       "      <th>latitude</th>\n",
       "      <th>dis_MRT</th>\n",
       "      <th>prim_no</th>\n",
       "      <th>dis_mind</th>\n",
       "      <th>mind_name</th>\n",
       "      <th>dis_fairprice</th>\n",
       "      <th>dis_pool</th>\n",
       "      <th>pool_name</th>\n",
       "    </tr>\n",
       "  </thead>\n",
       "  <tbody>\n",
       "  </tbody>\n",
       "</table>\n",
       "<p>0 rows × 34 columns</p>\n",
       "</div>"
      ],
      "text/plain": [
       "Empty DataFrame\n",
       "Columns: [psf_sale, blk_no, street, max_floor_lvl, year_completed, residential, commercial, market_hawker, miscellaneous, multistorey_carpark, precinct_pavilion, bldg_contract_town, total_dwelling_units, 1room_sold, 2room_sold, 3room_sold, 4room_sold, 5room_sold, exec_sold, multigen_sold, studio_apartment_sold, 1room_rental, 2room_rental, 3room_rental, other_room_rental, longitude, latitude, dis_MRT, prim_no, dis_mind, mind_name, dis_fairprice, dis_pool, pool_name]\n",
       "Index: []\n",
       "\n",
       "[0 rows x 34 columns]"
      ]
     },
     "execution_count": 3,
     "metadata": {},
     "output_type": "execute_result"
    }
   ],
   "source": [
    "# remove rows that donot have vaules\n",
    "df01 = df00.drop([1529])\n",
    "df01[df01['psf_sale'] == 'not get']"
   ]
  },
  {
   "cell_type": "code",
   "execution_count": 4,
   "metadata": {},
   "outputs": [],
   "source": [
    "# extract lat, lon, and magnitude for the folium map\n",
    "lats = df01['latitude'].astype(float)\n",
    "lons = df01['longitude'].astype(float)\n",
    "mag = df01['psf_sale'].astype(float)\n",
    "lats = lats.values.tolist()\n",
    "lons = lons.values.tolist()\n",
    "mag = mag.values.tolist()"
   ]
  },
  {
   "cell_type": "raw",
   "metadata": {},
   "source": [
    "# create the map that shows the differences in prices based on locations(result take too much space, shown in raw)\n",
    "import folium\n",
    "mm = folium.Map([1.3521, 103.8198], tiles='Cartodb Positron', zoom_start=12)\n",
    "#creating a Marker for each point in df_sample. Each point will get a popup with their zip\n",
    "\n",
    "for i in range(0,len(lats)):\n",
    "    folium.Marker(location = [lats[i],lons[i]],\n",
    "                 # Set icon to DivIcon to with conditional style formatting to reference the random temp value.\n",
    "                  icon=folium.DivIcon(html=f\"\"\"<div style=\"font-family: courier new; color: {'yellowgreen' if mag[i] < 300 else 'yellow' if mag[i] <400 else 'gold' if mag[i] <500 else 'orange' if mag[i] <600 else 'red' if mag[i] <700 else 'darkred'} \">{str(int(mag[i]))}</div>\"\"\")\n",
    "                 ).add_to(mm)\n"
   ]
  },
  {
   "cell_type": "raw",
   "metadata": {},
   "source": [
    "mm"
   ]
  },
  {
   "cell_type": "markdown",
   "metadata": {},
   "source": [
    "![alt text][logo]\n",
    "\n",
    "[logo]:hdb_price_distribution.png \"selling prices map\""
   ]
  },
  {
   "cell_type": "markdown",
   "metadata": {},
   "source": [
    "**venue features**"
   ]
  },
  {
   "cell_type": "code",
   "execution_count": 1,
   "metadata": {},
   "outputs": [
    {
     "name": "stdout",
     "output_type": "stream",
     "text": [
      "Libraries imported.\n"
     ]
    }
   ],
   "source": [
    "import numpy as np # library to handle data in a vectorized manner\n",
    "\n",
    "import pandas as pd # library for data analsysis\n",
    "pd.set_option('display.max_columns', None)\n",
    "pd.set_option('display.max_rows', None)\n",
    "\n",
    "import json # library to handle JSON files\n",
    "\n",
    "#!conda install -c conda-forge geopy --yes # uncomment this line if you haven't completed the Foursquare API lab\n",
    "from geopy.geocoders import Nominatim # convert an address into latitude and longitude values\n",
    "\n",
    "import requests # library to handle requests\n",
    "from pandas.io.json import json_normalize # tranform JSON file into a pandas dataframe\n",
    "\n",
    "# Matplotlib and associated plotting modules\n",
    "import matplotlib.cm as cm\n",
    "import matplotlib.colors as colors\n",
    "\n",
    "# import k-means from clustering stage\n",
    "from sklearn.cluster import KMeans\n",
    "\n",
    "#!conda install -c conda-forge folium=0.5.0 --yes # uncomment this line if you haven't completed the Foursquare API lab\n",
    "import folium # map rendering library\n",
    "\n",
    "print('Libraries imported.')"
   ]
  },
  {
   "cell_type": "code",
   "execution_count": 2,
   "metadata": {},
   "outputs": [
    {
     "name": "stdout",
     "output_type": "stream",
     "text": [
      "Your credentails:\n",
      "CLIENT_ID: H13EKXEX5VWDVQAURM04L3RRDJDTHM044XINMPJC4VWML4UL\n",
      "CLIENT_SECRET:ARX45S3C5RJTOSYQ0GK2BHWI1DOYUOIKWXZIYFIB3YPY5AED\n"
     ]
    }
   ],
   "source": [
    "#Foursquare API\n",
    "\n",
    "CLIENT_ID = 'H13EKXEX5VWDVQAURM04L3RRDJDTHM044XINMPJC4VWML4UL' # my Foursquare ID\n",
    "CLIENT_SECRET = 'ARX45S3C5RJTOSYQ0GK2BHWI1DOYUOIKWXZIYFIB3YPY5AED' # my Foursquare Secret\n",
    "VERSION = '20180605' # Foursquare API version\n",
    "\n",
    "print('Your credentails:')\n",
    "print('CLIENT_ID: ' + CLIENT_ID)\n",
    "print('CLIENT_SECRET:' + CLIENT_SECRET)"
   ]
  },
  {
   "cell_type": "code",
   "execution_count": 3,
   "metadata": {},
   "outputs": [
    {
     "data": {
      "text/html": [
       "<div>\n",
       "<style scoped>\n",
       "    .dataframe tbody tr th:only-of-type {\n",
       "        vertical-align: middle;\n",
       "    }\n",
       "\n",
       "    .dataframe tbody tr th {\n",
       "        vertical-align: top;\n",
       "    }\n",
       "\n",
       "    .dataframe thead th {\n",
       "        text-align: right;\n",
       "    }\n",
       "</style>\n",
       "<table border=\"1\" class=\"dataframe\">\n",
       "  <thead>\n",
       "    <tr style=\"text-align: right;\">\n",
       "      <th></th>\n",
       "      <th>psf_sale</th>\n",
       "      <th>blk_no</th>\n",
       "      <th>street</th>\n",
       "      <th>max_floor_lvl</th>\n",
       "      <th>year_completed</th>\n",
       "      <th>residential</th>\n",
       "      <th>commercial</th>\n",
       "      <th>market_hawker</th>\n",
       "      <th>miscellaneous</th>\n",
       "      <th>multistorey_carpark</th>\n",
       "      <th>precinct_pavilion</th>\n",
       "      <th>bldg_contract_town</th>\n",
       "      <th>total_dwelling_units</th>\n",
       "      <th>1room_sold</th>\n",
       "      <th>2room_sold</th>\n",
       "      <th>3room_sold</th>\n",
       "      <th>4room_sold</th>\n",
       "      <th>5room_sold</th>\n",
       "      <th>exec_sold</th>\n",
       "      <th>multigen_sold</th>\n",
       "      <th>studio_apartment_sold</th>\n",
       "      <th>1room_rental</th>\n",
       "      <th>2room_rental</th>\n",
       "      <th>3room_rental</th>\n",
       "      <th>other_room_rental</th>\n",
       "      <th>longitude</th>\n",
       "      <th>latitude</th>\n",
       "      <th>dis_MRT</th>\n",
       "      <th>prim_no</th>\n",
       "      <th>dis_mind</th>\n",
       "      <th>mind_name</th>\n",
       "      <th>dis_fairprice</th>\n",
       "      <th>dis_pool</th>\n",
       "      <th>pool_name</th>\n",
       "    </tr>\n",
       "  </thead>\n",
       "  <tbody>\n",
       "    <tr>\n",
       "      <th>0</th>\n",
       "      <td>1005.1875</td>\n",
       "      <td>1A</td>\n",
       "      <td>CANTONMENT RD</td>\n",
       "      <td>50</td>\n",
       "      <td>2009</td>\n",
       "      <td>Y</td>\n",
       "      <td>N</td>\n",
       "      <td>N</td>\n",
       "      <td>Y</td>\n",
       "      <td>N</td>\n",
       "      <td>N</td>\n",
       "      <td>CT</td>\n",
       "      <td>264</td>\n",
       "      <td>0</td>\n",
       "      <td>0</td>\n",
       "      <td>0</td>\n",
       "      <td>176</td>\n",
       "      <td>88</td>\n",
       "      <td>0</td>\n",
       "      <td>0</td>\n",
       "      <td>0</td>\n",
       "      <td>0</td>\n",
       "      <td>0</td>\n",
       "      <td>0</td>\n",
       "      <td>0</td>\n",
       "      <td>103.840953</td>\n",
       "      <td>1.277830</td>\n",
       "      <td>199.468223</td>\n",
       "      <td>1.0</td>\n",
       "      <td>959.197869</td>\n",
       "      <td>Cecil Street (The Octagon)</td>\n",
       "      <td>220.887653</td>\n",
       "      <td>2301.414936</td>\n",
       "      <td>Raffles Town Club</td>\n",
       "    </tr>\n",
       "    <tr>\n",
       "      <th>1</th>\n",
       "      <td>1075.0</td>\n",
       "      <td>10A</td>\n",
       "      <td>BOON TIONG RD</td>\n",
       "      <td>40</td>\n",
       "      <td>2014</td>\n",
       "      <td>Y</td>\n",
       "      <td>N</td>\n",
       "      <td>N</td>\n",
       "      <td>Y</td>\n",
       "      <td>N</td>\n",
       "      <td>N</td>\n",
       "      <td>BM</td>\n",
       "      <td>228</td>\n",
       "      <td>0</td>\n",
       "      <td>0</td>\n",
       "      <td>76</td>\n",
       "      <td>152</td>\n",
       "      <td>0</td>\n",
       "      <td>0</td>\n",
       "      <td>0</td>\n",
       "      <td>0</td>\n",
       "      <td>0</td>\n",
       "      <td>0</td>\n",
       "      <td>0</td>\n",
       "      <td>0</td>\n",
       "      <td>103.833135</td>\n",
       "      <td>1.286793</td>\n",
       "      <td>628.886166</td>\n",
       "      <td>2.0</td>\n",
       "      <td>1451.859100</td>\n",
       "      <td>Liang Court</td>\n",
       "      <td>426.195557</td>\n",
       "      <td>1145.402321</td>\n",
       "      <td>Raffles Town Club</td>\n",
       "    </tr>\n",
       "    <tr>\n",
       "      <th>2</th>\n",
       "      <td>287.625</td>\n",
       "      <td>36</td>\n",
       "      <td>MARSILING DR</td>\n",
       "      <td>25</td>\n",
       "      <td>1977</td>\n",
       "      <td>Y</td>\n",
       "      <td>N</td>\n",
       "      <td>N</td>\n",
       "      <td>N</td>\n",
       "      <td>N</td>\n",
       "      <td>N</td>\n",
       "      <td>WL</td>\n",
       "      <td>96</td>\n",
       "      <td>0</td>\n",
       "      <td>0</td>\n",
       "      <td>0</td>\n",
       "      <td>0</td>\n",
       "      <td>96</td>\n",
       "      <td>0</td>\n",
       "      <td>0</td>\n",
       "      <td>0</td>\n",
       "      <td>0</td>\n",
       "      <td>0</td>\n",
       "      <td>0</td>\n",
       "      <td>0</td>\n",
       "      <td>103.775188</td>\n",
       "      <td>1.442024</td>\n",
       "      <td>1031.568882</td>\n",
       "      <td>1.0</td>\n",
       "      <td>3344.729692</td>\n",
       "      <td>Woodlands</td>\n",
       "      <td>1048.577178</td>\n",
       "      <td>919.340838</td>\n",
       "      <td>Changi Business Park</td>\n",
       "    </tr>\n",
       "    <tr>\n",
       "      <th>3</th>\n",
       "      <td>289.2</td>\n",
       "      <td>201</td>\n",
       "      <td>MARSILING DR</td>\n",
       "      <td>14</td>\n",
       "      <td>1980</td>\n",
       "      <td>Y</td>\n",
       "      <td>N</td>\n",
       "      <td>N</td>\n",
       "      <td>N</td>\n",
       "      <td>N</td>\n",
       "      <td>N</td>\n",
       "      <td>WL</td>\n",
       "      <td>104</td>\n",
       "      <td>0</td>\n",
       "      <td>0</td>\n",
       "      <td>0</td>\n",
       "      <td>104</td>\n",
       "      <td>0</td>\n",
       "      <td>0</td>\n",
       "      <td>0</td>\n",
       "      <td>0</td>\n",
       "      <td>0</td>\n",
       "      <td>0</td>\n",
       "      <td>0</td>\n",
       "      <td>0</td>\n",
       "      <td>103.775188</td>\n",
       "      <td>1.442024</td>\n",
       "      <td>1031.568882</td>\n",
       "      <td>1.0</td>\n",
       "      <td>3344.729692</td>\n",
       "      <td>Woodlands</td>\n",
       "      <td>1048.577178</td>\n",
       "      <td>919.340838</td>\n",
       "      <td>Changi Business Park</td>\n",
       "    </tr>\n",
       "    <tr>\n",
       "      <th>4</th>\n",
       "      <td>290.25</td>\n",
       "      <td>812</td>\n",
       "      <td>JURONG WEST ST 81</td>\n",
       "      <td>12</td>\n",
       "      <td>1989</td>\n",
       "      <td>Y</td>\n",
       "      <td>Y</td>\n",
       "      <td>N</td>\n",
       "      <td>N</td>\n",
       "      <td>N</td>\n",
       "      <td>N</td>\n",
       "      <td>JW</td>\n",
       "      <td>110</td>\n",
       "      <td>0</td>\n",
       "      <td>0</td>\n",
       "      <td>0</td>\n",
       "      <td>70</td>\n",
       "      <td>40</td>\n",
       "      <td>0</td>\n",
       "      <td>0</td>\n",
       "      <td>0</td>\n",
       "      <td>0</td>\n",
       "      <td>0</td>\n",
       "      <td>0</td>\n",
       "      <td>0</td>\n",
       "      <td>103.695902</td>\n",
       "      <td>1.346300</td>\n",
       "      <td>951.765621</td>\n",
       "      <td>5.0</td>\n",
       "      <td>879.546854</td>\n",
       "      <td>Jurong West</td>\n",
       "      <td>1283.229845</td>\n",
       "      <td>879.546854</td>\n",
       "      <td>Toa Payoh</td>\n",
       "    </tr>\n",
       "  </tbody>\n",
       "</table>\n",
       "</div>"
      ],
      "text/plain": [
       "    psf_sale blk_no             street  max_floor_lvl  year_completed  \\\n",
       "0  1005.1875     1A      CANTONMENT RD             50            2009   \n",
       "1     1075.0    10A      BOON TIONG RD             40            2014   \n",
       "2    287.625     36       MARSILING DR             25            1977   \n",
       "3      289.2    201       MARSILING DR             14            1980   \n",
       "4     290.25    812  JURONG WEST ST 81             12            1989   \n",
       "\n",
       "  residential commercial market_hawker miscellaneous multistorey_carpark  \\\n",
       "0           Y          N             N             Y                   N   \n",
       "1           Y          N             N             Y                   N   \n",
       "2           Y          N             N             N                   N   \n",
       "3           Y          N             N             N                   N   \n",
       "4           Y          Y             N             N                   N   \n",
       "\n",
       "  precinct_pavilion bldg_contract_town  total_dwelling_units  1room_sold  \\\n",
       "0                 N                 CT                   264           0   \n",
       "1                 N                 BM                   228           0   \n",
       "2                 N                 WL                    96           0   \n",
       "3                 N                 WL                   104           0   \n",
       "4                 N                 JW                   110           0   \n",
       "\n",
       "   2room_sold  3room_sold  4room_sold  5room_sold  exec_sold  multigen_sold  \\\n",
       "0           0           0         176          88          0              0   \n",
       "1           0          76         152           0          0              0   \n",
       "2           0           0           0          96          0              0   \n",
       "3           0           0         104           0          0              0   \n",
       "4           0           0          70          40          0              0   \n",
       "\n",
       "   studio_apartment_sold  1room_rental  2room_rental  3room_rental  \\\n",
       "0                      0             0             0             0   \n",
       "1                      0             0             0             0   \n",
       "2                      0             0             0             0   \n",
       "3                      0             0             0             0   \n",
       "4                      0             0             0             0   \n",
       "\n",
       "   other_room_rental   longitude  latitude      dis_MRT  prim_no     dis_mind  \\\n",
       "0                  0  103.840953  1.277830   199.468223      1.0   959.197869   \n",
       "1                  0  103.833135  1.286793   628.886166      2.0  1451.859100   \n",
       "2                  0  103.775188  1.442024  1031.568882      1.0  3344.729692   \n",
       "3                  0  103.775188  1.442024  1031.568882      1.0  3344.729692   \n",
       "4                  0  103.695902  1.346300   951.765621      5.0   879.546854   \n",
       "\n",
       "                    mind_name  dis_fairprice     dis_pool  \\\n",
       "0  Cecil Street (The Octagon)     220.887653  2301.414936   \n",
       "1                 Liang Court     426.195557  1145.402321   \n",
       "2                   Woodlands    1048.577178   919.340838   \n",
       "3                   Woodlands    1048.577178   919.340838   \n",
       "4                 Jurong West    1283.229845   879.546854   \n",
       "\n",
       "              pool_name  \n",
       "0     Raffles Town Club  \n",
       "1     Raffles Town Club  \n",
       "2  Changi Business Park  \n",
       "3  Changi Business Park  \n",
       "4             Toa Payoh  "
      ]
     },
     "execution_count": 3,
     "metadata": {},
     "output_type": "execute_result"
    }
   ],
   "source": [
    "filename = \"0_blocks_include_price.csv\"\n",
    "df00 = pd.read_csv(filename)\n",
    "df00.head()"
   ]
  },
  {
   "cell_type": "code",
   "execution_count": 6,
   "metadata": {},
   "outputs": [],
   "source": [
    "df00['blk_street'] = df00['blk_no']+\",\"+df00['street']"
   ]
  },
  {
   "cell_type": "code",
   "execution_count": 7,
   "metadata": {},
   "outputs": [],
   "source": [
    "def getNearbyVenues(block_streets, latitudes, longitudes, radius=500):\n",
    "    aa = 0\n",
    "    venues_list=[]\n",
    "    for block_street, lat, lng in zip(block_streets, latitudes, longitudes):\n",
    "        print(aa, block_street)\n",
    "        aa=aa+1    \n",
    "        # create the API request URL\n",
    "        url = 'https://api.foursquare.com/v2/venues/explore?&client_id={}&client_secret={}&v={}&ll={},{}&radius={}'.format(\n",
    "            CLIENT_ID, \n",
    "            CLIENT_SECRET, \n",
    "            VERSION, \n",
    "            lat, \n",
    "            lng, \n",
    "            radius)\n",
    "            \n",
    "        # make the GET request\n",
    "        if requests.get(url).json()[\"response\"]['groups']:\n",
    "            results = requests.get(url).json()[\"response\"]['groups'][0]['items']\n",
    "        \n",
    "           # return only relevant information for each nearby venue\n",
    "            venues_list.append([(\n",
    "                block_street,\n",
    "                lat, \n",
    "                lng, \n",
    "                v['venue']['name'], \n",
    "                v['venue']['location']['lat'], \n",
    "                v['venue']['location']['lng'],  \n",
    "                v['venue']['categories'][0]['name']) for v in results])\n",
    "        else:venues_list.append(['not get','not get','not get','not get','not get','not get','not get'])\n",
    "            \n",
    "\n",
    "    nearby_venues = pd.DataFrame([item for venue_list in venues_list for item in venue_list])\n",
    "    nearby_venues.columns = ['block_street',\n",
    "                  'Neighborhood Latitude', \n",
    "                  'Neighborhood Longitude', \n",
    "                  'Venue', \n",
    "                  'Venue Latitude', \n",
    "                  'Venue Longitude', \n",
    "                  'Venue Category']\n",
    "    \n",
    "    return(nearby_venues)"
   ]
  },
  {
   "cell_type": "raw",
   "metadata": {},
   "source": [
    "# results will be too large, shown as raw\n",
    "singapore_venues = getNearbyVenues(block_streets=df00['blk_street'],\n",
    "                                   latitudes=df00['latitude'],\n",
    "                                   longitudes=df00['longitude']\n",
    "                                  )"
   ]
  },
  {
   "cell_type": "code",
   "execution_count": null,
   "metadata": {},
   "outputs": [],
   "source": [
    "singapore_venues.to_csv(\"block_venues.csv\")"
   ]
  },
  {
   "cell_type": "code",
   "execution_count": 10,
   "metadata": {},
   "outputs": [],
   "source": [
    "import pandas as pd\n",
    "df00 = pd.read_csv(\"block_venues.csv\")"
   ]
  },
  {
   "cell_type": "code",
   "execution_count": 11,
   "metadata": {},
   "outputs": [
    {
     "data": {
      "text/html": [
       "<div>\n",
       "<style scoped>\n",
       "    .dataframe tbody tr th:only-of-type {\n",
       "        vertical-align: middle;\n",
       "    }\n",
       "\n",
       "    .dataframe tbody tr th {\n",
       "        vertical-align: top;\n",
       "    }\n",
       "\n",
       "    .dataframe thead th {\n",
       "        text-align: right;\n",
       "    }\n",
       "</style>\n",
       "<table border=\"1\" class=\"dataframe\">\n",
       "  <thead>\n",
       "    <tr style=\"text-align: right;\">\n",
       "      <th></th>\n",
       "      <th>Unnamed: 0</th>\n",
       "      <th>block_street</th>\n",
       "      <th>Neighborhood Latitude</th>\n",
       "      <th>Neighborhood Longitude</th>\n",
       "      <th>Venue</th>\n",
       "      <th>Venue Latitude</th>\n",
       "      <th>Venue Longitude</th>\n",
       "      <th>Venue Category</th>\n",
       "    </tr>\n",
       "  </thead>\n",
       "  <tbody>\n",
       "    <tr>\n",
       "      <th>0</th>\n",
       "      <td>0</td>\n",
       "      <td>1A,CANTONMENT RD</td>\n",
       "      <td>1.27783</td>\n",
       "      <td>103.840953</td>\n",
       "      <td>Nylon Coffee Roasters</td>\n",
       "      <td>1.276657</td>\n",
       "      <td>103.840073</td>\n",
       "      <td>Coffee Shop</td>\n",
       "    </tr>\n",
       "    <tr>\n",
       "      <th>1</th>\n",
       "      <td>1</td>\n",
       "      <td>1A,CANTONMENT RD</td>\n",
       "      <td>1.27783</td>\n",
       "      <td>103.840953</td>\n",
       "      <td>Binomio Spanish Restaurante</td>\n",
       "      <td>1.277713</td>\n",
       "      <td>103.842248</td>\n",
       "      <td>Spanish Restaurant</td>\n",
       "    </tr>\n",
       "    <tr>\n",
       "      <th>2</th>\n",
       "      <td>2</td>\n",
       "      <td>1A,CANTONMENT RD</td>\n",
       "      <td>1.27783</td>\n",
       "      <td>103.840953</td>\n",
       "      <td>Man Man 鰻満 Japanese Unagi Restaurant (Man Man ...</td>\n",
       "      <td>1.278876</td>\n",
       "      <td>103.841514</td>\n",
       "      <td>Japanese Restaurant</td>\n",
       "    </tr>\n",
       "    <tr>\n",
       "      <th>3</th>\n",
       "      <td>3</td>\n",
       "      <td>1A,CANTONMENT RD</td>\n",
       "      <td>1.27783</td>\n",
       "      <td>103.840953</td>\n",
       "      <td>D.Bespoke</td>\n",
       "      <td>1.278680</td>\n",
       "      <td>103.840897</td>\n",
       "      <td>Speakeasy</td>\n",
       "    </tr>\n",
       "    <tr>\n",
       "      <th>4</th>\n",
       "      <td>4</td>\n",
       "      <td>1A,CANTONMENT RD</td>\n",
       "      <td>1.27783</td>\n",
       "      <td>103.840953</td>\n",
       "      <td>APIARY</td>\n",
       "      <td>1.279499</td>\n",
       "      <td>103.842294</td>\n",
       "      <td>Ice Cream Shop</td>\n",
       "    </tr>\n",
       "  </tbody>\n",
       "</table>\n",
       "</div>"
      ],
      "text/plain": [
       "   Unnamed: 0      block_street  Neighborhood Latitude  \\\n",
       "0           0  1A,CANTONMENT RD                1.27783   \n",
       "1           1  1A,CANTONMENT RD                1.27783   \n",
       "2           2  1A,CANTONMENT RD                1.27783   \n",
       "3           3  1A,CANTONMENT RD                1.27783   \n",
       "4           4  1A,CANTONMENT RD                1.27783   \n",
       "\n",
       "   Neighborhood Longitude                                              Venue  \\\n",
       "0              103.840953                              Nylon Coffee Roasters   \n",
       "1              103.840953                        Binomio Spanish Restaurante   \n",
       "2              103.840953  Man Man 鰻満 Japanese Unagi Restaurant (Man Man ...   \n",
       "3              103.840953                                          D.Bespoke   \n",
       "4              103.840953                                             APIARY   \n",
       "\n",
       "   Venue Latitude  Venue Longitude       Venue Category  \n",
       "0        1.276657       103.840073          Coffee Shop  \n",
       "1        1.277713       103.842248   Spanish Restaurant  \n",
       "2        1.278876       103.841514  Japanese Restaurant  \n",
       "3        1.278680       103.840897            Speakeasy  \n",
       "4        1.279499       103.842294       Ice Cream Shop  "
      ]
     },
     "execution_count": 11,
     "metadata": {},
     "output_type": "execute_result"
    }
   ],
   "source": [
    "df00.head()"
   ]
  },
  {
   "cell_type": "code",
   "execution_count": 12,
   "metadata": {},
   "outputs": [
    {
     "name": "stdout",
     "output_type": "stream",
     "text": [
      "There are 308 uniques categories.\n"
     ]
    }
   ],
   "source": [
    "print('There are {} uniques categories.'.format(len(df00['Venue Category'].unique())))"
   ]
  },
  {
   "cell_type": "markdown",
   "metadata": {},
   "source": [
    "<h3> 2.2 MRT information</h3>"
   ]
  },
  {
   "cell_type": "markdown",
   "metadata": {},
   "source": [
    "<p>MRT is the most convenient public transportation in Singapore.  A lot of people put the distance to MRT station as their priority in choosing where to live.  I get the accurate MRT exit location data from the website where we got the HDB data before https://data.gov.sg/. </p>"
   ]
  },
  {
   "cell_type": "markdown",
   "metadata": {},
   "source": [
    "<p>The MRT exit location data we download was in KML format, so I used python to change it into CSV format. We got 474 exits data for 119 MRT stations. By using Python and the location data both from HDB blocks and MRT exits, we can easily calculate the distance between each HDB block and its nearest MRT exit.</p>"
   ]
  },
  {
   "cell_type": "code",
   "execution_count": 23,
   "metadata": {},
   "outputs": [],
   "source": [
    "#import the MRT file we downloaded\n",
    "with open('lta-mrt-station-exit-kml.kml', 'rt') as myfile:\n",
    "    doc=myfile.read()"
   ]
  },
  {
   "cell_type": "code",
   "execution_count": 24,
   "metadata": {},
   "outputs": [],
   "source": [
    "# use bs4 to get the exits info we want\n",
    "from bs4 import BeautifulSoup as soup"
   ]
  },
  {
   "cell_type": "code",
   "execution_count": 25,
   "metadata": {},
   "outputs": [],
   "source": [
    "page_soup = soup(doc, \"html.parser\")"
   ]
  },
  {
   "cell_type": "code",
   "execution_count": 26,
   "metadata": {},
   "outputs": [],
   "source": [
    "page_co = page_soup.findAll(\"coordinates\")"
   ]
  },
  {
   "cell_type": "code",
   "execution_count": 28,
   "metadata": {},
   "outputs": [
    {
     "data": {
      "text/plain": [
       "474"
      ]
     },
     "execution_count": 28,
     "metadata": {},
     "output_type": "execute_result"
    }
   ],
   "source": [
    "m = len(page_co)\n",
    "m"
   ]
  },
  {
   "cell_type": "code",
   "execution_count": 96,
   "metadata": {},
   "outputs": [],
   "source": [
    "#get location info from kml file with label \"coordinates\"\n",
    "lat = []\n",
    "lon = []\n",
    "for i in range(0,m):\n",
    "    coor = page_co[i].text.split(',')\n",
    "    lat.append(coor[1])\n",
    "    lon.append(coor[0])"
   ]
  },
  {
   "cell_type": "code",
   "execution_count": 101,
   "metadata": {},
   "outputs": [],
   "source": [
    "import pandas as pd"
   ]
  },
  {
   "cell_type": "code",
   "execution_count": 109,
   "metadata": {},
   "outputs": [],
   "source": [
    "df = pd.DataFrame(lat,columns = ['latitude'])"
   ]
  },
  {
   "cell_type": "code",
   "execution_count": 110,
   "metadata": {},
   "outputs": [],
   "source": [
    "df['longitude']=lon"
   ]
  },
  {
   "cell_type": "code",
   "execution_count": 113,
   "metadata": {},
   "outputs": [],
   "source": [
    "df.to_csv(\"exit_Data.csv\",index = False)"
   ]
  },
  {
   "cell_type": "markdown",
   "metadata": {},
   "source": [
    "<h3>2.3 Primary school related data</h3>"
   ]
  },
  {
   "cell_type": "markdown",
   "metadata": {},
   "source": [
    "<p>For young parents who care about kids’ education, the distance to primary school might be significant for them. Singapore government claims that the primary school enrollment policy strictly obeys ‘within 1 km’ and ‘within 2 km’ regulations, while middle school enrollment only depends on students’ PSLE scores.  As a result, the phenomenon that parents move to a new place to get a higher chance in primary school enrollment is widespread in Singapore.</p>"
   ]
  },
  {
   "cell_type": "markdown",
   "metadata": {},
   "source": [
    "<p>I got the list of all the primary schools from the website: https://www.moe.gov.sg/admissions/primary-one-registration/information-on-primary-schools/listing-by-planning-area.  Later, I use python geocoder package again to get their location information. </p>"
   ]
  },
  {
   "cell_type": "code",
   "execution_count": 30,
   "metadata": {},
   "outputs": [],
   "source": [
    "# get primary school data from website\n",
    "from bs4 import BeautifulSoup as soup\n",
    "from urllib.request import urlopen as uReq"
   ]
  },
  {
   "cell_type": "code",
   "execution_count": 31,
   "metadata": {},
   "outputs": [],
   "source": [
    "path = 'https://www.moe.gov.sg/admissions/primary-one-registration/information-on-primary-schools/listing-by-planning-area'\n",
    "res = uReq(path)\n",
    "page_html = res.read()\n",
    "res.close()"
   ]
  },
  {
   "cell_type": "code",
   "execution_count": 32,
   "metadata": {},
   "outputs": [],
   "source": [
    "page_soup = soup(page_html, \"html.parser\")"
   ]
  },
  {
   "cell_type": "code",
   "execution_count": 33,
   "metadata": {},
   "outputs": [],
   "source": [
    "page_tbody = page_soup.tbody"
   ]
  },
  {
   "cell_type": "code",
   "execution_count": 34,
   "metadata": {},
   "outputs": [],
   "source": [
    "table_body = page_tbody.findAll(\"li\")"
   ]
  },
  {
   "cell_type": "code",
   "execution_count": 35,
   "metadata": {},
   "outputs": [],
   "source": [
    "kk = len(table_body)"
   ]
  },
  {
   "cell_type": "code",
   "execution_count": 36,
   "metadata": {},
   "outputs": [],
   "source": [
    "primary_school = []\n",
    "for i in range(0, kk):\n",
    "    primary_school.append(table_body[i].text.strip().replace('+', '').replace('*', ''))"
   ]
  },
  {
   "cell_type": "code",
   "execution_count": 37,
   "metadata": {},
   "outputs": [],
   "source": [
    "import pandas as pd\n",
    "mm = pd.DataFrame(primary_school, columns = ['name'])\n",
    "mm.to_csv('primary_school.csv', index=False)"
   ]
  },
  {
   "cell_type": "code",
   "execution_count": 39,
   "metadata": {},
   "outputs": [],
   "source": [
    "# using geocoder package to get location information\n",
    "import numpy as np\n",
    "latitude = []\n",
    "longitude = []\n",
    "for i in range(0,kk):\n",
    "    name =mm.loc[i,'name']\n",
    "    \n",
    "    location = geolocator.geocode(\"{},Singapore\".format(name))\n",
    "    if location:\n",
    "        latitude.append(location.latitude)\n",
    "        longitude.append(location.longitude)\n",
    "        mkl = np.sqrt(i+1)+np.sqrt(i+2)\n",
    "    else:\n",
    "        latitude.append('not get')\n",
    "        longitude.append('not get')\n",
    "    #print(i, name)"
   ]
  },
  {
   "cell_type": "code",
   "execution_count": 42,
   "metadata": {},
   "outputs": [],
   "source": [
    "mm[\"latitude\"]=latitude\n",
    "mm['longitude']=longitude"
   ]
  },
  {
   "cell_type": "code",
   "execution_count": null,
   "metadata": {},
   "outputs": [],
   "source": [
    "mm.to_csv('primary_school.csv', index=False)"
   ]
  },
  {
   "cell_type": "code",
   "execution_count": 41,
   "metadata": {},
   "outputs": [
    {
     "data": {
      "text/html": [
       "<div>\n",
       "<style scoped>\n",
       "    .dataframe tbody tr th:only-of-type {\n",
       "        vertical-align: middle;\n",
       "    }\n",
       "\n",
       "    .dataframe tbody tr th {\n",
       "        vertical-align: top;\n",
       "    }\n",
       "\n",
       "    .dataframe thead th {\n",
       "        text-align: right;\n",
       "    }\n",
       "</style>\n",
       "<table border=\"1\" class=\"dataframe\">\n",
       "  <thead>\n",
       "    <tr style=\"text-align: right;\">\n",
       "      <th></th>\n",
       "      <th>name</th>\n",
       "      <th>latitude</th>\n",
       "      <th>longitude</th>\n",
       "    </tr>\n",
       "  </thead>\n",
       "  <tbody>\n",
       "    <tr>\n",
       "      <th>0</th>\n",
       "      <td>Anderson Primary School</td>\n",
       "      <td>1.376318</td>\n",
       "      <td>103.835562</td>\n",
       "    </tr>\n",
       "    <tr>\n",
       "      <th>1</th>\n",
       "      <td>Ang Mo Kio Primary School</td>\n",
       "      <td>1.369100</td>\n",
       "      <td>103.839360</td>\n",
       "    </tr>\n",
       "    <tr>\n",
       "      <th>2</th>\n",
       "      <td>CHIJ St Nicholas Girls’ (Primary)</td>\n",
       "      <td>1.340853</td>\n",
       "      <td>103.878447</td>\n",
       "    </tr>\n",
       "    <tr>\n",
       "      <th>3</th>\n",
       "      <td>Jing Shan Primary School</td>\n",
       "      <td>1.372258</td>\n",
       "      <td>103.852015</td>\n",
       "    </tr>\n",
       "    <tr>\n",
       "      <th>4</th>\n",
       "      <td>Mayflower Primary School</td>\n",
       "      <td>1.376664</td>\n",
       "      <td>103.843242</td>\n",
       "    </tr>\n",
       "  </tbody>\n",
       "</table>\n",
       "</div>"
      ],
      "text/plain": [
       "                                name  latitude   longitude\n",
       "0            Anderson Primary School  1.376318  103.835562\n",
       "1          Ang Mo Kio Primary School  1.369100  103.839360\n",
       "2  CHIJ St Nicholas Girls’ (Primary)  1.340853  103.878447\n",
       "3           Jing Shan Primary School  1.372258  103.852015\n",
       "4           Mayflower Primary School  1.376664  103.843242"
      ]
     },
     "execution_count": 41,
     "metadata": {},
     "output_type": "execute_result"
    }
   ],
   "source": [
    "filename4 = \"primary_school.csv\"\n",
    "df4 = pd.read_csv(filename4)\n",
    "df4.head()"
   ]
  },
  {
   "cell_type": "markdown",
   "metadata": {},
   "source": [
    "<h3>2.4 Public swimming complex data</h3> "
   ]
  },
  {
   "cell_type": "markdown",
   "metadata": {},
   "source": [
    "<p>In Singapore, 26 public swimming complexes are run by local government, and will cost only 1 dollar for each entrance. For the people living in HDB that is close to public swimming complex, the lifestyle may be more comfortable. Swimming is very popular in Singapore as it is a tropical country. Therefore, I put the venue feature swimming complex into our consideration. </p>"
   ]
  },
  {
   "cell_type": "markdown",
   "metadata": {},
   "source": [
    "<p>I got the swimming complex information from website https://www.myactivesg.com/Facilities/Swimming-Pools. To get the full list, we have to click on a \"more\" button on the website, so I decide to use a selenium package to open the website</p>"
   ]
  },
  {
   "cell_type": "code",
   "execution_count": 14,
   "metadata": {},
   "outputs": [],
   "source": [
    "from bs4 import BeautifulSoup as soup\n",
    "from urllib.request import urlopen as uReq"
   ]
  },
  {
   "cell_type": "code",
   "execution_count": 15,
   "metadata": {},
   "outputs": [
    {
     "name": "stdout",
     "output_type": "stream",
     "text": [
      "Collecting selenium\n",
      "\u001b[?25l  Downloading https://files.pythonhosted.org/packages/80/d6/4294f0b4bce4de0abf13e17190289f9d0613b0a44e5dd6a7f5ca98459853/selenium-3.141.0-py2.py3-none-any.whl (904kB)\n",
      "\u001b[K    100% |████████████████████████████████| 911kB 10.9MB/s \n",
      "\u001b[?25hRequirement already satisfied: urllib3 in /home/jupyterlab/conda/lib/python3.6/site-packages (from selenium) (1.24.1)\n",
      "Installing collected packages: selenium\n",
      "Successfully installed selenium-3.141.0\n"
     ]
    }
   ],
   "source": [
    "!pip install selenium"
   ]
  },
  {
   "cell_type": "code",
   "execution_count": 16,
   "metadata": {},
   "outputs": [],
   "source": [
    "from selenium import webdriver\n",
    "import time"
   ]
  },
  {
   "cell_type": "code",
   "execution_count": 17,
   "metadata": {},
   "outputs": [
    {
     "name": "stdout",
     "output_type": "stream",
     "text": []
    },
    {
     "name": "stdout",
     "output_type": "stream",
     "text": []
    },
    {
     "name": "stdout",
     "output_type": "stream",
     "text": []
    },
    {
     "name": "stdout",
     "output_type": "stream",
     "text": []
    },
    {
     "name": "stdout",
     "output_type": "stream",
     "text": []
    },
    {
     "name": "stdout",
     "output_type": "stream",
     "text": []
    },
    {
     "name": "stdout",
     "output_type": "stream",
     "text": []
    },
    {
     "name": "stdout",
     "output_type": "stream",
     "text": []
    },
    {
     "name": "stdout",
     "output_type": "stream",
     "text": []
    },
    {
     "name": "stdout",
     "output_type": "stream",
     "text": []
    },
    {
     "name": "stdout",
     "output_type": "stream",
     "text": []
    },
    {
     "name": "stdout",
     "output_type": "stream",
     "text": []
    },
    {
     "name": "stdout",
     "output_type": "stream",
     "text": []
    },
    {
     "name": "stdout",
     "output_type": "stream",
     "text": []
    },
    {
     "name": "stdout",
     "output_type": "stream",
     "text": []
    },
    {
     "name": "stdout",
     "output_type": "stream",
     "text": []
    },
    {
     "name": "stdout",
     "output_type": "stream",
     "text": []
    },
    {
     "name": "stdout",
     "output_type": "stream",
     "text": []
    },
    {
     "name": "stdout",
     "output_type": "stream",
     "text": []
    },
    {
     "name": "stdout",
     "output_type": "stream",
     "text": []
    },
    {
     "name": "stdout",
     "output_type": "stream",
     "text": []
    },
    {
     "name": "stdout",
     "output_type": "stream",
     "text": []
    },
    {
     "name": "stdout",
     "output_type": "stream",
     "text": []
    },
    {
     "name": "stdout",
     "output_type": "stream",
     "text": []
    },
    {
     "name": "stdout",
     "output_type": "stream",
     "text": []
    },
    {
     "name": "stdout",
     "output_type": "stream",
     "text": []
    },
    {
     "name": "stdout",
     "output_type": "stream",
     "text": []
    },
    {
     "name": "stdout",
     "output_type": "stream",
     "text": []
    },
    {
     "name": "stdout",
     "output_type": "stream",
     "text": []
    },
    {
     "name": "stdout",
     "output_type": "stream",
     "text": []
    },
    {
     "name": "stdout",
     "output_type": "stream",
     "text": []
    },
    {
     "name": "stdout",
     "output_type": "stream",
     "text": []
    },
    {
     "name": "stdout",
     "output_type": "stream",
     "text": []
    },
    {
     "name": "stdout",
     "output_type": "stream",
     "text": []
    },
    {
     "name": "stdout",
     "output_type": "stream",
     "text": []
    },
    {
     "name": "stdout",
     "output_type": "stream",
     "text": []
    },
    {
     "name": "stdout",
     "output_type": "stream",
     "text": []
    },
    {
     "name": "stdout",
     "output_type": "stream",
     "text": []
    },
    {
     "name": "stdout",
     "output_type": "stream",
     "text": []
    },
    {
     "name": "stdout",
     "output_type": "stream",
     "text": []
    },
    {
     "name": "stdout",
     "output_type": "stream",
     "text": []
    },
    {
     "name": "stdout",
     "output_type": "stream",
     "text": []
    },
    {
     "name": "stdout",
     "output_type": "stream",
     "text": []
    },
    {
     "name": "stdout",
     "output_type": "stream",
     "text": []
    },
    {
     "name": "stdout",
     "output_type": "stream",
     "text": []
    },
    {
     "name": "stdout",
     "output_type": "stream",
     "text": []
    },
    {
     "name": "stdout",
     "output_type": "stream",
     "text": []
    },
    {
     "name": "stdout",
     "output_type": "stream",
     "text": []
    },
    {
     "name": "stdout",
     "output_type": "stream",
     "text": []
    },
    {
     "name": "stdout",
     "output_type": "stream",
     "text": []
    },
    {
     "name": "stdout",
     "output_type": "stream",
     "text": []
    },
    {
     "name": "stdout",
     "output_type": "stream",
     "text": []
    },
    {
     "name": "stdout",
     "output_type": "stream",
     "text": []
    },
    {
     "name": "stdout",
     "output_type": "stream",
     "text": []
    },
    {
     "name": "stdout",
     "output_type": "stream",
     "text": []
    },
    {
     "name": "stdout",
     "output_type": "stream",
     "text": []
    },
    {
     "name": "stdout",
     "output_type": "stream",
     "text": []
    },
    {
     "name": "stdout",
     "output_type": "stream",
     "text": []
    },
    {
     "name": "stdout",
     "output_type": "stream",
     "text": [
      "\u001b[K\u001b[?25h/home/jupyterlab/conda/bin/phantomjs -> /home/jupyterlab/conda/lib/node_modules/phantomjs-prebuilt/bin/phantomjs\n",
      "\u001b[K\u001b[?25h\n",
      "> phantomjs-prebuilt@2.1.16 install /home/jupyterlab/conda/lib/node_modules/phantomjs-prebuilt\n",
      "> node install.js\n",
      "\n",
      "Considering PhantomJS found at /home/jupyterlab/conda/bin/phantomjs\n",
      "Looks like an `npm install -g`\n",
      "Could not link global install, skipping...\n",
      "Downloading https://github.com/Medium/phantomjs/releases/download/v2.1.1/phantomjs-2.1.1-linux-x86_64.tar.bz2\n",
      "Saving to /tmp/phantomjs/phantomjs-2.1.1-linux-x86_64.tar.bz2\n",
      "Receiving...\n",
      "\u001b[2K\u001b[1G  [----------------------------------------] 0%\u001b[2K\u001b[1G  [=---------------------------------------] 4%\u001b[2K\u001b[1G  [====------------------------------------] 11%\u001b[2K\u001b[1G  [=========-------------------------------] 23%\u001b[2K\u001b[1G  [===============-------------------------] 38%\u001b[2K\u001b[1G  [=======================-----------------] 58%\u001b[2K\u001b[1G  [================================--------] 81%\n",
      "Received 22866K total.\n",
      "Extracting tar contents (via spawned process)\n",
      "Removing /home/jupyterlab/conda/lib/node_modules/phantomjs-prebuilt/lib/phantom\n",
      "Copying extracted folder /tmp/phantomjs/phantomjs-2.1.1-linux-x86_64.tar.bz2-extract-1557116093804/phantomjs-2.1.1-linux-x86_64 -> /home/jupyterlab/conda/lib/node_modules/phantomjs-prebuilt/lib/phantom\n",
      "Writing location.js file\n",
      "Done. Phantomjs binary available at /home/jupyterlab/conda/lib/node_modules/phantomjs-prebuilt/lib/phantom/bin/phantomjs\n",
      "+ phantomjs-prebuilt@2.1.16\n",
      "added 81 packages in 18.553s\n"
     ]
    }
   ],
   "source": [
    "!npm install -g phantomjs-prebuilt"
   ]
  },
  {
   "cell_type": "code",
   "execution_count": 18,
   "metadata": {},
   "outputs": [
    {
     "name": "stderr",
     "output_type": "stream",
     "text": [
      "/home/jupyterlab/conda/lib/python3.6/site-packages/selenium/webdriver/phantomjs/webdriver.py:49: UserWarning: Selenium support for PhantomJS has been deprecated, please use headless versions of Chrome or Firefox instead\n",
      "  warnings.warn('Selenium support for PhantomJS has been deprecated, please use headless '\n"
     ]
    }
   ],
   "source": [
    "driver = webdriver.PhantomJS(executable_path='/home/jupyterlab/conda/bin/phantomjs')\n",
    "browser = driver.get(\"https://www.myactivesg.com/Facilities/Swimming-Pools\")"
   ]
  },
  {
   "cell_type": "code",
   "execution_count": 19,
   "metadata": {},
   "outputs": [],
   "source": [
    "# load more info by clicking a button twice\n",
    "driver.find_element_by_class_name(\"js-load-more-json\").click()\n",
    "time.sleep(10)\n",
    "driver.find_element_by_class_name(\"js-load-more-json\").click()\n",
    "time.sleep(10)"
   ]
  },
  {
   "cell_type": "code",
   "execution_count": 20,
   "metadata": {},
   "outputs": [],
   "source": [
    "html_pool = driver.page_source\n",
    "page_soup = soup(html_pool, \"html.parser\")\n",
    "pool_list = page_soup.findAll(class_='desc-content')"
   ]
  },
  {
   "cell_type": "code",
   "execution_count": 21,
   "metadata": {},
   "outputs": [],
   "source": [
    "k = len(pool_list)"
   ]
  },
  {
   "cell_type": "code",
   "execution_count": 22,
   "metadata": {},
   "outputs": [],
   "source": [
    "name = []\n",
    "addre = []\n",
    "for i in range(0,k):\n",
    "    name.append(pool_list[i].h3.text)\n",
    "    addre.append(pool_list[i].p.text.strip())"
   ]
  },
  {
   "cell_type": "code",
   "execution_count": 23,
   "metadata": {},
   "outputs": [],
   "source": [
    "import pandas as pd"
   ]
  },
  {
   "cell_type": "code",
   "execution_count": 24,
   "metadata": {},
   "outputs": [],
   "source": [
    "df = pd.DataFrame(name, columns = ['name'])"
   ]
  },
  {
   "cell_type": "code",
   "execution_count": 25,
   "metadata": {},
   "outputs": [],
   "source": [
    "df['address'] = addre"
   ]
  },
  {
   "cell_type": "code",
   "execution_count": 43,
   "metadata": {},
   "outputs": [
    {
     "data": {
      "text/html": [
       "<div>\n",
       "<style scoped>\n",
       "    .dataframe tbody tr th:only-of-type {\n",
       "        vertical-align: middle;\n",
       "    }\n",
       "\n",
       "    .dataframe tbody tr th {\n",
       "        vertical-align: top;\n",
       "    }\n",
       "\n",
       "    .dataframe thead th {\n",
       "        text-align: right;\n",
       "    }\n",
       "</style>\n",
       "<table border=\"1\" class=\"dataframe\">\n",
       "  <thead>\n",
       "    <tr style=\"text-align: right;\">\n",
       "      <th></th>\n",
       "      <th>name</th>\n",
       "      <th>address</th>\n",
       "      <th>latitude</th>\n",
       "      <th>longitude</th>\n",
       "    </tr>\n",
       "  </thead>\n",
       "  <tbody>\n",
       "    <tr>\n",
       "      <th>0</th>\n",
       "      <td>Ang Mo Kio Swimming Complex</td>\n",
       "      <td>1771 Ang Mo Kio Avenue 1</td>\n",
       "      <td>1.36624</td>\n",
       "      <td>103.837</td>\n",
       "    </tr>\n",
       "    <tr>\n",
       "      <th>1</th>\n",
       "      <td>Bishan Swimming Complex</td>\n",
       "      <td>1 Bishan Street 14</td>\n",
       "      <td>1.35435</td>\n",
       "      <td>103.85</td>\n",
       "    </tr>\n",
       "    <tr>\n",
       "      <th>2</th>\n",
       "      <td>Bukit Batok Swimming Complex</td>\n",
       "      <td>2 Bukit Batok Street 22</td>\n",
       "      <td>1.34455</td>\n",
       "      <td>103.748</td>\n",
       "    </tr>\n",
       "    <tr>\n",
       "      <th>3</th>\n",
       "      <td>Choa Chu Kang Swimming Complex</td>\n",
       "      <td>1 Choa Chu Kang Street 53</td>\n",
       "      <td>1.39075</td>\n",
       "      <td>103.748</td>\n",
       "    </tr>\n",
       "    <tr>\n",
       "      <th>4</th>\n",
       "      <td>Clementi Swimming Complex</td>\n",
       "      <td>520 Clementi Avenue 3</td>\n",
       "      <td>1.31309</td>\n",
       "      <td>103.764</td>\n",
       "    </tr>\n",
       "  </tbody>\n",
       "</table>\n",
       "</div>"
      ],
      "text/plain": [
       "                             name                    address latitude  \\\n",
       "0     Ang Mo Kio Swimming Complex   1771 Ang Mo Kio Avenue 1  1.36624   \n",
       "1         Bishan Swimming Complex         1 Bishan Street 14  1.35435   \n",
       "2    Bukit Batok Swimming Complex    2 Bukit Batok Street 22  1.34455   \n",
       "3  Choa Chu Kang Swimming Complex  1 Choa Chu Kang Street 53  1.39075   \n",
       "4       Clementi Swimming Complex      520 Clementi Avenue 3  1.31309   \n",
       "\n",
       "  longitude  \n",
       "0   103.837  \n",
       "1    103.85  \n",
       "2   103.748  \n",
       "3   103.748  \n",
       "4   103.764  "
      ]
     },
     "execution_count": 43,
     "metadata": {},
     "output_type": "execute_result"
    }
   ],
   "source": [
    "df.head()"
   ]
  },
  {
   "cell_type": "code",
   "execution_count": 29,
   "metadata": {},
   "outputs": [],
   "source": [
    "import numpy as np\n",
    "from geopy.geocoders import Nominatim # convert an address into latitude and longitude values\n",
    "geolocator = Nominatim(user_agent=\"ny_explorer\")"
   ]
  },
  {
   "cell_type": "code",
   "execution_count": 30,
   "metadata": {},
   "outputs": [],
   "source": [
    "kk = len(df['name'])"
   ]
  },
  {
   "cell_type": "code",
   "execution_count": 31,
   "metadata": {},
   "outputs": [
    {
     "name": "stdout",
     "output_type": "stream",
     "text": [
      "0 1771 Ang Mo Kio Avenue 1 1.3662355 103.8367924\n",
      "1 1 Bishan Street 14 1.3543517 103.850109944691\n",
      "2 2 Bukit Batok Street 22 1.3445487 103.747565449942\n",
      "3 1 Choa Chu Kang Street 53 1.3907485 103.747541\n",
      "4 520 Clementi Avenue 3 1.3130935 103.7635491\n",
      "5 900 Tiong Bahru Road 1.2879477 103.8229\n",
      "6 601 Aljunied Avenue 1 1.3197456 103.8887725\n",
      "7 11, BEDOK NORTH STREET 1, 1.3271401 103.9324443\n",
      "8 11, BEDOK NORTH STREET 1, 1.3271401 103.9324443\n",
      "9 95 Hougang Avenue 4 1.3708523 103.8883225\n",
      "10 100 Tyrwhitt Road 1.3111783 103.8600837\n",
      "11 21 Jurong East Street 31 1.3447969 103.7301296\n",
      "12 30 Yuan Ching Road, Singapore 618664 not get not get\n",
      "13 20 Jurong West Street 93 1.3385662 103.694253294225\n",
      "14 23 Geylang Bahru Lane 1.3230354 103.8718375\n",
      "15 111 Wilkinson Road 1.3023162 103.8861515\n",
      "16 21 Evans Road, Singapore 259366 1.31829065 103.81912665637\n",
      "17 120 Pasir Ris Central 1.37440775 103.95197396492\n",
      "18 473 Stirling Road 1.2964621 103.8033987\n",
      "19 57 Anchorvale Road 1.39628345 103.887088436982\n",
      "20 101, BUKIT PANJANG ROAD, 1.38167025 103.764733577638\n",
      "21 35-A Yio Chu Kang Road 1.381635 103.8352196\n",
      "22 1, OUR TAMPINES HUB, TAMPINES WALK, not get not get\n",
      "23 301 Lorong 6 Toa Payoh 1.335003 103.8561676\n",
      "24 3 Woodlands St 13 1.4360115 103.7808606\n",
      "25 202 Ang Mo Kio Avenue 9 1.3832039 103.8402801\n"
     ]
    }
   ],
   "source": [
    "latitude = []\n",
    "longitude = []\n",
    "for i in range(0,kk):\n",
    "    addre =df.loc[i,'address']\n",
    "    \n",
    "    location = geolocator.geocode(\"{},Singapore\".format(addre))\n",
    "    if location:\n",
    "        latitude.append(location.latitude)\n",
    "        longitude.append(location.longitude)\n",
    "        mkl = np.sqrt(i+1)+np.sqrt(i+2)\n",
    "    else:\n",
    "        latitude.append('not get')\n",
    "        longitude.append('not get')\n",
    "    print(i, addre,latitude[i],longitude[i])"
   ]
  },
  {
   "cell_type": "code",
   "execution_count": 33,
   "metadata": {},
   "outputs": [],
   "source": [
    "df['latitude']=latitude\n",
    "df['longitude']=longitude"
   ]
  },
  {
   "cell_type": "code",
   "execution_count": 40,
   "metadata": {},
   "outputs": [
    {
     "data": {
      "text/html": [
       "<div>\n",
       "<style scoped>\n",
       "    .dataframe tbody tr th:only-of-type {\n",
       "        vertical-align: middle;\n",
       "    }\n",
       "\n",
       "    .dataframe tbody tr th {\n",
       "        vertical-align: top;\n",
       "    }\n",
       "\n",
       "    .dataframe thead th {\n",
       "        text-align: right;\n",
       "    }\n",
       "</style>\n",
       "<table border=\"1\" class=\"dataframe\">\n",
       "  <thead>\n",
       "    <tr style=\"text-align: right;\">\n",
       "      <th></th>\n",
       "      <th>name</th>\n",
       "      <th>address</th>\n",
       "      <th>latitude</th>\n",
       "      <th>longitude</th>\n",
       "    </tr>\n",
       "  </thead>\n",
       "  <tbody>\n",
       "  </tbody>\n",
       "</table>\n",
       "</div>"
      ],
      "text/plain": [
       "Empty DataFrame\n",
       "Columns: [name, address, latitude, longitude]\n",
       "Index: []"
      ]
     },
     "execution_count": 40,
     "metadata": {},
     "output_type": "execute_result"
    }
   ],
   "source": [
    "df[df['latitude']==\"not get\"]"
   ]
  },
  {
   "cell_type": "code",
   "execution_count": 41,
   "metadata": {},
   "outputs": [],
   "source": [
    "df.to_csv('swimming_pool_list.csv',index = False)"
   ]
  },
  {
   "cell_type": "code",
   "execution_count": 42,
   "metadata": {},
   "outputs": [
    {
     "data": {
      "text/html": [
       "<div>\n",
       "<style scoped>\n",
       "    .dataframe tbody tr th:only-of-type {\n",
       "        vertical-align: middle;\n",
       "    }\n",
       "\n",
       "    .dataframe tbody tr th {\n",
       "        vertical-align: top;\n",
       "    }\n",
       "\n",
       "    .dataframe thead th {\n",
       "        text-align: right;\n",
       "    }\n",
       "</style>\n",
       "<table border=\"1\" class=\"dataframe\">\n",
       "  <thead>\n",
       "    <tr style=\"text-align: right;\">\n",
       "      <th></th>\n",
       "      <th>name</th>\n",
       "      <th>address</th>\n",
       "      <th>latitude</th>\n",
       "      <th>longitude</th>\n",
       "    </tr>\n",
       "  </thead>\n",
       "  <tbody>\n",
       "    <tr>\n",
       "      <th>0</th>\n",
       "      <td>Ang Mo Kio Swimming Complex</td>\n",
       "      <td>1771 Ang Mo Kio Avenue 1</td>\n",
       "      <td>1.36624</td>\n",
       "      <td>103.837</td>\n",
       "    </tr>\n",
       "    <tr>\n",
       "      <th>1</th>\n",
       "      <td>Bishan Swimming Complex</td>\n",
       "      <td>1 Bishan Street 14</td>\n",
       "      <td>1.35435</td>\n",
       "      <td>103.85</td>\n",
       "    </tr>\n",
       "    <tr>\n",
       "      <th>2</th>\n",
       "      <td>Bukit Batok Swimming Complex</td>\n",
       "      <td>2 Bukit Batok Street 22</td>\n",
       "      <td>1.34455</td>\n",
       "      <td>103.748</td>\n",
       "    </tr>\n",
       "    <tr>\n",
       "      <th>3</th>\n",
       "      <td>Choa Chu Kang Swimming Complex</td>\n",
       "      <td>1 Choa Chu Kang Street 53</td>\n",
       "      <td>1.39075</td>\n",
       "      <td>103.748</td>\n",
       "    </tr>\n",
       "    <tr>\n",
       "      <th>4</th>\n",
       "      <td>Clementi Swimming Complex</td>\n",
       "      <td>520 Clementi Avenue 3</td>\n",
       "      <td>1.31309</td>\n",
       "      <td>103.764</td>\n",
       "    </tr>\n",
       "  </tbody>\n",
       "</table>\n",
       "</div>"
      ],
      "text/plain": [
       "                             name                    address latitude  \\\n",
       "0     Ang Mo Kio Swimming Complex   1771 Ang Mo Kio Avenue 1  1.36624   \n",
       "1         Bishan Swimming Complex         1 Bishan Street 14  1.35435   \n",
       "2    Bukit Batok Swimming Complex    2 Bukit Batok Street 22  1.34455   \n",
       "3  Choa Chu Kang Swimming Complex  1 Choa Chu Kang Street 53  1.39075   \n",
       "4       Clementi Swimming Complex      520 Clementi Avenue 3  1.31309   \n",
       "\n",
       "  longitude  \n",
       "0   103.837  \n",
       "1    103.85  \n",
       "2   103.748  \n",
       "3   103.748  \n",
       "4   103.764  "
      ]
     },
     "execution_count": 42,
     "metadata": {},
     "output_type": "execute_result"
    }
   ],
   "source": [
    "df.head()"
   ]
  },
  {
   "cell_type": "markdown",
   "metadata": {},
   "source": [
    "<h3> 2.5 Fairprice data</h3>"
   ]
  },
  {
   "cell_type": "markdown",
   "metadata": {},
   "source": [
    "<p>Fairprice supermarket stands for lower living expenses in Singapore. It is a chain supermarket run by NTUC(the National Trade Union Congress), and the fruit and vegetables there are usually lower in price but fresher, compared to other chain supermarkets like Cold storage.</p>"
   ]
  },
  {
   "cell_type": "markdown",
   "metadata": {},
   "source": [
    "<p>I downloaded Fairprice location data from its official website https://www.fairprice.com.sg/.  It is a pdf file that includes all the street information of all Fairprice stores, so I used python to abstract those text and input them in Geocoder package to get the exact latitude and longitude data.</p>"
   ]
  },
  {
   "cell_type": "code",
   "execution_count": 47,
   "metadata": {},
   "outputs": [
    {
     "name": "stdout",
     "output_type": "stream",
     "text": [
      "Collecting pdfminer3k\n",
      "\u001b[?25l  Downloading https://files.pythonhosted.org/packages/8c/87/cee0aa24f95c287020df7e3936cb51d32b34b05b430759bac15f89ea5ac2/pdfminer3k-1.3.1.tar.gz (4.1MB)\n",
      "\u001b[K    100% |████████████████████████████████| 4.1MB 6.8MB/s \n",
      "\u001b[?25hRequirement already satisfied: pytest>=2.0 in /home/jupyterlab/conda/lib/python3.6/site-packages (from pdfminer3k) (4.4.0)\n",
      "Requirement already satisfied: ply>=3.4 in /home/jupyterlab/conda/lib/python3.6/site-packages (from pdfminer3k) (3.11)\n",
      "Requirement already satisfied: py>=1.5.0 in /home/jupyterlab/conda/lib/python3.6/site-packages (from pytest>=2.0->pdfminer3k) (1.8.0)\n",
      "Requirement already satisfied: six>=1.10.0 in /home/jupyterlab/conda/lib/python3.6/site-packages (from pytest>=2.0->pdfminer3k) (1.12.0)\n",
      "Requirement already satisfied: setuptools in /home/jupyterlab/conda/lib/python3.6/site-packages (from pytest>=2.0->pdfminer3k) (41.0.0)\n",
      "Requirement already satisfied: attrs>=17.4.0 in /home/jupyterlab/conda/lib/python3.6/site-packages (from pytest>=2.0->pdfminer3k) (19.1.0)\n",
      "Requirement already satisfied: atomicwrites>=1.0 in /home/jupyterlab/conda/lib/python3.6/site-packages (from pytest>=2.0->pdfminer3k) (1.3.0)\n",
      "Requirement already satisfied: pluggy>=0.9 in /home/jupyterlab/conda/lib/python3.6/site-packages (from pytest>=2.0->pdfminer3k) (0.9.0)\n",
      "Requirement already satisfied: more-itertools>=4.0.0 in /home/jupyterlab/conda/lib/python3.6/site-packages (from pytest>=2.0->pdfminer3k) (6.0.0)\n",
      "Building wheels for collected packages: pdfminer3k\n",
      "  Building wheel for pdfminer3k (setup.py) ... \u001b[?25ldone\n",
      "\u001b[?25h  Stored in directory: /home/jupyterlab/.cache/pip/wheels/ca/4f/a7/cb601b4fb257d2321ac668b7c6e269176780bd0283eda855d2\n",
      "Successfully built pdfminer3k\n",
      "Installing collected packages: pdfminer3k\n",
      "Successfully installed pdfminer3k-1.3.1\n"
     ]
    }
   ],
   "source": [
    "!pip install pdfminer3k"
   ]
  },
  {
   "cell_type": "code",
   "execution_count": 48,
   "metadata": {},
   "outputs": [],
   "source": [
    "from io import StringIO\n",
    "from io import open\n",
    "from pdfminer.converter import TextConverter\n",
    "from pdfminer.layout import LAParams\n",
    "from pdfminer.pdfinterp import PDFResourceManager, process_pdf"
   ]
  },
  {
   "cell_type": "code",
   "execution_count": 50,
   "metadata": {},
   "outputs": [],
   "source": [
    "def read_pdf(pdf):\n",
    "    # resource manager\n",
    "    rsrcmgr = PDFResourceManager()\n",
    "    retstr = StringIO()\n",
    "    laparams = LAParams()\n",
    "    # device\n",
    "    device = TextConverter(rsrcmgr, retstr, laparams=laparams)\n",
    "    process_pdf(rsrcmgr, device, pdf)\n",
    "    device.close()\n",
    "    content = retstr.getvalue()\n",
    "    retstr.close()\n",
    "    # 获取所有行\n",
    "    lines = str(content).split(\"\\n\")\n",
    "    return lines\n"
   ]
  },
  {
   "cell_type": "code",
   "execution_count": 51,
   "metadata": {},
   "outputs": [],
   "source": [
    "with open('FairPrice_Stores.pdf', \"rb\") as my_pdf:\n",
    "        raw_pdf = read_pdf(my_pdf)"
   ]
  },
  {
   "cell_type": "code",
   "execution_count": 56,
   "metadata": {},
   "outputs": [
    {
     "data": {
      "text/plain": [
       "['Click and Collect',\n",
       " '',\n",
       " 'Telephone',\n",
       " 'Number(S)',\n",
       " '',\n",
       " '62193378,',\n",
       " '62193379',\n",
       " '',\n",
       " '62193378,',\n",
       " '62193379',\n",
       " '',\n",
       " '63687756,',\n",
       " '63681760',\n",
       " '',\n",
       " '63687756,',\n",
       " '63681760',\n",
       " '',\n",
       " '66047457,',\n",
       " '66047405',\n",
       " '66047457,',\n",
       " '66047405',\n",
       " '',\n",
       " '111 Somerset, 111 Somerset Road, #01-01/02, #01-',\n",
       " '21/30, 111 Somerset,',\n",
       " 'Singapore 238164',\n",
       " '111 Somerset, 111 Somerset Road, #01-01/02, #01-',\n",
       " '21/30, 111 Somerset,',\n",
       " 'Singapore 238164',\n",
       " '888 Woodlands Dr 50, 888 Woodlands Drive 50, #01-',\n",
       " '757,']"
      ]
     },
     "execution_count": 56,
     "metadata": {},
     "output_type": "execute_result"
    }
   ],
   "source": [
    "raw_pdf[30:60]"
   ]
  },
  {
   "cell_type": "code",
   "execution_count": 57,
   "metadata": {},
   "outputs": [],
   "source": [
    "k = len(raw_pdf)"
   ]
  },
  {
   "cell_type": "code",
   "execution_count": 59,
   "metadata": {},
   "outputs": [],
   "source": [
    "#find the address in pdf\n",
    "fair_addr = []\n",
    "fair_code = []\n",
    "for i in range(0,k):\n",
    "    if 'Singapore' in raw_pdf[i]:\n",
    "        if 'Singapore' in raw_pdf[i-2]:\n",
    "            fair_addr.append(raw_pdf[i-1])\n",
    "            fair_code.append(raw_pdf[i])\n",
    "        else:\n",
    "            fair_addr.append(raw_pdf[i-2])\n",
    "            fair_code.append(raw_pdf[i])"
   ]
  },
  {
   "cell_type": "code",
   "execution_count": 60,
   "metadata": {},
   "outputs": [],
   "source": [
    "kkk = len(fair_code)"
   ]
  },
  {
   "cell_type": "code",
   "execution_count": 61,
   "metadata": {},
   "outputs": [],
   "source": [
    "import re\n",
    "\n",
    "addr_detail = []\n",
    "for i in range(0,kkk):\n",
    "    addr_detail00 = fair_addr[i].split(',')\n",
    "    if len(addr_detail00)>1:\n",
    "        an = re.search('[A-Za-z]',addr_detail00[1])\n",
    "        if an:\n",
    "            addr_detail.append(addr_detail00[1])\n",
    "        else:\n",
    "            addr_detail.append(addr_detail00[0])\n",
    "    else:\n",
    "        addr_detail.append('not get')"
   ]
  },
  {
   "cell_type": "code",
   "execution_count": 62,
   "metadata": {},
   "outputs": [
    {
     "data": {
      "text/plain": [
       "177"
      ]
     },
     "execution_count": 62,
     "metadata": {},
     "output_type": "execute_result"
    }
   ],
   "source": [
    "addr_detail.index('not get')"
   ]
  },
  {
   "cell_type": "code",
   "execution_count": 63,
   "metadata": {},
   "outputs": [],
   "source": [
    "del addr_detail[177]"
   ]
  },
  {
   "cell_type": "code",
   "execution_count": 64,
   "metadata": {},
   "outputs": [
    {
     "data": {
      "text/plain": [
       "[' 111 Somerset Road',\n",
       " ' 111 Somerset Road',\n",
       " ' 888 Woodlands Drive 50',\n",
       " ' Blk 888 Woodlands Dr 50',\n",
       " ' 100 Tras Street',\n",
       " ' 100 Tras Street',\n",
       " ' 215 Ang Mo Kio Ave 1',\n",
       " ' Blk 574 Ang Mo Kio Ave',\n",
       " ' 712 Ang Mo Kio Ave 6',\n",
       " ' 311 New Upper Changi Road']"
      ]
     },
     "execution_count": 64,
     "metadata": {},
     "output_type": "execute_result"
    }
   ],
   "source": [
    "addr_detail[0:10]"
   ]
  },
  {
   "cell_type": "code",
   "execution_count": 67,
   "metadata": {},
   "outputs": [],
   "source": [
    "#delete the repeated ones\n",
    "addr_detail0=sorted(set(addr_detail),key=addr_detail.index)"
   ]
  },
  {
   "cell_type": "code",
   "execution_count": 68,
   "metadata": {},
   "outputs": [
    {
     "data": {
      "text/plain": [
       "162"
      ]
     },
     "execution_count": 68,
     "metadata": {},
     "output_type": "execute_result"
    }
   ],
   "source": [
    "kkk = len(addr_detail0)\n",
    "kkk"
   ]
  },
  {
   "cell_type": "code",
   "execution_count": null,
   "metadata": {},
   "outputs": [],
   "source": [
    "latitude = []\n",
    "longitude = []\n",
    "import numpy as np\n",
    "for i in range(0,kkk):\n",
    "    location = geolocator.geocode('{},Singapore'.format(addr_detail0[i]))\n",
    "    if location:\n",
    "        latitude.append(location.latitude)\n",
    "        longitude.append(location.longitude)\n",
    "        mkl = np.sqrt(i+1)+np.sqrt(i+2)\n",
    "    else:\n",
    "        latitude.append('not get')\n",
    "        longitude.append('not get')\n",
    "    #print(i,fair_code0[i],latitude[i],longitude[i] )"
   ]
  },
  {
   "cell_type": "code",
   "execution_count": null,
   "metadata": {},
   "outputs": [],
   "source": [
    "import pandas as pd"
   ]
  },
  {
   "cell_type": "code",
   "execution_count": null,
   "metadata": {},
   "outputs": [],
   "source": [
    "df = pd.DataFrame(addr_detail0, columns = [\"street\"])"
   ]
  },
  {
   "cell_type": "code",
   "execution_count": null,
   "metadata": {},
   "outputs": [],
   "source": [
    "df['latitude']=latitude"
   ]
  },
  {
   "cell_type": "code",
   "execution_count": null,
   "metadata": {},
   "outputs": [],
   "source": [
    "df['longitude']=longitude"
   ]
  },
  {
   "cell_type": "code",
   "execution_count": 84,
   "metadata": {},
   "outputs": [],
   "source": [
    "df.to_csv('fairprice_loc.csv',index = False)"
   ]
  },
  {
   "cell_type": "code",
   "execution_count": 85,
   "metadata": {},
   "outputs": [],
   "source": [
    "df = pd.read_csv('fairprice_loc.csv')"
   ]
  },
  {
   "cell_type": "code",
   "execution_count": 86,
   "metadata": {},
   "outputs": [
    {
     "data": {
      "text/html": [
       "<div>\n",
       "<style scoped>\n",
       "    .dataframe tbody tr th:only-of-type {\n",
       "        vertical-align: middle;\n",
       "    }\n",
       "\n",
       "    .dataframe tbody tr th {\n",
       "        vertical-align: top;\n",
       "    }\n",
       "\n",
       "    .dataframe thead th {\n",
       "        text-align: right;\n",
       "    }\n",
       "</style>\n",
       "<table border=\"1\" class=\"dataframe\">\n",
       "  <thead>\n",
       "    <tr style=\"text-align: right;\">\n",
       "      <th></th>\n",
       "      <th>street</th>\n",
       "      <th>latitude</th>\n",
       "      <th>longitude</th>\n",
       "    </tr>\n",
       "  </thead>\n",
       "  <tbody>\n",
       "    <tr>\n",
       "      <th>0</th>\n",
       "      <td>111 Somerset Road</td>\n",
       "      <td>1.300370</td>\n",
       "      <td>103.837350</td>\n",
       "    </tr>\n",
       "    <tr>\n",
       "      <th>1</th>\n",
       "      <td>888 Woodlands Drive 50</td>\n",
       "      <td>1.437796</td>\n",
       "      <td>103.795280</td>\n",
       "    </tr>\n",
       "    <tr>\n",
       "      <th>2</th>\n",
       "      <td>Blk 888 Woodlands Dr 50</td>\n",
       "      <td>1.436897</td>\n",
       "      <td>103.786216</td>\n",
       "    </tr>\n",
       "    <tr>\n",
       "      <th>3</th>\n",
       "      <td>100 Tras Street</td>\n",
       "      <td>1.274457</td>\n",
       "      <td>103.843654</td>\n",
       "    </tr>\n",
       "    <tr>\n",
       "      <th>4</th>\n",
       "      <td>215 Ang Mo Kio Ave 1</td>\n",
       "      <td>1.366606</td>\n",
       "      <td>103.841538</td>\n",
       "    </tr>\n",
       "  </tbody>\n",
       "</table>\n",
       "</div>"
      ],
      "text/plain": [
       "                     street  latitude   longitude\n",
       "0         111 Somerset Road  1.300370  103.837350\n",
       "1    888 Woodlands Drive 50  1.437796  103.795280\n",
       "2   Blk 888 Woodlands Dr 50  1.436897  103.786216\n",
       "3           100 Tras Street  1.274457  103.843654\n",
       "4      215 Ang Mo Kio Ave 1  1.366606  103.841538"
      ]
     },
     "execution_count": 86,
     "metadata": {},
     "output_type": "execute_result"
    }
   ],
   "source": [
    "df.head()"
   ]
  },
  {
   "cell_type": "markdown",
   "metadata": {},
   "source": [
    "<h3>2.4 MindChamps preschools related data</h3>"
   ]
  },
  {
   "cell_type": "markdown",
   "metadata": {},
   "source": [
    "<p>MindChamps is a very famous preschool brand in local education system, and it is also my favorite type. So I planned to explore further on choosing perfect block after clustering those HDB blocks and giving them different labels.</p>\n",
    "<p> This data set is not included in the cluster analysis</p>"
   ]
  },
  {
   "cell_type": "code",
   "execution_count": 24,
   "metadata": {},
   "outputs": [
    {
     "data": {
      "text/html": [
       "<div>\n",
       "<style scoped>\n",
       "    .dataframe tbody tr th:only-of-type {\n",
       "        vertical-align: middle;\n",
       "    }\n",
       "\n",
       "    .dataframe tbody tr th {\n",
       "        vertical-align: top;\n",
       "    }\n",
       "\n",
       "    .dataframe thead th {\n",
       "        text-align: right;\n",
       "    }\n",
       "</style>\n",
       "<table border=\"1\" class=\"dataframe\">\n",
       "  <thead>\n",
       "    <tr style=\"text-align: right;\">\n",
       "      <th></th>\n",
       "      <th>Unnamed: 0</th>\n",
       "      <th>name</th>\n",
       "      <th>address</th>\n",
       "      <th>centre_no</th>\n",
       "      <th>postal_code</th>\n",
       "      <th>address_0</th>\n",
       "      <th>latitude</th>\n",
       "      <th>longitude</th>\n",
       "    </tr>\n",
       "  </thead>\n",
       "  <tbody>\n",
       "    <tr>\n",
       "      <th>0</th>\n",
       "      <td>0</td>\n",
       "      <td>Boon Keng (Kallang)</td>\n",
       "      <td>30A Kallang Place, #01-01, Singapore 339213 (n...</td>\n",
       "      <td>6291 3068 /\\n8820 3118</td>\n",
       "      <td>339213</td>\n",
       "      <td>30A Kallang Place</td>\n",
       "      <td>1.314695</td>\n",
       "      <td>103.865767</td>\n",
       "    </tr>\n",
       "    <tr>\n",
       "      <th>1</th>\n",
       "      <td>1</td>\n",
       "      <td>City Square Mall</td>\n",
       "      <td>180 Kitchener Road, City Square Mall #07-01/05...</td>\n",
       "      <td>6834 4388</td>\n",
       "      <td>208539</td>\n",
       "      <td>180 Kitchener Road</td>\n",
       "      <td>1.311243</td>\n",
       "      <td>103.856577</td>\n",
       "    </tr>\n",
       "    <tr>\n",
       "      <th>2</th>\n",
       "      <td>2</td>\n",
       "      <td>Concorde Hotel (Orchard)</td>\n",
       "      <td>100 Orchard Road, #01-03C, Concorde Hotel &amp; Sh...</td>\n",
       "      <td>6235 2358 /\\n9665 3840</td>\n",
       "      <td>238840</td>\n",
       "      <td>100 Orchard Road</td>\n",
       "      <td>1.300618</td>\n",
       "      <td>103.842155</td>\n",
       "    </tr>\n",
       "    <tr>\n",
       "      <th>3</th>\n",
       "      <td>3</td>\n",
       "      <td>Liang Court</td>\n",
       "      <td>177 River Valley Road, Liang Court #05-01, Sin...</td>\n",
       "      <td>6338 3002 /\\n9114 2280</td>\n",
       "      <td>179030</td>\n",
       "      <td>177 River Valley Road</td>\n",
       "      <td>1.291575</td>\n",
       "      <td>103.845284</td>\n",
       "    </tr>\n",
       "    <tr>\n",
       "      <th>4</th>\n",
       "      <td>4</td>\n",
       "      <td>Paragon</td>\n",
       "      <td>290 Orchard Road, Paragon #06-19/20, Singapore...</td>\n",
       "      <td>6732 0087</td>\n",
       "      <td>238859</td>\n",
       "      <td>290 Orchard Road</td>\n",
       "      <td>1.303661</td>\n",
       "      <td>103.835366</td>\n",
       "    </tr>\n",
       "  </tbody>\n",
       "</table>\n",
       "</div>"
      ],
      "text/plain": [
       "   Unnamed: 0                      name  \\\n",
       "0           0       Boon Keng (Kallang)   \n",
       "1           1          City Square Mall   \n",
       "2           2  Concorde Hotel (Orchard)   \n",
       "3           3               Liang Court   \n",
       "4           4                   Paragon   \n",
       "\n",
       "                                             address               centre_no  \\\n",
       "0  30A Kallang Place, #01-01, Singapore 339213 (n...  6291 3068 /\\n8820 3118   \n",
       "1  180 Kitchener Road, City Square Mall #07-01/05...               6834 4388   \n",
       "2  100 Orchard Road, #01-03C, Concorde Hotel & Sh...  6235 2358 /\\n9665 3840   \n",
       "3  177 River Valley Road, Liang Court #05-01, Sin...  6338 3002 /\\n9114 2280   \n",
       "4  290 Orchard Road, Paragon #06-19/20, Singapore...               6732 0087   \n",
       "\n",
       "   postal_code              address_0  latitude   longitude  \n",
       "0       339213      30A Kallang Place  1.314695  103.865767  \n",
       "1       208539     180 Kitchener Road  1.311243  103.856577  \n",
       "2       238840       100 Orchard Road  1.300618  103.842155  \n",
       "3       179030  177 River Valley Road  1.291575  103.845284  \n",
       "4       238859       290 Orchard Road  1.303661  103.835366  "
      ]
     },
     "execution_count": 24,
     "metadata": {},
     "output_type": "execute_result"
    }
   ],
   "source": [
    "filename5 = \"mindchamps_info.csv\"\n",
    "df5 = pd.read_csv(filename5)\n",
    "df5.head()"
   ]
  },
  {
   "cell_type": "markdown",
   "metadata": {},
   "source": [
    "<h2>3 convert data into variables</h2>"
   ]
  },
  {
   "cell_type": "markdown",
   "metadata": {},
   "source": [
    "<p> We can refine six variables, shown in the following table</p>"
   ]
  },
  {
   "cell_type": "markdown",
   "metadata": {},
   "source": [
    "|Name|Definition|\n",
    "|------|-----:|\n",
    "|dis_MRT|Distance to the nearest MRT exit|\n",
    "|dis_fairprice|Distance to the nearest Fairprice supermarket|\n",
    "|prim_no|Numbers of primary schools within 1km|\n",
    "|dis_pool|Distance to the most adjacent swimming complex|\n",
    "|psf_sale|Selling price per square inch|\n",
    "|year_completed|The year when the HDB block is completed|"
   ]
  },
  {
   "cell_type": "markdown",
   "metadata": {},
   "source": [
    "<p> We need to convert the data we got into variables in our model, except for the last two variables in the table, which already exist in our data</p>"
   ]
  },
  {
   "cell_type": "markdown",
   "metadata": {},
   "source": [
    "<h3>3.1 Distance to the nearest MRT exit</h3>"
   ]
  },
  {
   "cell_type": "code",
   "execution_count": 2,
   "metadata": {},
   "outputs": [],
   "source": [
    "import pandas as pd"
   ]
  },
  {
   "cell_type": "code",
   "execution_count": 3,
   "metadata": {},
   "outputs": [],
   "source": [
    "# basic info of HDB blocks\n",
    "df = pd.read_csv('0_blocks_include_price.csv')"
   ]
  },
  {
   "cell_type": "code",
   "execution_count": 4,
   "metadata": {},
   "outputs": [],
   "source": [
    "# MRT\n",
    "df00 = pd.read_csv('exit_Data.csv')"
   ]
  },
  {
   "cell_type": "code",
   "execution_count": 5,
   "metadata": {},
   "outputs": [],
   "source": [
    "k = len(df['latitude'])\n",
    "k0 = len(df00['latitude'])"
   ]
  },
  {
   "cell_type": "code",
   "execution_count": 6,
   "metadata": {},
   "outputs": [],
   "source": [
    "#compute the distance between the nearest exit and the HDB BLOCKS\n",
    "from math import sin, cos, sqrt, atan2, radians\n",
    "dis_near = []\n",
    "for i in  range(0,k):\n",
    "    distance = []\n",
    "    R = 6373.0\n",
    "    lat1 = radians(df['latitude'][i])\n",
    "    lon1 = radians(df['longitude'][i])\n",
    "    for j in range(0,k0):\n",
    "        lat2 = radians(df00['latitude'][j])\n",
    "        lon2 = radians(df00['longitude'][j])\n",
    "\n",
    "        dlon = lon2 - lon1\n",
    "        dlat = lat2 - lat1\n",
    "\n",
    "        a = sin(dlat / 2)**2 + cos(lat1) * cos(lat2) * sin(dlon / 2)**2\n",
    "        c = 2 * atan2(sqrt(a), sqrt(1 - a))\n",
    "\n",
    "        distance.append(R * c*1000)\n",
    "    dis_near.append(min(distance))"
   ]
  },
  {
   "cell_type": "code",
   "execution_count": 7,
   "metadata": {},
   "outputs": [],
   "source": [
    "df['dis_MRT'] = dis_near"
   ]
  },
  {
   "cell_type": "markdown",
   "metadata": {},
   "source": [
    "<h3>3.2 Distance to the nearest Fairprice supermarket</h3>"
   ]
  },
  {
   "cell_type": "code",
   "execution_count": 8,
   "metadata": {},
   "outputs": [],
   "source": [
    "# fairpirce\n",
    "df03 = pd.read_csv('fairprice_loc.csv')"
   ]
  },
  {
   "cell_type": "code",
   "execution_count": 9,
   "metadata": {},
   "outputs": [],
   "source": [
    "k3 = len(df03['street'])"
   ]
  },
  {
   "cell_type": "code",
   "execution_count": 12,
   "metadata": {},
   "outputs": [],
   "source": [
    "#compute the distance between the nearest fairpirce and the HDB BLOCKS\n",
    "\n",
    "for i in  range(0,k):\n",
    "    distance = []\n",
    "    R = 6373.0\n",
    "    lat1 = radians(df['latitude'][i])\n",
    "    lon1 = radians(df['longitude'][i])\n",
    "    for j in range(0,k3):\n",
    "        lat2 = radians(df03['latitude'][j])\n",
    "        lon2 = radians(df03['longitude'][j])\n",
    "\n",
    "        dlon = lon2 - lon1\n",
    "        dlat = lat2 - lat1\n",
    "\n",
    "        a = sin(dlat / 2)**2 + cos(lat1) * cos(lat2) * sin(dlon / 2)**2\n",
    "        c = 2 * atan2(sqrt(a), sqrt(1 - a))\n",
    "\n",
    "        distance.append(R * c*1000)\n",
    "    df.loc[i,'dis_fairprice'] = min(distance)"
   ]
  },
  {
   "cell_type": "markdown",
   "metadata": {},
   "source": [
    "<h3>3.3 Numbers of primary schools within 1km</h3>"
   ]
  },
  {
   "cell_type": "code",
   "execution_count": 13,
   "metadata": {},
   "outputs": [],
   "source": [
    "# primary school\n",
    "df01 = pd.read_csv('primary_school.csv')"
   ]
  },
  {
   "cell_type": "code",
   "execution_count": 14,
   "metadata": {},
   "outputs": [],
   "source": [
    "k1 = len(df01['name'])"
   ]
  },
  {
   "cell_type": "code",
   "execution_count": 15,
   "metadata": {},
   "outputs": [],
   "source": [
    "for i in  range(0,k):\n",
    "    m = 0\n",
    "    R = 6373.0\n",
    "    lat1 = radians(df['latitude'][i])\n",
    "    lon1 = radians(df['longitude'][i])\n",
    "    for j in range(0,k1):\n",
    "        lat2 = radians(df01['latitude'][j])\n",
    "        lon2 = radians(df01['longitude'][j])\n",
    "\n",
    "        dlon = lon2 - lon1\n",
    "        dlat = lat2 - lat1\n",
    "\n",
    "        a = sin(dlat / 2)**2 + cos(lat1) * cos(lat2) * sin(dlon / 2)**2\n",
    "        c = 2 * atan2(sqrt(a), sqrt(1 - a))\n",
    "\n",
    "        distance = R * c\n",
    "        if distance < 1:\n",
    "            m = m+1\n",
    "    df.loc[i,'prim_no'] = m"
   ]
  },
  {
   "cell_type": "markdown",
   "metadata": {},
   "source": [
    "<h3>3.4 Distance to the most adjacent swimming complex</h3>"
   ]
  },
  {
   "cell_type": "code",
   "execution_count": 16,
   "metadata": {},
   "outputs": [],
   "source": [
    "# swimming complex\n",
    "df04 = pd.read_csv('swimming_pool_list.csv')"
   ]
  },
  {
   "cell_type": "code",
   "execution_count": 17,
   "metadata": {},
   "outputs": [],
   "source": [
    "k4 = len(df04['name'])"
   ]
  },
  {
   "cell_type": "code",
   "execution_count": 19,
   "metadata": {},
   "outputs": [],
   "source": [
    "#compute the distance between the nearest swiming complex and the HDB BLOCKS\n",
    "\n",
    "\n",
    "for i in  range(0,k):\n",
    "    distance = []\n",
    "    R = 6373.0\n",
    "    lat1 = radians(df['latitude'][i])\n",
    "    lon1 = radians(df['longitude'][i])\n",
    "    for j in range(0,k4):\n",
    "        lat2 = radians(df04['latitude'][j])\n",
    "        lon2 = radians(df04['longitude'][j])\n",
    "\n",
    "        dlon = lon2 - lon1\n",
    "        dlat = lat2 - lat1\n",
    "\n",
    "        a = sin(dlat / 2)**2 + cos(lat1) * cos(lat2) * sin(dlon / 2)**2\n",
    "        c = 2 * atan2(sqrt(a), sqrt(1 - a))\n",
    "\n",
    "        distance.append(R * c*1000)\n",
    "    df.loc[i,'dis_pool'] = min(distance)\n",
    "    df.loc[i,'pool_name'] = df04.loc[distance.index(min(distance)),'name']\n",
    "    "
   ]
  },
  {
   "cell_type": "code",
   "execution_count": 83,
   "metadata": {},
   "outputs": [],
   "source": [
    "df.to_csv('HDB_final001.csv')"
   ]
  },
  {
   "cell_type": "markdown",
   "metadata": {},
   "source": [
    "<h2>4 Clustering analysis</h2> "
   ]
  },
  {
   "cell_type": "markdown",
   "metadata": {},
   "source": [
    "<h3>4.1 K-means clustering</h3>"
   ]
  },
  {
   "cell_type": "code",
   "execution_count": 21,
   "metadata": {},
   "outputs": [],
   "source": [
    "import pandas as pd\n",
    "df = pd.read_csv('0_blocks_include_price.csv')"
   ]
  },
  {
   "cell_type": "code",
   "execution_count": 22,
   "metadata": {},
   "outputs": [
    {
     "data": {
      "text/html": [
       "<div>\n",
       "<style scoped>\n",
       "    .dataframe tbody tr th:only-of-type {\n",
       "        vertical-align: middle;\n",
       "    }\n",
       "\n",
       "    .dataframe tbody tr th {\n",
       "        vertical-align: top;\n",
       "    }\n",
       "\n",
       "    .dataframe thead th {\n",
       "        text-align: right;\n",
       "    }\n",
       "</style>\n",
       "<table border=\"1\" class=\"dataframe\">\n",
       "  <thead>\n",
       "    <tr style=\"text-align: right;\">\n",
       "      <th></th>\n",
       "      <th>psf_sale</th>\n",
       "      <th>blk_no</th>\n",
       "      <th>street</th>\n",
       "      <th>max_floor_lvl</th>\n",
       "      <th>year_completed</th>\n",
       "      <th>residential</th>\n",
       "      <th>commercial</th>\n",
       "      <th>market_hawker</th>\n",
       "      <th>miscellaneous</th>\n",
       "      <th>multistorey_carpark</th>\n",
       "      <th>...</th>\n",
       "      <th>other_room_rental</th>\n",
       "      <th>longitude</th>\n",
       "      <th>latitude</th>\n",
       "      <th>dis_MRT</th>\n",
       "      <th>prim_no</th>\n",
       "      <th>dis_mind</th>\n",
       "      <th>mind_name</th>\n",
       "      <th>dis_fairprice</th>\n",
       "      <th>dis_pool</th>\n",
       "      <th>pool_name</th>\n",
       "    </tr>\n",
       "  </thead>\n",
       "  <tbody>\n",
       "    <tr>\n",
       "      <th>0</th>\n",
       "      <td>1005.1875</td>\n",
       "      <td>1A</td>\n",
       "      <td>CANTONMENT RD</td>\n",
       "      <td>50</td>\n",
       "      <td>2009</td>\n",
       "      <td>Y</td>\n",
       "      <td>N</td>\n",
       "      <td>N</td>\n",
       "      <td>Y</td>\n",
       "      <td>N</td>\n",
       "      <td>...</td>\n",
       "      <td>0</td>\n",
       "      <td>103.840953</td>\n",
       "      <td>1.277830</td>\n",
       "      <td>199.468223</td>\n",
       "      <td>1.0</td>\n",
       "      <td>959.197869</td>\n",
       "      <td>Cecil Street (The Octagon)</td>\n",
       "      <td>220.887653</td>\n",
       "      <td>2301.414936</td>\n",
       "      <td>Raffles Town Club</td>\n",
       "    </tr>\n",
       "    <tr>\n",
       "      <th>1</th>\n",
       "      <td>1075.0</td>\n",
       "      <td>10A</td>\n",
       "      <td>BOON TIONG RD</td>\n",
       "      <td>40</td>\n",
       "      <td>2014</td>\n",
       "      <td>Y</td>\n",
       "      <td>N</td>\n",
       "      <td>N</td>\n",
       "      <td>Y</td>\n",
       "      <td>N</td>\n",
       "      <td>...</td>\n",
       "      <td>0</td>\n",
       "      <td>103.833135</td>\n",
       "      <td>1.286793</td>\n",
       "      <td>628.886166</td>\n",
       "      <td>2.0</td>\n",
       "      <td>1451.859100</td>\n",
       "      <td>Liang Court</td>\n",
       "      <td>426.195557</td>\n",
       "      <td>1145.402321</td>\n",
       "      <td>Raffles Town Club</td>\n",
       "    </tr>\n",
       "    <tr>\n",
       "      <th>2</th>\n",
       "      <td>287.625</td>\n",
       "      <td>36</td>\n",
       "      <td>MARSILING DR</td>\n",
       "      <td>25</td>\n",
       "      <td>1977</td>\n",
       "      <td>Y</td>\n",
       "      <td>N</td>\n",
       "      <td>N</td>\n",
       "      <td>N</td>\n",
       "      <td>N</td>\n",
       "      <td>...</td>\n",
       "      <td>0</td>\n",
       "      <td>103.775188</td>\n",
       "      <td>1.442024</td>\n",
       "      <td>1031.568882</td>\n",
       "      <td>1.0</td>\n",
       "      <td>3344.729692</td>\n",
       "      <td>Woodlands</td>\n",
       "      <td>1048.577178</td>\n",
       "      <td>919.340838</td>\n",
       "      <td>Changi Business Park</td>\n",
       "    </tr>\n",
       "    <tr>\n",
       "      <th>3</th>\n",
       "      <td>289.2</td>\n",
       "      <td>201</td>\n",
       "      <td>MARSILING DR</td>\n",
       "      <td>14</td>\n",
       "      <td>1980</td>\n",
       "      <td>Y</td>\n",
       "      <td>N</td>\n",
       "      <td>N</td>\n",
       "      <td>N</td>\n",
       "      <td>N</td>\n",
       "      <td>...</td>\n",
       "      <td>0</td>\n",
       "      <td>103.775188</td>\n",
       "      <td>1.442024</td>\n",
       "      <td>1031.568882</td>\n",
       "      <td>1.0</td>\n",
       "      <td>3344.729692</td>\n",
       "      <td>Woodlands</td>\n",
       "      <td>1048.577178</td>\n",
       "      <td>919.340838</td>\n",
       "      <td>Changi Business Park</td>\n",
       "    </tr>\n",
       "    <tr>\n",
       "      <th>4</th>\n",
       "      <td>290.25</td>\n",
       "      <td>812</td>\n",
       "      <td>JURONG WEST ST 81</td>\n",
       "      <td>12</td>\n",
       "      <td>1989</td>\n",
       "      <td>Y</td>\n",
       "      <td>Y</td>\n",
       "      <td>N</td>\n",
       "      <td>N</td>\n",
       "      <td>N</td>\n",
       "      <td>...</td>\n",
       "      <td>0</td>\n",
       "      <td>103.695902</td>\n",
       "      <td>1.346300</td>\n",
       "      <td>951.765621</td>\n",
       "      <td>5.0</td>\n",
       "      <td>879.546854</td>\n",
       "      <td>Jurong West</td>\n",
       "      <td>1283.229845</td>\n",
       "      <td>879.546854</td>\n",
       "      <td>Toa Payoh</td>\n",
       "    </tr>\n",
       "  </tbody>\n",
       "</table>\n",
       "<p>5 rows × 34 columns</p>\n",
       "</div>"
      ],
      "text/plain": [
       "    psf_sale blk_no             street  max_floor_lvl  year_completed  \\\n",
       "0  1005.1875     1A      CANTONMENT RD             50            2009   \n",
       "1     1075.0    10A      BOON TIONG RD             40            2014   \n",
       "2    287.625     36       MARSILING DR             25            1977   \n",
       "3      289.2    201       MARSILING DR             14            1980   \n",
       "4     290.25    812  JURONG WEST ST 81             12            1989   \n",
       "\n",
       "  residential commercial market_hawker miscellaneous multistorey_carpark  ...  \\\n",
       "0           Y          N             N             Y                   N  ...   \n",
       "1           Y          N             N             Y                   N  ...   \n",
       "2           Y          N             N             N                   N  ...   \n",
       "3           Y          N             N             N                   N  ...   \n",
       "4           Y          Y             N             N                   N  ...   \n",
       "\n",
       "  other_room_rental   longitude  latitude      dis_MRT  prim_no     dis_mind  \\\n",
       "0                 0  103.840953  1.277830   199.468223      1.0   959.197869   \n",
       "1                 0  103.833135  1.286793   628.886166      2.0  1451.859100   \n",
       "2                 0  103.775188  1.442024  1031.568882      1.0  3344.729692   \n",
       "3                 0  103.775188  1.442024  1031.568882      1.0  3344.729692   \n",
       "4                 0  103.695902  1.346300   951.765621      5.0   879.546854   \n",
       "\n",
       "                    mind_name  dis_fairprice     dis_pool  \\\n",
       "0  Cecil Street (The Octagon)     220.887653  2301.414936   \n",
       "1                 Liang Court     426.195557  1145.402321   \n",
       "2                   Woodlands    1048.577178   919.340838   \n",
       "3                   Woodlands    1048.577178   919.340838   \n",
       "4                 Jurong West    1283.229845   879.546854   \n",
       "\n",
       "              pool_name  \n",
       "0     Raffles Town Club  \n",
       "1     Raffles Town Club  \n",
       "2  Changi Business Park  \n",
       "3  Changi Business Park  \n",
       "4             Toa Payoh  \n",
       "\n",
       "[5 rows x 34 columns]"
      ]
     },
     "execution_count": 22,
     "metadata": {},
     "output_type": "execute_result"
    }
   ],
   "source": [
    "df.head()"
   ]
  },
  {
   "cell_type": "code",
   "execution_count": 23,
   "metadata": {},
   "outputs": [],
   "source": [
    "df01 = df[['blk_no','street','latitude','longitude']]"
   ]
  },
  {
   "cell_type": "code",
   "execution_count": 24,
   "metadata": {},
   "outputs": [
    {
     "data": {
      "text/html": [
       "<div>\n",
       "<style scoped>\n",
       "    .dataframe tbody tr th:only-of-type {\n",
       "        vertical-align: middle;\n",
       "    }\n",
       "\n",
       "    .dataframe tbody tr th {\n",
       "        vertical-align: top;\n",
       "    }\n",
       "\n",
       "    .dataframe thead th {\n",
       "        text-align: right;\n",
       "    }\n",
       "</style>\n",
       "<table border=\"1\" class=\"dataframe\">\n",
       "  <thead>\n",
       "    <tr style=\"text-align: right;\">\n",
       "      <th></th>\n",
       "      <th>blk_no</th>\n",
       "      <th>street</th>\n",
       "      <th>latitude</th>\n",
       "      <th>longitude</th>\n",
       "    </tr>\n",
       "  </thead>\n",
       "  <tbody>\n",
       "    <tr>\n",
       "      <th>0</th>\n",
       "      <td>1A</td>\n",
       "      <td>CANTONMENT RD</td>\n",
       "      <td>1.277830</td>\n",
       "      <td>103.840953</td>\n",
       "    </tr>\n",
       "    <tr>\n",
       "      <th>1</th>\n",
       "      <td>10A</td>\n",
       "      <td>BOON TIONG RD</td>\n",
       "      <td>1.286793</td>\n",
       "      <td>103.833135</td>\n",
       "    </tr>\n",
       "    <tr>\n",
       "      <th>2</th>\n",
       "      <td>36</td>\n",
       "      <td>MARSILING DR</td>\n",
       "      <td>1.442024</td>\n",
       "      <td>103.775188</td>\n",
       "    </tr>\n",
       "    <tr>\n",
       "      <th>3</th>\n",
       "      <td>201</td>\n",
       "      <td>MARSILING DR</td>\n",
       "      <td>1.442024</td>\n",
       "      <td>103.775188</td>\n",
       "    </tr>\n",
       "    <tr>\n",
       "      <th>4</th>\n",
       "      <td>812</td>\n",
       "      <td>JURONG WEST ST 81</td>\n",
       "      <td>1.346300</td>\n",
       "      <td>103.695902</td>\n",
       "    </tr>\n",
       "  </tbody>\n",
       "</table>\n",
       "</div>"
      ],
      "text/plain": [
       "  blk_no             street  latitude   longitude\n",
       "0     1A      CANTONMENT RD  1.277830  103.840953\n",
       "1    10A      BOON TIONG RD  1.286793  103.833135\n",
       "2     36       MARSILING DR  1.442024  103.775188\n",
       "3    201       MARSILING DR  1.442024  103.775188\n",
       "4    812  JURONG WEST ST 81  1.346300  103.695902"
      ]
     },
     "execution_count": 24,
     "metadata": {},
     "output_type": "execute_result"
    }
   ],
   "source": [
    "df01.head()"
   ]
  },
  {
   "cell_type": "code",
   "execution_count": 26,
   "metadata": {},
   "outputs": [],
   "source": [
    "df.drop(df.index[1529],inplace = True)"
   ]
  },
  {
   "cell_type": "code",
   "execution_count": 27,
   "metadata": {},
   "outputs": [
    {
     "data": {
      "text/html": [
       "<div>\n",
       "<style scoped>\n",
       "    .dataframe tbody tr th:only-of-type {\n",
       "        vertical-align: middle;\n",
       "    }\n",
       "\n",
       "    .dataframe tbody tr th {\n",
       "        vertical-align: top;\n",
       "    }\n",
       "\n",
       "    .dataframe thead th {\n",
       "        text-align: right;\n",
       "    }\n",
       "</style>\n",
       "<table border=\"1\" class=\"dataframe\">\n",
       "  <thead>\n",
       "    <tr style=\"text-align: right;\">\n",
       "      <th></th>\n",
       "      <th>psf_sale</th>\n",
       "      <th>blk_no</th>\n",
       "      <th>street</th>\n",
       "      <th>max_floor_lvl</th>\n",
       "      <th>year_completed</th>\n",
       "      <th>residential</th>\n",
       "      <th>commercial</th>\n",
       "      <th>market_hawker</th>\n",
       "      <th>miscellaneous</th>\n",
       "      <th>multistorey_carpark</th>\n",
       "      <th>...</th>\n",
       "      <th>other_room_rental</th>\n",
       "      <th>longitude</th>\n",
       "      <th>latitude</th>\n",
       "      <th>dis_MRT</th>\n",
       "      <th>prim_no</th>\n",
       "      <th>dis_mind</th>\n",
       "      <th>mind_name</th>\n",
       "      <th>dis_fairprice</th>\n",
       "      <th>dis_pool</th>\n",
       "      <th>pool_name</th>\n",
       "    </tr>\n",
       "  </thead>\n",
       "  <tbody>\n",
       "  </tbody>\n",
       "</table>\n",
       "<p>0 rows × 34 columns</p>\n",
       "</div>"
      ],
      "text/plain": [
       "Empty DataFrame\n",
       "Columns: [psf_sale, blk_no, street, max_floor_lvl, year_completed, residential, commercial, market_hawker, miscellaneous, multistorey_carpark, precinct_pavilion, bldg_contract_town, total_dwelling_units, 1room_sold, 2room_sold, 3room_sold, 4room_sold, 5room_sold, exec_sold, multigen_sold, studio_apartment_sold, 1room_rental, 2room_rental, 3room_rental, other_room_rental, longitude, latitude, dis_MRT, prim_no, dis_mind, mind_name, dis_fairprice, dis_pool, pool_name]\n",
       "Index: []\n",
       "\n",
       "[0 rows x 34 columns]"
      ]
     },
     "execution_count": 27,
     "metadata": {},
     "output_type": "execute_result"
    }
   ],
   "source": [
    "df[df['psf_sale']=='not get']"
   ]
  },
  {
   "cell_type": "code",
   "execution_count": 28,
   "metadata": {},
   "outputs": [],
   "source": [
    "df00 = df[['year_completed','dis_MRT','prim_no','psf_sale','dis_fairprice','dis_pool']]"
   ]
  },
  {
   "cell_type": "code",
   "execution_count": 29,
   "metadata": {},
   "outputs": [
    {
     "data": {
      "text/html": [
       "<div>\n",
       "<style scoped>\n",
       "    .dataframe tbody tr th:only-of-type {\n",
       "        vertical-align: middle;\n",
       "    }\n",
       "\n",
       "    .dataframe tbody tr th {\n",
       "        vertical-align: top;\n",
       "    }\n",
       "\n",
       "    .dataframe thead th {\n",
       "        text-align: right;\n",
       "    }\n",
       "</style>\n",
       "<table border=\"1\" class=\"dataframe\">\n",
       "  <thead>\n",
       "    <tr style=\"text-align: right;\">\n",
       "      <th></th>\n",
       "      <th>year_completed</th>\n",
       "      <th>dis_MRT</th>\n",
       "      <th>prim_no</th>\n",
       "      <th>psf_sale</th>\n",
       "      <th>dis_fairprice</th>\n",
       "      <th>dis_pool</th>\n",
       "    </tr>\n",
       "  </thead>\n",
       "  <tbody>\n",
       "    <tr>\n",
       "      <th>0</th>\n",
       "      <td>2009</td>\n",
       "      <td>199.468223</td>\n",
       "      <td>1.0</td>\n",
       "      <td>1005.1875</td>\n",
       "      <td>220.887653</td>\n",
       "      <td>2301.414936</td>\n",
       "    </tr>\n",
       "    <tr>\n",
       "      <th>1</th>\n",
       "      <td>2014</td>\n",
       "      <td>628.886166</td>\n",
       "      <td>2.0</td>\n",
       "      <td>1075.0</td>\n",
       "      <td>426.195557</td>\n",
       "      <td>1145.402321</td>\n",
       "    </tr>\n",
       "    <tr>\n",
       "      <th>2</th>\n",
       "      <td>1977</td>\n",
       "      <td>1031.568882</td>\n",
       "      <td>1.0</td>\n",
       "      <td>287.625</td>\n",
       "      <td>1048.577178</td>\n",
       "      <td>919.340838</td>\n",
       "    </tr>\n",
       "    <tr>\n",
       "      <th>3</th>\n",
       "      <td>1980</td>\n",
       "      <td>1031.568882</td>\n",
       "      <td>1.0</td>\n",
       "      <td>289.2</td>\n",
       "      <td>1048.577178</td>\n",
       "      <td>919.340838</td>\n",
       "    </tr>\n",
       "    <tr>\n",
       "      <th>4</th>\n",
       "      <td>1989</td>\n",
       "      <td>951.765621</td>\n",
       "      <td>5.0</td>\n",
       "      <td>290.25</td>\n",
       "      <td>1283.229845</td>\n",
       "      <td>879.546854</td>\n",
       "    </tr>\n",
       "  </tbody>\n",
       "</table>\n",
       "</div>"
      ],
      "text/plain": [
       "   year_completed      dis_MRT  prim_no   psf_sale  dis_fairprice     dis_pool\n",
       "0            2009   199.468223      1.0  1005.1875     220.887653  2301.414936\n",
       "1            2014   628.886166      2.0     1075.0     426.195557  1145.402321\n",
       "2            1977  1031.568882      1.0    287.625    1048.577178   919.340838\n",
       "3            1980  1031.568882      1.0      289.2    1048.577178   919.340838\n",
       "4            1989   951.765621      5.0     290.25    1283.229845   879.546854"
      ]
     },
     "execution_count": 29,
     "metadata": {},
     "output_type": "execute_result"
    }
   ],
   "source": [
    "df00.head()"
   ]
  },
  {
   "cell_type": "code",
   "execution_count": 7,
   "metadata": {},
   "outputs": [
    {
     "name": "stdout",
     "output_type": "stream",
     "text": [
      "Libraries imported.\n"
     ]
    }
   ],
   "source": [
    "# Matplotlib and associated plotting modules\n",
    "import matplotlib.cm as cm\n",
    "import matplotlib.colors as colors\n",
    "\n",
    "# import k-means from clustering stage\n",
    "from sklearn.cluster import KMeans\n",
    "\n",
    "#!conda install -c conda-forge folium=0.5.0 --yes # uncomment this line if you haven't completed the Foursquare API lab\n",
    "import folium # map rendering library\n",
    "\n",
    "print('Libraries imported.')"
   ]
  },
  {
   "cell_type": "code",
   "execution_count": 10,
   "metadata": {},
   "outputs": [
    {
     "data": {
      "text/plain": [
       "array([0, 2, 1, 1, 1, 3, 3, 1, 1, 1], dtype=int32)"
      ]
     },
     "execution_count": 10,
     "metadata": {},
     "output_type": "execute_result"
    }
   ],
   "source": [
    " # set number of clusters\n",
    "kclusters = 5\n",
    "\n",
    "singapore_grouped_clustering = df00\n",
    "\n",
    "# run k-means clustering\n",
    "kmeans = KMeans(n_clusters=kclusters, random_state=0).fit(singapore_grouped_clustering)\n",
    "\n",
    "# check cluster labels generated for each row in the dataframe\n",
    "kmeans.labels_[0:10]"
   ]
  },
  {
   "cell_type": "code",
   "execution_count": 11,
   "metadata": {},
   "outputs": [],
   "source": [
    "# find the best k\n",
    "from sklearn.preprocessing import MinMaxScaler"
   ]
  },
  {
   "cell_type": "code",
   "execution_count": 12,
   "metadata": {},
   "outputs": [
    {
     "data": {
      "text/html": [
       "<div>\n",
       "<style scoped>\n",
       "    .dataframe tbody tr th:only-of-type {\n",
       "        vertical-align: middle;\n",
       "    }\n",
       "\n",
       "    .dataframe tbody tr th {\n",
       "        vertical-align: top;\n",
       "    }\n",
       "\n",
       "    .dataframe thead th {\n",
       "        text-align: right;\n",
       "    }\n",
       "</style>\n",
       "<table border=\"1\" class=\"dataframe\">\n",
       "  <thead>\n",
       "    <tr style=\"text-align: right;\">\n",
       "      <th></th>\n",
       "      <th>year_completed</th>\n",
       "      <th>dis_MRT</th>\n",
       "      <th>prim_no</th>\n",
       "      <th>dis_fairprice</th>\n",
       "      <th>dis_pool</th>\n",
       "    </tr>\n",
       "  </thead>\n",
       "  <tbody>\n",
       "    <tr>\n",
       "      <th>count</th>\n",
       "      <td>1569.000000</td>\n",
       "      <td>1569.000000</td>\n",
       "      <td>1569.000000</td>\n",
       "      <td>1569.000000</td>\n",
       "      <td>1569.000000</td>\n",
       "    </tr>\n",
       "    <tr>\n",
       "      <th>mean</th>\n",
       "      <td>1989.076482</td>\n",
       "      <td>588.766693</td>\n",
       "      <td>2.836201</td>\n",
       "      <td>505.971902</td>\n",
       "      <td>1238.130301</td>\n",
       "    </tr>\n",
       "    <tr>\n",
       "      <th>std</th>\n",
       "      <td>13.240149</td>\n",
       "      <td>399.409773</td>\n",
       "      <td>1.631346</td>\n",
       "      <td>341.951388</td>\n",
       "      <td>728.744522</td>\n",
       "    </tr>\n",
       "    <tr>\n",
       "      <th>min</th>\n",
       "      <td>1937.000000</td>\n",
       "      <td>16.405511</td>\n",
       "      <td>0.000000</td>\n",
       "      <td>0.000000</td>\n",
       "      <td>0.000000</td>\n",
       "    </tr>\n",
       "    <tr>\n",
       "      <th>25%</th>\n",
       "      <td>1981.000000</td>\n",
       "      <td>298.647442</td>\n",
       "      <td>2.000000</td>\n",
       "      <td>269.831721</td>\n",
       "      <td>722.384388</td>\n",
       "    </tr>\n",
       "    <tr>\n",
       "      <th>50%</th>\n",
       "      <td>1988.000000</td>\n",
       "      <td>499.916232</td>\n",
       "      <td>3.000000</td>\n",
       "      <td>444.213048</td>\n",
       "      <td>1088.857228</td>\n",
       "    </tr>\n",
       "    <tr>\n",
       "      <th>75%</th>\n",
       "      <td>1998.000000</td>\n",
       "      <td>776.706469</td>\n",
       "      <td>4.000000</td>\n",
       "      <td>657.989717</td>\n",
       "      <td>1673.125998</td>\n",
       "    </tr>\n",
       "    <tr>\n",
       "      <th>max</th>\n",
       "      <td>2014.000000</td>\n",
       "      <td>3677.860687</td>\n",
       "      <td>7.000000</td>\n",
       "      <td>3721.969884</td>\n",
       "      <td>4756.688572</td>\n",
       "    </tr>\n",
       "  </tbody>\n",
       "</table>\n",
       "</div>"
      ],
      "text/plain": [
       "       year_completed      dis_MRT      prim_no  dis_fairprice     dis_pool\n",
       "count     1569.000000  1569.000000  1569.000000    1569.000000  1569.000000\n",
       "mean      1989.076482   588.766693     2.836201     505.971902  1238.130301\n",
       "std         13.240149   399.409773     1.631346     341.951388   728.744522\n",
       "min       1937.000000    16.405511     0.000000       0.000000     0.000000\n",
       "25%       1981.000000   298.647442     2.000000     269.831721   722.384388\n",
       "50%       1988.000000   499.916232     3.000000     444.213048  1088.857228\n",
       "75%       1998.000000   776.706469     4.000000     657.989717  1673.125998\n",
       "max       2014.000000  3677.860687     7.000000    3721.969884  4756.688572"
      ]
     },
     "execution_count": 12,
     "metadata": {},
     "output_type": "execute_result"
    }
   ],
   "source": [
    "df00.describe()"
   ]
  },
  {
   "cell_type": "code",
   "execution_count": 13,
   "metadata": {},
   "outputs": [
    {
     "name": "stderr",
     "output_type": "stream",
     "text": [
      "/home/jupyterlab/conda/lib/python3.6/site-packages/sklearn/preprocessing/data.py:323: DataConversionWarning: Data with input dtype int64, float64, object were all converted to float64 by MinMaxScaler.\n",
      "  return self.partial_fit(X, y)\n"
     ]
    }
   ],
   "source": [
    "#To give equal importance to all features, we need to scale the continuous features.\n",
    "mms = MinMaxScaler()\n",
    "mms.fit(df00)\n",
    "data_transformed = mms.transform(df00)"
   ]
  },
  {
   "cell_type": "code",
   "execution_count": 14,
   "metadata": {},
   "outputs": [],
   "source": [
    "#initialise k-means and use the inertia attribute to identify the sum of squared distances of samples to the nearest cluster centre.\n",
    "Sum_of_squared_distances = []\n",
    "K = range(1,20)\n",
    "for k in K:\n",
    "    km = KMeans(n_clusters=k)\n",
    "    km = km.fit(data_transformed)\n",
    "    Sum_of_squared_distances.append(km.inertia_)"
   ]
  },
  {
   "cell_type": "code",
   "execution_count": 15,
   "metadata": {},
   "outputs": [],
   "source": [
    "percent_of_explained = (Sum_of_squared_distances[0] - Sum_of_squared_distances)/Sum_of_squared_distances[0]"
   ]
  },
  {
   "cell_type": "code",
   "execution_count": 60,
   "metadata": {},
   "outputs": [],
   "source": [
    "import matplotlib.pyplot as plt"
   ]
  },
  {
   "cell_type": "code",
   "execution_count": 37,
   "metadata": {},
   "outputs": [
    {
     "data": {
      "image/png": "[encoded data removed]",
      "text/plain": [
       "<Figure size 432x288 with 1 Axes>"
      ]
     },
     "metadata": {
      "needs_background": "light"
     },
     "output_type": "display_data"
    }
   ],
   "source": [
    "\n",
    "\n",
    "plt.plot(K, percent_of_explained, 'bx-')\n",
    "plt.xlabel('Number of clusters')\n",
    "plt.ylabel('percent of variance explained')\n",
    "plt.title('Elbow Method For Optimal k')\n",
    "plt.grid(axis = 'x')\n",
    "plt.show()"
   ]
  },
  {
   "cell_type": "code",
   "execution_count": 16,
   "metadata": {},
   "outputs": [
    {
     "data": {
      "text/plain": [
       "0.636319274968889"
      ]
     },
     "execution_count": 16,
     "metadata": {},
     "output_type": "execute_result"
    }
   ],
   "source": [
    "percent_of_explained[9]"
   ]
  },
  {
   "cell_type": "code",
   "execution_count": 17,
   "metadata": {},
   "outputs": [
    {
     "data": {
      "text/plain": [
       "0.7256828837987456"
      ]
     },
     "execution_count": 17,
     "metadata": {},
     "output_type": "execute_result"
    }
   ],
   "source": [
    "percent_of_explained[17]"
   ]
  },
  {
   "cell_type": "code",
   "execution_count": 18,
   "metadata": {},
   "outputs": [
    {
     "data": {
      "text/plain": [
       "array([0, 2, 1, 1, 1, 3, 3, 1, 1, 1], dtype=int32)"
      ]
     },
     "execution_count": 18,
     "metadata": {},
     "output_type": "execute_result"
    }
   ],
   "source": [
    " # set number of clusters\n",
    "kclusters = 5\n",
    "\n",
    "singapore_grouped_clustering = df00\n",
    "\n",
    "# run k-means clustering\n",
    "kmeans = KMeans(n_clusters=kclusters, random_state=0).fit(singapore_grouped_clustering)\n",
    "\n",
    "# check cluster labels generated for each row in the dataframe\n",
    "kmeans.labels_[0:10]"
   ]
  },
  {
   "cell_type": "code",
   "execution_count": 19,
   "metadata": {},
   "outputs": [
    {
     "name": "stderr",
     "output_type": "stream",
     "text": [
      "/home/jupyterlab/conda/lib/python3.6/site-packages/ipykernel_launcher.py:1: SettingWithCopyWarning: \n",
      "A value is trying to be set on a copy of a slice from a DataFrame.\n",
      "Try using .loc[row_indexer,col_indexer] = value instead\n",
      "\n",
      "See the caveats in the documentation: http://pandas.pydata.org/pandas-docs/stable/indexing.html#indexing-view-versus-copy\n",
      "  \"\"\"Entry point for launching an IPython kernel.\n"
     ]
    }
   ],
   "source": [
    "df00['cluster_lable'] = kmeans.labels_"
   ]
  },
  {
   "cell_type": "code",
   "execution_count": 20,
   "metadata": {},
   "outputs": [],
   "source": [
    "df000 = pd.concat([df00,df01],axis = 1)"
   ]
  },
  {
   "cell_type": "code",
   "execution_count": 21,
   "metadata": {},
   "outputs": [
    {
     "data": {
      "text/html": [
       "<div>\n",
       "<style scoped>\n",
       "    .dataframe tbody tr th:only-of-type {\n",
       "        vertical-align: middle;\n",
       "    }\n",
       "\n",
       "    .dataframe tbody tr th {\n",
       "        vertical-align: top;\n",
       "    }\n",
       "\n",
       "    .dataframe thead th {\n",
       "        text-align: right;\n",
       "    }\n",
       "</style>\n",
       "<table border=\"1\" class=\"dataframe\">\n",
       "  <thead>\n",
       "    <tr style=\"text-align: right;\">\n",
       "      <th></th>\n",
       "      <th>year_completed</th>\n",
       "      <th>dis_MRT</th>\n",
       "      <th>prim_no</th>\n",
       "      <th>psf_sale</th>\n",
       "      <th>dis_fairprice</th>\n",
       "      <th>dis_pool</th>\n",
       "      <th>cluster_lable</th>\n",
       "      <th>blk_no</th>\n",
       "      <th>street</th>\n",
       "      <th>latitude</th>\n",
       "      <th>longitude</th>\n",
       "    </tr>\n",
       "  </thead>\n",
       "  <tbody>\n",
       "    <tr>\n",
       "      <th>0</th>\n",
       "      <td>2009</td>\n",
       "      <td>199.468223</td>\n",
       "      <td>1.0</td>\n",
       "      <td>1005.1875</td>\n",
       "      <td>220.887653</td>\n",
       "      <td>2301.414936</td>\n",
       "      <td>0</td>\n",
       "      <td>1A</td>\n",
       "      <td>CANTONMENT RD</td>\n",
       "      <td>1.277830</td>\n",
       "      <td>103.840953</td>\n",
       "    </tr>\n",
       "    <tr>\n",
       "      <th>1</th>\n",
       "      <td>2014</td>\n",
       "      <td>628.886166</td>\n",
       "      <td>2.0</td>\n",
       "      <td>1075.0</td>\n",
       "      <td>426.195557</td>\n",
       "      <td>1145.402321</td>\n",
       "      <td>2</td>\n",
       "      <td>10A</td>\n",
       "      <td>BOON TIONG RD</td>\n",
       "      <td>1.286793</td>\n",
       "      <td>103.833135</td>\n",
       "    </tr>\n",
       "    <tr>\n",
       "      <th>2</th>\n",
       "      <td>1977</td>\n",
       "      <td>1031.568882</td>\n",
       "      <td>1.0</td>\n",
       "      <td>287.625</td>\n",
       "      <td>1048.577178</td>\n",
       "      <td>919.340838</td>\n",
       "      <td>1</td>\n",
       "      <td>36</td>\n",
       "      <td>MARSILING DR</td>\n",
       "      <td>1.442024</td>\n",
       "      <td>103.775188</td>\n",
       "    </tr>\n",
       "    <tr>\n",
       "      <th>3</th>\n",
       "      <td>1980</td>\n",
       "      <td>1031.568882</td>\n",
       "      <td>1.0</td>\n",
       "      <td>289.2</td>\n",
       "      <td>1048.577178</td>\n",
       "      <td>919.340838</td>\n",
       "      <td>1</td>\n",
       "      <td>201</td>\n",
       "      <td>MARSILING DR</td>\n",
       "      <td>1.442024</td>\n",
       "      <td>103.775188</td>\n",
       "    </tr>\n",
       "    <tr>\n",
       "      <th>4</th>\n",
       "      <td>1989</td>\n",
       "      <td>951.765621</td>\n",
       "      <td>5.0</td>\n",
       "      <td>290.25</td>\n",
       "      <td>1283.229845</td>\n",
       "      <td>879.546854</td>\n",
       "      <td>1</td>\n",
       "      <td>812</td>\n",
       "      <td>JURONG WEST ST 81</td>\n",
       "      <td>1.346300</td>\n",
       "      <td>103.695902</td>\n",
       "    </tr>\n",
       "  </tbody>\n",
       "</table>\n",
       "</div>"
      ],
      "text/plain": [
       "   year_completed      dis_MRT  prim_no   psf_sale  dis_fairprice  \\\n",
       "0            2009   199.468223      1.0  1005.1875     220.887653   \n",
       "1            2014   628.886166      2.0     1075.0     426.195557   \n",
       "2            1977  1031.568882      1.0    287.625    1048.577178   \n",
       "3            1980  1031.568882      1.0      289.2    1048.577178   \n",
       "4            1989   951.765621      5.0     290.25    1283.229845   \n",
       "\n",
       "      dis_pool  cluster_lable blk_no             street  latitude   longitude  \n",
       "0  2301.414936              0     1A      CANTONMENT RD  1.277830  103.840953  \n",
       "1  1145.402321              2    10A      BOON TIONG RD  1.286793  103.833135  \n",
       "2   919.340838              1     36       MARSILING DR  1.442024  103.775188  \n",
       "3   919.340838              1    201       MARSILING DR  1.442024  103.775188  \n",
       "4   879.546854              1    812  JURONG WEST ST 81  1.346300  103.695902  "
      ]
     },
     "execution_count": 21,
     "metadata": {},
     "output_type": "execute_result"
    }
   ],
   "source": [
    "df000.head()"
   ]
  },
  {
   "cell_type": "code",
   "execution_count": 22,
   "metadata": {},
   "outputs": [],
   "source": [
    "df000.to_csv('hdb_after_cluster_k5.csv',index = False)"
   ]
  },
  {
   "cell_type": "code",
   "execution_count": 44,
   "metadata": {},
   "outputs": [],
   "source": [
    "import pandas as pd\n",
    "df1 = pd.read_csv('hdb_after_cluster.csv')"
   ]
  },
  {
   "cell_type": "code",
   "execution_count": 47,
   "metadata": {},
   "outputs": [],
   "source": [
    "df00 = df1[df1['cluster_lable'] == 0]"
   ]
  },
  {
   "cell_type": "code",
   "execution_count": 48,
   "metadata": {},
   "outputs": [
    {
     "data": {
      "text/html": [
       "<div>\n",
       "<style scoped>\n",
       "    .dataframe tbody tr th:only-of-type {\n",
       "        vertical-align: middle;\n",
       "    }\n",
       "\n",
       "    .dataframe tbody tr th {\n",
       "        vertical-align: top;\n",
       "    }\n",
       "\n",
       "    .dataframe thead th {\n",
       "        text-align: right;\n",
       "    }\n",
       "</style>\n",
       "<table border=\"1\" class=\"dataframe\">\n",
       "  <thead>\n",
       "    <tr style=\"text-align: right;\">\n",
       "      <th></th>\n",
       "      <th>Unnamed: 0</th>\n",
       "      <th>year_completed</th>\n",
       "      <th>dis_MRT</th>\n",
       "      <th>prim_no</th>\n",
       "      <th>psf_sale</th>\n",
       "      <th>dis_fairprice</th>\n",
       "      <th>dis_pool</th>\n",
       "      <th>cluster_lable</th>\n",
       "      <th>blk_no</th>\n",
       "      <th>street</th>\n",
       "      <th>latitude</th>\n",
       "      <th>longitude</th>\n",
       "    </tr>\n",
       "  </thead>\n",
       "  <tbody>\n",
       "    <tr>\n",
       "      <th>37</th>\n",
       "      <td>37</td>\n",
       "      <td>1999</td>\n",
       "      <td>425.163043</td>\n",
       "      <td>4.0</td>\n",
       "      <td>312.500000</td>\n",
       "      <td>493.063440</td>\n",
       "      <td>1062.956795</td>\n",
       "      <td>0</td>\n",
       "      <td>667</td>\n",
       "      <td>CHOA CHU KANG CRES</td>\n",
       "      <td>1.399745</td>\n",
       "      <td>103.750766</td>\n",
       "    </tr>\n",
       "    <tr>\n",
       "      <th>44</th>\n",
       "      <td>44</td>\n",
       "      <td>1997</td>\n",
       "      <td>425.163043</td>\n",
       "      <td>4.0</td>\n",
       "      <td>314.166667</td>\n",
       "      <td>493.063440</td>\n",
       "      <td>1062.956795</td>\n",
       "      <td>0</td>\n",
       "      <td>669</td>\n",
       "      <td>CHOA CHU KANG CRES</td>\n",
       "      <td>1.399745</td>\n",
       "      <td>103.750766</td>\n",
       "    </tr>\n",
       "    <tr>\n",
       "      <th>46</th>\n",
       "      <td>46</td>\n",
       "      <td>2000</td>\n",
       "      <td>425.163043</td>\n",
       "      <td>4.0</td>\n",
       "      <td>314.350000</td>\n",
       "      <td>493.063440</td>\n",
       "      <td>1062.956795</td>\n",
       "      <td>0</td>\n",
       "      <td>683A</td>\n",
       "      <td>CHOA CHU KANG CRES</td>\n",
       "      <td>1.399745</td>\n",
       "      <td>103.750766</td>\n",
       "    </tr>\n",
       "    <tr>\n",
       "      <th>48</th>\n",
       "      <td>48</td>\n",
       "      <td>1983</td>\n",
       "      <td>243.840633</td>\n",
       "      <td>3.0</td>\n",
       "      <td>316.000000</td>\n",
       "      <td>348.205132</td>\n",
       "      <td>988.580705</td>\n",
       "      <td>0</td>\n",
       "      <td>1</td>\n",
       "      <td>TECK WHYE AVE</td>\n",
       "      <td>1.379293</td>\n",
       "      <td>103.756167</td>\n",
       "    </tr>\n",
       "    <tr>\n",
       "      <th>51</th>\n",
       "      <td>51</td>\n",
       "      <td>1978</td>\n",
       "      <td>301.526991</td>\n",
       "      <td>3.0</td>\n",
       "      <td>316.500000</td>\n",
       "      <td>290.952001</td>\n",
       "      <td>1036.977175</td>\n",
       "      <td>0</td>\n",
       "      <td>12</td>\n",
       "      <td>TECK WHYE LANE</td>\n",
       "      <td>1.379456</td>\n",
       "      <td>103.755675</td>\n",
       "    </tr>\n",
       "  </tbody>\n",
       "</table>\n",
       "</div>"
      ],
      "text/plain": [
       "    Unnamed: 0  year_completed     dis_MRT  prim_no    psf_sale  \\\n",
       "37          37            1999  425.163043      4.0  312.500000   \n",
       "44          44            1997  425.163043      4.0  314.166667   \n",
       "46          46            2000  425.163043      4.0  314.350000   \n",
       "48          48            1983  243.840633      3.0  316.000000   \n",
       "51          51            1978  301.526991      3.0  316.500000   \n",
       "\n",
       "    dis_fairprice     dis_pool  cluster_lable blk_no              street  \\\n",
       "37     493.063440  1062.956795              0    667  CHOA CHU KANG CRES   \n",
       "44     493.063440  1062.956795              0    669  CHOA CHU KANG CRES   \n",
       "46     493.063440  1062.956795              0   683A  CHOA CHU KANG CRES   \n",
       "48     348.205132   988.580705              0      1       TECK WHYE AVE   \n",
       "51     290.952001  1036.977175              0     12      TECK WHYE LANE   \n",
       "\n",
       "    latitude   longitude  \n",
       "37  1.399745  103.750766  \n",
       "44  1.399745  103.750766  \n",
       "46  1.399745  103.750766  \n",
       "48  1.379293  103.756167  \n",
       "51  1.379456  103.755675  "
      ]
     },
     "execution_count": 48,
     "metadata": {},
     "output_type": "execute_result"
    }
   ],
   "source": [
    "df00.head()"
   ]
  },
  {
   "cell_type": "code",
   "execution_count": 24,
   "metadata": {},
   "outputs": [],
   "source": [
    "df000 = df1.loc[0:1200]"
   ]
  },
  {
   "cell_type": "code",
   "execution_count": 59,
   "metadata": {},
   "outputs": [],
   "source": [
    "import numpy as np"
   ]
  },
  {
   "cell_type": "code",
   "execution_count": 27,
   "metadata": {},
   "outputs": [],
   "source": [
    " # set number of clusters\n",
    "kclusters = 5"
   ]
  },
  {
   "cell_type": "raw",
   "metadata": {},
   "source": [
    "# create map (too large, shown as raw)\n",
    "map_clusters = folium.Map(location = [1.3521, 103.8198], tiles='Cartodb Positron', zoom_start=12)\n",
    "\n",
    "# set color scheme for the clusters\n",
    "x = np.arange(kclusters)\n",
    "ys = [i + x + (i*x)**2 for i in range(kclusters)]\n",
    "colors_array = cm.rainbow(np.linspace(0, 1, len(ys)))\n",
    "rainbow = [colors.rgb2hex(i) for i in colors_array]\n",
    "\n",
    "# add markers to the map\n",
    "markers_colors = []\n",
    "for lat, lon, poi, cluster in zip(df000['latitude'], df000['longitude'], df000['blk_no'], df000['cluster_lable']):\n",
    "    label = folium.Popup(str(poi) + ' Cluster ' + str(cluster), parse_html=True)\n",
    "    folium.CircleMarker(\n",
    "        [lat, lon],\n",
    "        radius=5,\n",
    "        popup=label,\n",
    "        color=rainbow[cluster-1],\n",
    "        fill=True,\n",
    "        fill_color=rainbow[cluster-1],\n",
    "        fill_opacity=0.7).add_to(map_clusters)\n",
    "       \n",
    "map_clusters"
   ]
  },
  {
   "cell_type": "markdown",
   "metadata": {},
   "source": [
    "<h3>4.2 clustering -hierarchy class</h3>"
   ]
  },
  {
   "cell_type": "code",
   "execution_count": 61,
   "metadata": {},
   "outputs": [
    {
     "data": {
      "image/png": "[encoded data removed]",
      "text/plain": [
       "<Figure size 720x504 with 1 Axes>"
      ]
     },
     "metadata": {
      "needs_background": "light"
     },
     "output_type": "display_data"
    }
   ],
   "source": [
    "import scipy.cluster.hierarchy as shc\n",
    "\n",
    "plt.figure(figsize=(10, 7))  \n",
    "plt.title(\"Customer Dendograms\")  \n",
    "dend = shc.dendrogram(shc.linkage(df00, method='ward')) "
   ]
  },
  {
   "cell_type": "code",
   "execution_count": 48,
   "metadata": {},
   "outputs": [
    {
     "data": {
      "text/plain": [
       "array([10,  5,  0, ...,  8,  2,  5])"
      ]
     },
     "execution_count": 48,
     "metadata": {},
     "output_type": "execute_result"
    }
   ],
   "source": [
    "from sklearn.cluster import AgglomerativeClustering\n",
    "\n",
    "cluster = AgglomerativeClustering(n_clusters=11, affinity='euclidean', linkage='ward')  \n",
    "cluster.fit_predict(df00)  "
   ]
  },
  {
   "cell_type": "code",
   "execution_count": 63,
   "metadata": {},
   "outputs": [
    {
     "name": "stderr",
     "output_type": "stream",
     "text": [
      "/home/jupyterlab/conda/lib/python3.6/site-packages/ipykernel_launcher.py:1: SettingWithCopyWarning: \n",
      "A value is trying to be set on a copy of a slice from a DataFrame.\n",
      "Try using .loc[row_indexer,col_indexer] = value instead\n",
      "\n",
      "See the caveats in the documentation: http://pandas.pydata.org/pandas-docs/stable/indexing.html#indexing-view-versus-copy\n",
      "  \"\"\"Entry point for launching an IPython kernel.\n"
     ]
    }
   ],
   "source": [
    "df00['cluster_lable'] = cluster.labels_"
   ]
  },
  {
   "cell_type": "code",
   "execution_count": 46,
   "metadata": {},
   "outputs": [],
   "source": [
    "# find the best k\n",
    "from sklearn.preprocessing import MinMaxScaler"
   ]
  },
  {
   "cell_type": "code",
   "execution_count": 51,
   "metadata": {},
   "outputs": [
    {
     "name": "stderr",
     "output_type": "stream",
     "text": [
      "/home/jupyterlab/conda/lib/python3.6/site-packages/sklearn/preprocessing/data.py:323: DataConversionWarning: Data with input dtype int64, float64, object were all converted to float64 by MinMaxScaler.\n",
      "  return self.partial_fit(X, y)\n"
     ]
    }
   ],
   "source": [
    "#To give equal importance to all features, we need to scale the continuous features.\n",
    "mms = MinMaxScaler()\n",
    "mms.fit(df00)\n",
    "data_transformed = mms.transform(df00)"
   ]
  },
  {
   "cell_type": "code",
   "execution_count": 52,
   "metadata": {},
   "outputs": [],
   "source": [
    "cluster = cluster.fit(data_transformed)"
   ]
  },
  {
   "cell_type": "code",
   "execution_count": 53,
   "metadata": {},
   "outputs": [
    {
     "ename": "AttributeError",
     "evalue": "'AgglomerativeClustering' object has no attribute 'inertia_'",
     "output_type": "error",
     "traceback": [
      "\u001b[0;31m---------------------------------------------------------------------------\u001b[0m",
      "\u001b[0;31mAttributeError\u001b[0m                            Traceback (most recent call last)",
      "\u001b[0;32m<ipython-input-53-536f4e64cc45>\u001b[0m in \u001b[0;36m<module>\u001b[0;34m\u001b[0m\n\u001b[0;32m----> 1\u001b[0;31m \u001b[0mkk\u001b[0m \u001b[0;34m=\u001b[0m \u001b[0mcluster\u001b[0m\u001b[0;34m.\u001b[0m\u001b[0minertia_\u001b[0m\u001b[0;34m\u001b[0m\u001b[0;34m\u001b[0m\u001b[0m\n\u001b[0m",
      "\u001b[0;31mAttributeError\u001b[0m: 'AgglomerativeClustering' object has no attribute 'inertia_'"
     ]
    }
   ],
   "source": [
    "kk = cluster.inertia_"
   ]
  },
  {
   "cell_type": "code",
   "execution_count": null,
   "metadata": {},
   "outputs": [],
   "source": [
    "percent_of_explained = (Sum_of_squared_distances[0] - Sum_of_squared_distances)/Sum_of_squared_distances[0]"
   ]
  },
  {
   "cell_type": "code",
   "execution_count": null,
   "metadata": {},
   "outputs": [],
   "source": [
    "#initialise k-means and use the inertia attribute to identify the sum of squared distances of samples to the nearest cluster centre.\n",
    "Sum_of_squared_distances = []\n",
    "K = range(1,20)\n",
    "for k in K:\n",
    "    km = KMeans(n_clusters=k)\n",
    "    km = km.fit(data_transformed)\n",
    "    Sum_of_squared_distances.append(km.inertia_)"
   ]
  },
  {
   "cell_type": "code",
   "execution_count": 65,
   "metadata": {},
   "outputs": [],
   "source": [
    "df000 = pd.concat([df00,df01],axis = 1)"
   ]
  },
  {
   "cell_type": "code",
   "execution_count": 66,
   "metadata": {},
   "outputs": [],
   "source": [
    "df000.to_csv('hdb_after_cluster_k11_hie.csv',index = False)"
   ]
  },
  {
   "cell_type": "code",
   "execution_count": 1,
   "metadata": {},
   "outputs": [],
   "source": [
    "import pandas as pd\n",
    "df1 = pd.read_csv('hdb_after_cluster_k11_hie.csv')"
   ]
  },
  {
   "cell_type": "code",
   "execution_count": 2,
   "metadata": {},
   "outputs": [],
   "source": [
    "import numpy as np"
   ]
  },
  {
   "cell_type": "code",
   "execution_count": 4,
   "metadata": {},
   "outputs": [],
   "source": [
    " # set number of clusters\n",
    "kclusters = 11"
   ]
  },
  {
   "cell_type": "code",
   "execution_count": 5,
   "metadata": {},
   "outputs": [],
   "source": [
    "df000 = df1.loc[0:1200]"
   ]
  },
  {
   "cell_type": "raw",
   "metadata": {},
   "source": [
    "# create map(too large, shown as raw)\n",
    "map_clusters = folium.Map(location = [1.3521, 103.8198], tiles='Cartodb Positron', zoom_start=12)\n",
    "\n",
    "# set color scheme for the clusters\n",
    "x = np.arange(kclusters)\n",
    "ys = [i + x + (i*x)**2 for i in range(kclusters)]\n",
    "colors_array = cm.rainbow(np.linspace(0, 1, len(ys)))\n",
    "rainbow = [colors.rgb2hex(i) for i in colors_array]\n",
    "\n",
    "# add markers to the map\n",
    "markers_colors = []\n",
    "for lat, lon, poi, cluster in zip(df000['latitude'], df000['longitude'], df000['blk_no'], df000['cluster_lable']):\n",
    "    label = folium.Popup(str(poi) + ' Cluster ' + str(cluster), parse_html=True)\n",
    "    folium.CircleMarker(\n",
    "        [lat, lon],\n",
    "        radius=5,\n",
    "        popup=label,\n",
    "        color=rainbow[cluster-1],\n",
    "        fill=True,\n",
    "        fill_color=rainbow[cluster-1],\n",
    "        fill_opacity=0.7).add_to(map_clusters)\n",
    "       \n",
    "map_clusters"
   ]
  },
  {
   "cell_type": "markdown",
   "metadata": {},
   "source": [
    "<h2>5 Filter system(results) </h2>"
   ]
  },
  {
   "cell_type": "markdown",
   "metadata": {},
   "source": [
    "<p>we depict an example of searching results bellow</p>"
   ]
  },
  {
   "cell_type": "code",
   "execution_count": 32,
   "metadata": {},
   "outputs": [],
   "source": [
    "import pandas as pd\n",
    "df = pd.read_csv('hdb_after_cluster_k11_hie.csv')\n",
    "df0000 =pd.read_csv('hdb-property-information.csv')"
   ]
  },
  {
   "cell_type": "code",
   "execution_count": 33,
   "metadata": {},
   "outputs": [
    {
     "data": {
      "text/html": [
       "<div>\n",
       "<style scoped>\n",
       "    .dataframe tbody tr th:only-of-type {\n",
       "        vertical-align: middle;\n",
       "    }\n",
       "\n",
       "    .dataframe tbody tr th {\n",
       "        vertical-align: top;\n",
       "    }\n",
       "\n",
       "    .dataframe thead th {\n",
       "        text-align: right;\n",
       "    }\n",
       "</style>\n",
       "<table border=\"1\" class=\"dataframe\">\n",
       "  <thead>\n",
       "    <tr style=\"text-align: right;\">\n",
       "      <th></th>\n",
       "      <th>year_completed</th>\n",
       "      <th>dis_MRT</th>\n",
       "      <th>prim_no</th>\n",
       "      <th>psf_sale</th>\n",
       "      <th>dis_fairprice</th>\n",
       "      <th>dis_pool</th>\n",
       "      <th>cluster_lable</th>\n",
       "      <th>blk_no</th>\n",
       "      <th>street</th>\n",
       "      <th>latitude</th>\n",
       "      <th>longitude</th>\n",
       "    </tr>\n",
       "  </thead>\n",
       "  <tbody>\n",
       "    <tr>\n",
       "      <th>0</th>\n",
       "      <td>2009</td>\n",
       "      <td>199.468223</td>\n",
       "      <td>1.0</td>\n",
       "      <td>1005.1875</td>\n",
       "      <td>220.887653</td>\n",
       "      <td>2301.414936</td>\n",
       "      <td>10</td>\n",
       "      <td>1A</td>\n",
       "      <td>CANTONMENT RD</td>\n",
       "      <td>1.277830</td>\n",
       "      <td>103.840953</td>\n",
       "    </tr>\n",
       "    <tr>\n",
       "      <th>1</th>\n",
       "      <td>2014</td>\n",
       "      <td>628.886166</td>\n",
       "      <td>2.0</td>\n",
       "      <td>1075.0000</td>\n",
       "      <td>426.195557</td>\n",
       "      <td>1145.402321</td>\n",
       "      <td>5</td>\n",
       "      <td>10A</td>\n",
       "      <td>BOON TIONG RD</td>\n",
       "      <td>1.286793</td>\n",
       "      <td>103.833135</td>\n",
       "    </tr>\n",
       "    <tr>\n",
       "      <th>2</th>\n",
       "      <td>1977</td>\n",
       "      <td>1031.568882</td>\n",
       "      <td>1.0</td>\n",
       "      <td>287.6250</td>\n",
       "      <td>1048.577178</td>\n",
       "      <td>919.340838</td>\n",
       "      <td>0</td>\n",
       "      <td>36</td>\n",
       "      <td>MARSILING DR</td>\n",
       "      <td>1.442024</td>\n",
       "      <td>103.775188</td>\n",
       "    </tr>\n",
       "    <tr>\n",
       "      <th>3</th>\n",
       "      <td>1980</td>\n",
       "      <td>1031.568882</td>\n",
       "      <td>1.0</td>\n",
       "      <td>289.2000</td>\n",
       "      <td>1048.577178</td>\n",
       "      <td>919.340838</td>\n",
       "      <td>0</td>\n",
       "      <td>201</td>\n",
       "      <td>MARSILING DR</td>\n",
       "      <td>1.442024</td>\n",
       "      <td>103.775188</td>\n",
       "    </tr>\n",
       "    <tr>\n",
       "      <th>4</th>\n",
       "      <td>1989</td>\n",
       "      <td>951.765621</td>\n",
       "      <td>5.0</td>\n",
       "      <td>290.2500</td>\n",
       "      <td>1283.229845</td>\n",
       "      <td>879.546854</td>\n",
       "      <td>0</td>\n",
       "      <td>812</td>\n",
       "      <td>JURONG WEST ST 81</td>\n",
       "      <td>1.346300</td>\n",
       "      <td>103.695902</td>\n",
       "    </tr>\n",
       "  </tbody>\n",
       "</table>\n",
       "</div>"
      ],
      "text/plain": [
       "   year_completed      dis_MRT  prim_no   psf_sale  dis_fairprice  \\\n",
       "0            2009   199.468223      1.0  1005.1875     220.887653   \n",
       "1            2014   628.886166      2.0  1075.0000     426.195557   \n",
       "2            1977  1031.568882      1.0   287.6250    1048.577178   \n",
       "3            1980  1031.568882      1.0   289.2000    1048.577178   \n",
       "4            1989   951.765621      5.0   290.2500    1283.229845   \n",
       "\n",
       "      dis_pool  cluster_lable blk_no             street  latitude   longitude  \n",
       "0  2301.414936             10     1A      CANTONMENT RD  1.277830  103.840953  \n",
       "1  1145.402321              5    10A      BOON TIONG RD  1.286793  103.833135  \n",
       "2   919.340838              0     36       MARSILING DR  1.442024  103.775188  \n",
       "3   919.340838              0    201       MARSILING DR  1.442024  103.775188  \n",
       "4   879.546854              0    812  JURONG WEST ST 81  1.346300  103.695902  "
      ]
     },
     "execution_count": 33,
     "metadata": {},
     "output_type": "execute_result"
    }
   ],
   "source": [
    "df.head()"
   ]
  },
  {
   "cell_type": "code",
   "execution_count": 34,
   "metadata": {},
   "outputs": [],
   "source": [
    "# filter example\n",
    "df = df[(df['dis_MRT']<=350)&(df['prim_no']>=3)&(df['year_completed']>=2000)&(df['dis_fairprice']<500)]"
   ]
  },
  {
   "cell_type": "code",
   "execution_count": 35,
   "metadata": {},
   "outputs": [
    {
     "data": {
      "text/html": [
       "<div>\n",
       "<style scoped>\n",
       "    .dataframe tbody tr th:only-of-type {\n",
       "        vertical-align: middle;\n",
       "    }\n",
       "\n",
       "    .dataframe tbody tr th {\n",
       "        vertical-align: top;\n",
       "    }\n",
       "\n",
       "    .dataframe thead th {\n",
       "        text-align: right;\n",
       "    }\n",
       "</style>\n",
       "<table border=\"1\" class=\"dataframe\">\n",
       "  <thead>\n",
       "    <tr style=\"text-align: right;\">\n",
       "      <th></th>\n",
       "      <th>year_completed</th>\n",
       "      <th>dis_MRT</th>\n",
       "      <th>prim_no</th>\n",
       "      <th>psf_sale</th>\n",
       "      <th>dis_fairprice</th>\n",
       "      <th>dis_pool</th>\n",
       "      <th>cluster_lable</th>\n",
       "      <th>blk_no</th>\n",
       "      <th>street</th>\n",
       "      <th>latitude</th>\n",
       "      <th>longitude</th>\n",
       "    </tr>\n",
       "  </thead>\n",
       "  <tbody>\n",
       "    <tr>\n",
       "      <th>292</th>\n",
       "      <td>2000</td>\n",
       "      <td>194.583621</td>\n",
       "      <td>4.0</td>\n",
       "      <td>361.625</td>\n",
       "      <td>292.548722</td>\n",
       "      <td>3411.690167</td>\n",
       "      <td>9</td>\n",
       "      <td>351B</td>\n",
       "      <td>CANBERRA RD</td>\n",
       "      <td>1.450891</td>\n",
       "      <td>103.819987</td>\n",
       "    </tr>\n",
       "  </tbody>\n",
       "</table>\n",
       "</div>"
      ],
      "text/plain": [
       "     year_completed     dis_MRT  prim_no  psf_sale  dis_fairprice  \\\n",
       "292            2000  194.583621      4.0   361.625     292.548722   \n",
       "\n",
       "        dis_pool  cluster_lable blk_no       street  latitude   longitude  \n",
       "292  3411.690167              9   351B  CANBERRA RD  1.450891  103.819987  "
      ]
     },
     "execution_count": 35,
     "metadata": {},
     "output_type": "execute_result"
    }
   ],
   "source": [
    "df.head(1)"
   ]
  },
  {
   "cell_type": "code",
   "execution_count": 36,
   "metadata": {},
   "outputs": [
    {
     "name": "stdout",
     "output_type": "stream",
     "text": [
      "There are 75 block groups meet your need\n"
     ]
    }
   ],
   "source": [
    "print('There are ' + str(df.shape[0]) + ' block groups meet your need')"
   ]
  },
  {
   "cell_type": "code",
   "execution_count": 37,
   "metadata": {},
   "outputs": [
    {
     "data": {
      "text/html": [
       "<div>\n",
       "<style scoped>\n",
       "    .dataframe tbody tr th:only-of-type {\n",
       "        vertical-align: middle;\n",
       "    }\n",
       "\n",
       "    .dataframe tbody tr th {\n",
       "        vertical-align: top;\n",
       "    }\n",
       "\n",
       "    .dataframe thead th {\n",
       "        text-align: right;\n",
       "    }\n",
       "</style>\n",
       "<table border=\"1\" class=\"dataframe\">\n",
       "  <thead>\n",
       "    <tr style=\"text-align: right;\">\n",
       "      <th></th>\n",
       "      <th>blk_no</th>\n",
       "      <th>street</th>\n",
       "      <th>max_floor_lvl</th>\n",
       "      <th>year_completed</th>\n",
       "      <th>residential</th>\n",
       "      <th>commercial</th>\n",
       "      <th>market_hawker</th>\n",
       "      <th>miscellaneous</th>\n",
       "      <th>multistorey_carpark</th>\n",
       "      <th>precinct_pavilion</th>\n",
       "      <th>...</th>\n",
       "      <th>3room_sold</th>\n",
       "      <th>4room_sold</th>\n",
       "      <th>5room_sold</th>\n",
       "      <th>exec_sold</th>\n",
       "      <th>multigen_sold</th>\n",
       "      <th>studio_apartment_sold</th>\n",
       "      <th>1room_rental</th>\n",
       "      <th>2room_rental</th>\n",
       "      <th>3room_rental</th>\n",
       "      <th>other_room_rental</th>\n",
       "    </tr>\n",
       "  </thead>\n",
       "  <tbody>\n",
       "    <tr>\n",
       "      <th>5550</th>\n",
       "      <td>351B</td>\n",
       "      <td>CANBERRA RD</td>\n",
       "      <td>14</td>\n",
       "      <td>2000</td>\n",
       "      <td>Y</td>\n",
       "      <td>N</td>\n",
       "      <td>N</td>\n",
       "      <td>N</td>\n",
       "      <td>N</td>\n",
       "      <td>N</td>\n",
       "      <td>...</td>\n",
       "      <td>0</td>\n",
       "      <td>27</td>\n",
       "      <td>53</td>\n",
       "      <td>0</td>\n",
       "      <td>0</td>\n",
       "      <td>0</td>\n",
       "      <td>0</td>\n",
       "      <td>0</td>\n",
       "      <td>0</td>\n",
       "      <td>0</td>\n",
       "    </tr>\n",
       "    <tr>\n",
       "      <th>5552</th>\n",
       "      <td>351C</td>\n",
       "      <td>CANBERRA RD</td>\n",
       "      <td>14</td>\n",
       "      <td>2000</td>\n",
       "      <td>Y</td>\n",
       "      <td>N</td>\n",
       "      <td>N</td>\n",
       "      <td>N</td>\n",
       "      <td>N</td>\n",
       "      <td>N</td>\n",
       "      <td>...</td>\n",
       "      <td>0</td>\n",
       "      <td>26</td>\n",
       "      <td>52</td>\n",
       "      <td>0</td>\n",
       "      <td>0</td>\n",
       "      <td>0</td>\n",
       "      <td>0</td>\n",
       "      <td>0</td>\n",
       "      <td>0</td>\n",
       "      <td>0</td>\n",
       "    </tr>\n",
       "    <tr>\n",
       "      <th>5554</th>\n",
       "      <td>351D</td>\n",
       "      <td>CANBERRA RD</td>\n",
       "      <td>14</td>\n",
       "      <td>2000</td>\n",
       "      <td>Y</td>\n",
       "      <td>N</td>\n",
       "      <td>N</td>\n",
       "      <td>N</td>\n",
       "      <td>N</td>\n",
       "      <td>N</td>\n",
       "      <td>...</td>\n",
       "      <td>0</td>\n",
       "      <td>0</td>\n",
       "      <td>0</td>\n",
       "      <td>78</td>\n",
       "      <td>0</td>\n",
       "      <td>0</td>\n",
       "      <td>0</td>\n",
       "      <td>0</td>\n",
       "      <td>0</td>\n",
       "      <td>0</td>\n",
       "    </tr>\n",
       "    <tr>\n",
       "      <th>5567</th>\n",
       "      <td>352A</td>\n",
       "      <td>CANBERRA RD</td>\n",
       "      <td>14</td>\n",
       "      <td>2000</td>\n",
       "      <td>Y</td>\n",
       "      <td>N</td>\n",
       "      <td>N</td>\n",
       "      <td>N</td>\n",
       "      <td>N</td>\n",
       "      <td>N</td>\n",
       "      <td>...</td>\n",
       "      <td>0</td>\n",
       "      <td>27</td>\n",
       "      <td>53</td>\n",
       "      <td>0</td>\n",
       "      <td>0</td>\n",
       "      <td>0</td>\n",
       "      <td>0</td>\n",
       "      <td>0</td>\n",
       "      <td>0</td>\n",
       "      <td>0</td>\n",
       "    </tr>\n",
       "    <tr>\n",
       "      <th>5568</th>\n",
       "      <td>352B</td>\n",
       "      <td>CANBERRA RD</td>\n",
       "      <td>14</td>\n",
       "      <td>2000</td>\n",
       "      <td>Y</td>\n",
       "      <td>N</td>\n",
       "      <td>N</td>\n",
       "      <td>N</td>\n",
       "      <td>N</td>\n",
       "      <td>N</td>\n",
       "      <td>...</td>\n",
       "      <td>0</td>\n",
       "      <td>27</td>\n",
       "      <td>53</td>\n",
       "      <td>0</td>\n",
       "      <td>0</td>\n",
       "      <td>0</td>\n",
       "      <td>0</td>\n",
       "      <td>0</td>\n",
       "      <td>0</td>\n",
       "      <td>0</td>\n",
       "    </tr>\n",
       "    <tr>\n",
       "      <th>5569</th>\n",
       "      <td>352C</td>\n",
       "      <td>CANBERRA RD</td>\n",
       "      <td>14</td>\n",
       "      <td>2000</td>\n",
       "      <td>Y</td>\n",
       "      <td>N</td>\n",
       "      <td>N</td>\n",
       "      <td>N</td>\n",
       "      <td>N</td>\n",
       "      <td>N</td>\n",
       "      <td>...</td>\n",
       "      <td>0</td>\n",
       "      <td>26</td>\n",
       "      <td>65</td>\n",
       "      <td>0</td>\n",
       "      <td>0</td>\n",
       "      <td>0</td>\n",
       "      <td>0</td>\n",
       "      <td>0</td>\n",
       "      <td>0</td>\n",
       "      <td>0</td>\n",
       "    </tr>\n",
       "  </tbody>\n",
       "</table>\n",
       "<p>6 rows × 24 columns</p>\n",
       "</div>"
      ],
      "text/plain": [
       "     blk_no       street  max_floor_lvl  year_completed residential  \\\n",
       "5550   351B  CANBERRA RD             14            2000           Y   \n",
       "5552   351C  CANBERRA RD             14            2000           Y   \n",
       "5554   351D  CANBERRA RD             14            2000           Y   \n",
       "5567   352A  CANBERRA RD             14            2000           Y   \n",
       "5568   352B  CANBERRA RD             14            2000           Y   \n",
       "5569   352C  CANBERRA RD             14            2000           Y   \n",
       "\n",
       "     commercial market_hawker miscellaneous multistorey_carpark  \\\n",
       "5550          N             N             N                   N   \n",
       "5552          N             N             N                   N   \n",
       "5554          N             N             N                   N   \n",
       "5567          N             N             N                   N   \n",
       "5568          N             N             N                   N   \n",
       "5569          N             N             N                   N   \n",
       "\n",
       "     precinct_pavilion  ... 3room_sold  4room_sold  5room_sold  exec_sold  \\\n",
       "5550                 N  ...          0          27          53          0   \n",
       "5552                 N  ...          0          26          52          0   \n",
       "5554                 N  ...          0           0           0         78   \n",
       "5567                 N  ...          0          27          53          0   \n",
       "5568                 N  ...          0          27          53          0   \n",
       "5569                 N  ...          0          26          65          0   \n",
       "\n",
       "      multigen_sold  studio_apartment_sold  1room_rental  2room_rental  \\\n",
       "5550              0                      0             0             0   \n",
       "5552              0                      0             0             0   \n",
       "5554              0                      0             0             0   \n",
       "5567              0                      0             0             0   \n",
       "5568              0                      0             0             0   \n",
       "5569              0                      0             0             0   \n",
       "\n",
       "      3room_rental  other_room_rental  \n",
       "5550             0                  0  \n",
       "5552             0                  0  \n",
       "5554             0                  0  \n",
       "5567             0                  0  \n",
       "5568             0                  0  \n",
       "5569             0                  0  \n",
       "\n",
       "[6 rows x 24 columns]"
      ]
     },
     "execution_count": 37,
     "metadata": {},
     "output_type": "execute_result"
    }
   ],
   "source": [
    "# check out similar blocks within the same group\n",
    "i = 292\n",
    "df0000[(df0000['year_completed'] == df.loc[i,\"year_completed\"])&(df0000['street'] == df.loc[i,'street'])&(df0000['residential'] == 'Y')]"
   ]
  },
  {
   "cell_type": "markdown",
   "metadata": {},
   "source": [
    "<h2> The end (no more python codes for other parts of report)</h2>"
   ]
  },
  {
   "cell_type": "markdown",
   "metadata": {},
   "source": [
    "<h2>5. Conclusion and expansion</h2>\n",
    "<p>So far, what I did in this report is just a first step in building a complete recommendation system. Clustering those HDB blocks helps potential property demanders to have a basic review of local HDB market. But individuals’ demand differs from person to person. A customized filter system is also needed to target the perfect HDB.  Therefore, my plan is to create an app (by using python GUI package PyQT) with the clustering results we already got, and the existed data is also needed to create the filter interface. In apple store, there is currently no such an app to give Singapore residents guidelines like this. \n",
    "Besides HDB data, I also consider in the future build a whole property system by adding condo data, even though it only owns 20% of the market share. Because those condos are, in some cases, substitutions of HDB blocks that build in after year 2000 (both in better living condition and higher rentals than the average HDB). \n",
    "</p>"
   ]
  },
  {
   "cell_type": "code",
   "execution_count": null,
   "metadata": {},
   "outputs": [],
   "source": []
  }
 ],
 "metadata": {
  "kernelspec": {
   "display_name": "Python 3",
   "language": "python",
   "name": "python3"
  },
  "language_info": {
   "codemirror_mode": {
    "name": "ipython",
    "version": 3
   },
   "file_extension": ".py",
   "mimetype": "text/x-python",
   "name": "python",
   "nbconvert_exporter": "python",
   "pygments_lexer": "ipython3",
   "version": "3.6.8"
  }
 },
 "nbformat": 4,
 "nbformat_minor": 2
}
